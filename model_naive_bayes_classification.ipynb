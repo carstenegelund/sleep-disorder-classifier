{
 "cells": [
  {
   "cell_type": "markdown",
   "metadata": {},
   "source": [
    "<p style=\"font-weight:bold; letter-spacing: 2px; color:#F5F5DC; font-size:140%; text-align:left; max-width: 1050px; padding: 10px; border-bottom: 3px solid #D2B48C\"> Naive Bayes Classification</p>"
   ]
  },
  {
   "cell_type": "markdown",
   "metadata": {},
   "source": [
    "*Import Libraries*"
   ]
  },
  {
   "cell_type": "code",
   "execution_count": 131,
   "metadata": {},
   "outputs": [],
   "source": [
    "# import custom classes, functions and variables. Reload file in to memory on cell excution.\n",
    "import importlib\n",
    "import settings\n",
    "importlib.reload(settings)\n",
    "\n",
    "# import data frameworks\n",
    "import pandas as pd\n",
    "import numpy as np\n",
    "\n",
    "# import viz\n",
    "import matplotlib.pyplot as plt\n",
    "import seaborn as sns\n",
    "\n",
    "# import ML\n",
    "from sklearn.model_selection import train_test_split\n",
    "from sklearn.pipeline import Pipeline\n",
    "from imblearn.pipeline import Pipeline as Pipeline_imb\n",
    "from sklearn.compose import ColumnTransformer\n",
    "from sklearn.preprocessing import OrdinalEncoder\n",
    "from sklearn.naive_bayes import CategoricalNB\n",
    "\n",
    "from sklearn.model_selection import RepeatedStratifiedKFold\n",
    "from sklearn.model_selection import cross_val_score\n",
    "from sklearn.model_selection import GridSearchCV\n",
    "from sklearn.metrics import accuracy_score, confusion_matrix, classification_report\n",
    "from sklearn.metrics import roc_curve, auc\n",
    "import statsmodels.api as sm\n",
    "from sklearn.base import BaseEstimator, TransformerMixin # for custom classes\n",
    "from imblearn.over_sampling import SMOTENC\n",
    "\n",
    "\n",
    "# import others\n",
    "import os\n",
    "import pickle"
   ]
  },
  {
   "cell_type": "markdown",
   "metadata": {},
   "source": [
    "*Import data from initial EDA*"
   ]
  },
  {
   "cell_type": "code",
   "execution_count": 132,
   "metadata": {},
   "outputs": [
    {
     "name": "stdout",
     "output_type": "stream",
     "text": [
      "df loaded\n"
     ]
    }
   ],
   "source": [
    "df = pd.read_csv(os.path.join(settings.DATA_EDA_DIR, settings.DATA_EDA_FILE), sep=\",\")\n",
    "if len(df) > 0:\n",
    "    print(\"df loaded\")"
   ]
  },
  {
   "cell_type": "markdown",
   "metadata": {},
   "source": [
    "*Binning numerical features*"
   ]
  },
  {
   "cell_type": "code",
   "execution_count": 133,
   "metadata": {},
   "outputs": [
    {
     "data": {
      "text/plain": [
       "Unique Values    [25-29, 30-34, 35-39, 40-44, 45-49, 50-54, 55-59]\n",
       "Name: Age Bin, dtype: object"
      ]
     },
     "execution_count": 133,
     "metadata": {},
     "output_type": "execute_result"
    }
   ],
   "source": [
    "# Bin age to new column and drop original column\n",
    "df.loc[:,'Age Bin'] = pd.cut(df.loc[:,'Age'], \n",
    "[0, 5, 10, 15, 20, 25, 30, 35, 40, 45, 50, 55, 60, 65, 70, 75, 80, 85, 90, 95, 100, float('inf')], \n",
    "labels=['0-4', '5-9', '10-15', '10-19', '20-24', '25-29', '30-34', '35-39', '40-44', '45-49', '50-54', '55-59', '60-64', '65-69', '70-74', '75-79', '80-84', '85-89', '90-94', '95-99', '>100']).astype(\"object\")\n",
    "df = df.drop(\"Age\", axis=1)\n",
    "# check new values in consolidated column\n",
    "settings.examine_values(df).loc[\"Age Bin\",:]"
   ]
  },
  {
   "cell_type": "code",
   "execution_count": 134,
   "metadata": {},
   "outputs": [
    {
     "data": {
      "text/plain": [
       "Unique Values    [6.0-6.4, 5.5-5.9, 7.5-7.9, 7.0-7.4, 6.5-6.9, 8.0-8.4]\n",
       "Name: Sleep Duration Bin, dtype: object"
      ]
     },
     "execution_count": 134,
     "metadata": {},
     "output_type": "execute_result"
    }
   ],
   "source": [
    "# Bin sleep duration to new column and drop original column\n",
    "df.loc[:,'Sleep Duration Bin'] = pd.cut(df.loc[:,'Sleep Duration'], \n",
    "[0, 4, 4.5, 5, 5.5, 6, 6.5, 7, 7.5, 8, 8.5, 9, 9.5, 10, float('inf')], \n",
    "labels=['<4', '4.0-4.4', '4.5-4.9', '5.0-5.4', '5.5-5.9', '6.0-6.4', '6.5-6.9', '7.0-7.4', '7.5-7.9', '8.0-8.4', '8.5-8.9', '9.0-9.4', '9.5-9.9', '>10']).astype(\"object\")\n",
    "df = df.drop(\"Sleep Duration\", axis=1)\n",
    "# check new values in consolidated column\n",
    "settings.examine_values(df).loc[\"Sleep Duration Bin\",:]"
   ]
  },
  {
   "cell_type": "code",
   "execution_count": 135,
   "metadata": {},
   "outputs": [
    {
     "data": {
      "text/plain": [
       "Unique Values    [40-49, 50-59, 20-29, 30-39, 70-79, 60-69, 80-89]\n",
       "Name: Physical Activity Level Bin, dtype: object"
      ]
     },
     "execution_count": 135,
     "metadata": {},
     "output_type": "execute_result"
    }
   ],
   "source": [
    "# Bin physical activity level to new column and drop original column\n",
    "df.loc[:,'Physical Activity Level Bin'] = pd.cut(df.loc[:,'Physical Activity Level'], \n",
    "[0, 10, 20, 30, 40, 50, 60, 70, 80, 90, 100, float('inf')], \n",
    "labels=['0-9', '10-19', '20-29', '30-39', '40-49', '50-59', '60-69', '70-79', '80-89', '90-99', '>100']).astype(\"object\")\n",
    "df = df.drop(\"Physical Activity Level\", axis=1)\n",
    "# check new values in consolidated column\n",
    "settings.examine_values(df).loc[\"Physical Activity Level Bin\",:]"
   ]
  },
  {
   "cell_type": "code",
   "execution_count": 136,
   "metadata": {},
   "outputs": [
    {
     "data": {
      "text/plain": [
       "Unique Values    [75-79, 70-74, 80-84, 65-69, 60-64, 85-89]\n",
       "Name: Heart Rate Bin, dtype: object"
      ]
     },
     "execution_count": 136,
     "metadata": {},
     "output_type": "execute_result"
    }
   ],
   "source": [
    "# Bin heart rate to new column and drop original column\n",
    "df.loc[:,'Heart Rate Bin'] = pd.cut(df.loc[:,'Heart Rate'], \n",
    "[0, 40, 45, 50, 55, 60, 65, 70, 75, 80, 85, 90, 95, 100, float('inf')], \n",
    "labels=['<40', '40-44', '45-49', '50-54', '55-59', '60-64', '65-69', '70-74', '75-79', '80-84', '85-89', '90-94', '95-99', '>100']).astype(\"object\")\n",
    "df = df.drop(\"Heart Rate\", axis=1)\n",
    "# check new values in consolidated column\n",
    "settings.examine_values(df).loc[\"Heart Rate Bin\",:]"
   ]
  },
  {
   "cell_type": "code",
   "execution_count": 137,
   "metadata": {},
   "outputs": [
    {
     "data": {
      "text/plain": [
       "Unique Values    [4000-4499, 9500-9999, <3000, 3000-3499, 7500-7999, 3500-3999, 6500-6999, 4500-4999, 5000-5499, 5500-5999, 7000-7499, 6000-6499]\n",
       "Name: Daily Steps Bin, dtype: object"
      ]
     },
     "execution_count": 137,
     "metadata": {},
     "output_type": "execute_result"
    }
   ],
   "source": [
    "# Bin daily steps to new column and drop original column\n",
    "df.loc[:,'Daily Steps Bin'] = pd.cut(df.loc[:,'Daily Steps'], \n",
    "[0, 3000, 3500, 4000, 4500, 5000, 5500, 6000, 6500, 7000, 7500, 8000, 8500, 9000, 9500, 100000, float('inf')], \n",
    "labels=['<3000', '3000-3499', '3500-3999', '4000-4499', '4500-4999', '5000-5499', '5500-5999', '6000-6499', '6500-6999', '7000-7499', '7500-7999', '8000-8499', '8500-8999', '9000-9499', '9500-9999', '>100']).astype(\"object\")\n",
    "df = df.drop(\"Daily Steps\", axis=1)\n",
    "# check new values in consolidated column\n",
    "settings.examine_values(df).loc[\"Daily Steps Bin\",:]"
   ]
  },
  {
   "cell_type": "markdown",
   "metadata": {},
   "source": [
    "*Split data and prepare labels*"
   ]
  },
  {
   "cell_type": "code",
   "execution_count": 148,
   "metadata": {},
   "outputs": [],
   "source": [
    "ALL_FEATURES = ['Gender', 'Occupation', 'Stress Level', 'BMI Category', 'Blood Pressure Category', 'Age Bin',\n",
    "       'Sleep Duration Bin', 'Quality of Sleep', 'Physical Activity Level Bin', 'Heart Rate Bin', 'Daily Steps Bin']\n",
    "\n",
    "X = df[ALL_FEATURES].astype(str)\n",
    "y = df[settings.LABEL].astype(str)\n",
    "X_train, X_test, y_train, y_test = train_test_split(X, y, test_size=0.3, random_state=43, stratify=y)"
   ]
  },
  {
   "cell_type": "code",
   "execution_count": 149,
   "metadata": {},
   "outputs": [],
   "source": [
    "# Encode y vector \n",
    "map = {\"None\":0, \"Sleep Apnea\":1, \"Insomnia\":2}\n",
    "# apply mapping function\n",
    "settings.column_mapper(y_train, \"Sleep Disorder\", map)\n",
    "settings.column_mapper(y_test, \"Sleep Disorder\", map)"
   ]
  },
  {
   "cell_type": "code",
   "execution_count": 150,
   "metadata": {},
   "outputs": [],
   "source": [
    "# reshape labels to 1-D array (vector) \n",
    "y_train, y_test = y_train.values.reshape(-1), y_test.values.reshape(-1)"
   ]
  },
  {
   "cell_type": "code",
   "execution_count": 151,
   "metadata": {},
   "outputs": [
    {
     "name": "stdout",
     "output_type": "stream",
     "text": [
      "<class 'pandas.core.frame.DataFrame'>\n",
      "Int64Index: 261 entries, 19 to 95\n",
      "Data columns (total 11 columns):\n",
      " #   Column                       Non-Null Count  Dtype \n",
      "---  ------                       --------------  ----- \n",
      " 0   Gender                       261 non-null    object\n",
      " 1   Occupation                   261 non-null    object\n",
      " 2   Stress Level                 261 non-null    object\n",
      " 3   BMI Category                 261 non-null    object\n",
      " 4   Blood Pressure Category      261 non-null    object\n",
      " 5   Age Bin                      261 non-null    object\n",
      " 6   Sleep Duration Bin           261 non-null    object\n",
      " 7   Quality of Sleep             261 non-null    object\n",
      " 8   Physical Activity Level Bin  261 non-null    object\n",
      " 9   Heart Rate Bin               261 non-null    object\n",
      " 10  Daily Steps Bin              261 non-null    object\n",
      "dtypes: object(11)\n",
      "memory usage: 24.5+ KB\n"
     ]
    }
   ],
   "source": [
    "X_train.info()"
   ]
  },
  {
   "cell_type": "markdown",
   "metadata": {},
   "source": [
    "*Preprocess steps*"
   ]
  },
  {
   "cell_type": "code",
   "execution_count": 152,
   "metadata": {},
   "outputs": [
    {
     "data": {
      "text/html": [
       "<div>\n",
       "<style scoped>\n",
       "    .dataframe tbody tr th:only-of-type {\n",
       "        vertical-align: middle;\n",
       "    }\n",
       "\n",
       "    .dataframe tbody tr th {\n",
       "        vertical-align: top;\n",
       "    }\n",
       "\n",
       "    .dataframe thead th {\n",
       "        text-align: right;\n",
       "    }\n",
       "</style>\n",
       "<table border=\"1\" class=\"dataframe\">\n",
       "  <thead>\n",
       "    <tr style=\"text-align: right;\">\n",
       "      <th></th>\n",
       "      <th>Unique Values</th>\n",
       "    </tr>\n",
       "  </thead>\n",
       "  <tbody>\n",
       "    <tr>\n",
       "      <th>Gender</th>\n",
       "      <td>[1.0, 0.0]</td>\n",
       "    </tr>\n",
       "    <tr>\n",
       "      <th>Occupation</th>\n",
       "      <td>[1.0, 0.0, 4.0, 2.0, 7.0, 3.0, 6.0, 5.0]</td>\n",
       "    </tr>\n",
       "    <tr>\n",
       "      <th>BMI Category</th>\n",
       "      <td>[0.0, 1.0]</td>\n",
       "    </tr>\n",
       "    <tr>\n",
       "      <th>Blood Pressure Category</th>\n",
       "      <td>[0.0, 3.0, 2.0, 1.0]</td>\n",
       "    </tr>\n",
       "    <tr>\n",
       "      <th>Age Bin</th>\n",
       "      <td>[0.0, 2.0, 1.0, 6.0, 4.0, 3.0, 5.0]</td>\n",
       "    </tr>\n",
       "    <tr>\n",
       "      <th>Sleep Duration Bin</th>\n",
       "      <td>[4.0, 5.0, 1.0, 0.0, 3.0, 2.0]</td>\n",
       "    </tr>\n",
       "    <tr>\n",
       "      <th>Physical Activity Level Bin</th>\n",
       "      <td>[5.0, 6.0, 0.0, 2.0, 3.0, 4.0, 1.0]</td>\n",
       "    </tr>\n",
       "    <tr>\n",
       "      <th>Heart Rate Bin</th>\n",
       "      <td>[1.0, 2.0, 4.0, 0.0, 3.0, 5.0]</td>\n",
       "    </tr>\n",
       "    <tr>\n",
       "      <th>Daily Steps Bin</th>\n",
       "      <td>[9.0, 8.0, 7.0, 10.0, 3.0, 11.0, 5.0, 4.0, 6.0, 1.0, 2.0, 0.0]</td>\n",
       "    </tr>\n",
       "    <tr>\n",
       "      <th>Stress Level</th>\n",
       "      <td>[6, 3, 8, 5, 7, 4]</td>\n",
       "    </tr>\n",
       "    <tr>\n",
       "      <th>Quality of Sleep</th>\n",
       "      <td>[7, 9, 6, 8, 4, 5]</td>\n",
       "    </tr>\n",
       "  </tbody>\n",
       "</table>\n",
       "</div>"
      ],
      "text/plain": [
       "                                                                              Unique Values\n",
       "Gender                                                                           [1.0, 0.0]\n",
       "Occupation                                         [1.0, 0.0, 4.0, 2.0, 7.0, 3.0, 6.0, 5.0]\n",
       "BMI Category                                                                     [0.0, 1.0]\n",
       "Blood Pressure Category                                                [0.0, 3.0, 2.0, 1.0]\n",
       "Age Bin                                                 [0.0, 2.0, 1.0, 6.0, 4.0, 3.0, 5.0]\n",
       "Sleep Duration Bin                                           [4.0, 5.0, 1.0, 0.0, 3.0, 2.0]\n",
       "Physical Activity Level Bin                             [5.0, 6.0, 0.0, 2.0, 3.0, 4.0, 1.0]\n",
       "Heart Rate Bin                                               [1.0, 2.0, 4.0, 0.0, 3.0, 5.0]\n",
       "Daily Steps Bin              [9.0, 8.0, 7.0, 10.0, 3.0, 11.0, 5.0, 4.0, 6.0, 1.0, 2.0, 0.0]\n",
       "Stress Level                                                             [6, 3, 8, 5, 7, 4]\n",
       "Quality of Sleep                                                         [7, 9, 6, 8, 4, 5]"
      ]
     },
     "execution_count": 152,
     "metadata": {},
     "output_type": "execute_result"
    }
   ],
   "source": [
    "# Define columns for encoding transformation\n",
    "ALL_FEATURES_ENCODE = ALL_FEATURES.copy()\n",
    "ALL_FEATURES_ENCODE.remove(\"Stress Level\")\n",
    "ALL_FEATURES_ENCODE.remove(\"Quality of Sleep\")\n",
    "\n",
    "# Create a column transformer for label encoding\n",
    "column_trans = ColumnTransformer(\n",
    "    transformers=[\n",
    "        ('encoder', OrdinalEncoder(), ALL_FEATURES_ENCODE)\n",
    "    ],\n",
    "    remainder='passthrough')\n",
    "\n",
    "transformed_X_train_array = column_trans.fit_transform(X_train)\n",
    "transformed_X_test_array = column_trans.transform(X_test)\n",
    "\n",
    "# Add back removed columns for the df\n",
    "ALL_FEATURES_ENCODE.extend([\"Stress Level\", \"Quality of Sleep\"])\n",
    "\n",
    "# Convert to df as a sense check. Use only for interpretibility before using for pipeline. \n",
    "transformed_X_train_df = pd.DataFrame(transformed_X_train_array, columns= ALL_FEATURES_ENCODE)\n",
    "transformed_X_test_df = pd.DataFrame(transformed_X_test_array, columns= ALL_FEATURES_ENCODE)\n",
    "settings.examine_values(transformed_X_train_df)\n"
   ]
  },
  {
   "cell_type": "markdown",
   "metadata": {},
   "source": [
    "*Create pipeline and base model*"
   ]
  },
  {
   "cell_type": "code",
   "execution_count": null,
   "metadata": {},
   "outputs": [
    {
     "data": {
      "text/plain": [
       "'Mean CV Train Accuracy: 90.9265 %'"
      ]
     },
     "metadata": {},
     "output_type": "display_data"
    },
    {
     "data": {
      "text/plain": [
       "'Test Accuracy:88.4956 %'"
      ]
     },
     "metadata": {},
     "output_type": "display_data"
    }
   ],
   "source": [
    "# create model\n",
    "model_nb = CategoricalNB()\n",
    "\n",
    "# create sklearn pipeline\n",
    "pipeline_mlr = settings.create_pipeline([\"preprocess\", column_trans], [\"multinomial_logistic_regression\", model_mlr])\n",
    "\n",
    "# create cross validation object for cross_val_score\n",
    "cv_mlr = RepeatedStratifiedKFold(n_splits=5, n_repeats=3, random_state=42)\n",
    "\n",
    "# run training cross validation on pipeline \n",
    "cv_scores = cross_val_score(pipeline_mlr, X_train, y_train, scoring='accuracy', cv=cv_mlr)\n",
    "display(f'Mean CV Train Accuracy: {np.round(np.mean(cv_scores), 6)*100} %')\n",
    "\n",
    "# fit pipeline and produce test score \n",
    "pipeline_mlr.fit(X_train, y_train)\n",
    "display(f'Test Accuracy:{np.round(pipeline_mlr.score(X_test, y_test), 6)*100} %')"
   ]
  }
 ],
 "metadata": {
  "kernelspec": {
   "display_name": "base",
   "language": "python",
   "name": "python3"
  },
  "language_info": {
   "codemirror_mode": {
    "name": "ipython",
    "version": 3
   },
   "file_extension": ".py",
   "mimetype": "text/x-python",
   "name": "python",
   "nbconvert_exporter": "python",
   "pygments_lexer": "ipython3",
   "version": "3.9.13"
  },
  "orig_nbformat": 4
 },
 "nbformat": 4,
 "nbformat_minor": 2
}
