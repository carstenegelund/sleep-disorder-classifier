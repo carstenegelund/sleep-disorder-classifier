{
 "cells": [
  {
   "cell_type": "markdown",
   "metadata": {},
   "source": [
    "<p style=\"font-weight:bold; letter-spacing: 2px; color:#F5F5DC; font-size:140%; text-align:left; max-width: 1050px; padding: 10px; border-bottom: 3px solid #D2B48C\"> Preprocessing on Sleep Disorder Prediction</p>"
   ]
  },
  {
   "cell_type": "code",
   "execution_count": null,
   "metadata": {},
   "outputs": [],
   "source": [
    "# Encode binary category columns \n",
    "binary_cols = ['Gender', 'BMI Category']\n",
    "le_dict = {}\n",
    "for binary_col in binary_cols:\n",
    "    le_dict[binary_col] = LabelEncoder()\n",
    "    X_train[binary_col] = le_dict[binary_col].fit_transform(X_train[binary_col])\n",
    "    X_test[binary_col] = le_dict[binary_col].transform(X_test[binary_col])"
   ]
  },
  {
   "cell_type": "code",
   "execution_count": null,
   "metadata": {},
   "outputs": [],
   "source": [
    "# Encode multi-category columns\n",
    "multi_cat_cols = ['Blood Pressure Category', 'Occupation']\n",
    "X_train = pd.get_dummies(X_train, columns=multi_cat_cols, drop_first=True)\n",
    "X_test = pd.get_dummies(X_test, columns=multi_cat_cols, drop_first=True)\n",
    "X_test = settings.fix_columns(X_test, X_train.columns)"
   ]
  },
  {
   "cell_type": "code",
   "execution_count": null,
   "metadata": {},
   "outputs": [],
   "source": [
    "# Scale numerical columns \n",
    "scale_cols = ['Age', 'Sleep Duration', 'Quality of Sleep', 'Physical Activity Level', 'Stress Level', 'Heart Rate', 'Daily Steps']\n",
    "ss_dict = {}\n",
    "for scale_col in scale_cols:\n",
    "    ss_dict[scale_col] = StandardScaler()\n",
    "    X_train[scale_col] = ss_dict[scale_col].fit_transform(X_train[[scale_col]])\n",
    "    X_test[scale_col] = ss_dict[scale_col].transform(X_test[[scale_col]])\n"
   ]
  }
 ],
 "metadata": {
  "language_info": {
   "name": "python"
  },
  "orig_nbformat": 4
 },
 "nbformat": 4,
 "nbformat_minor": 2
}
