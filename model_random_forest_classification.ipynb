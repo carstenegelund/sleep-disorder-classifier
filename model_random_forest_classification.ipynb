{
 "cells": [
  {
   "cell_type": "markdown",
   "metadata": {},
   "source": [
    "<p style=\"font-weight:bold; letter-spacing: 2px; color:#F5F5DC; font-size:140%; text-align:left; max-width: 1050px; padding: 10px; border-bottom: 3px solid #D2B48C\"> Random Forest Classification</p>"
   ]
  },
  {
   "cell_type": "markdown",
   "metadata": {},
   "source": [
    "*Approach*\n",
    "1. Load data\n",
    "2. Split data\n",
    "3. Create ColumnTransformer w/ ohe (so scaling needed)\n",
    "4. Create RandomForestClassifier w/ default\n",
    "5. Create pipeline w/ ColumnTransformer & RandomForestClassifier\n",
    "6. Create and evaluate cross_val_score on pipeline\n",
    "7. Compare train and test scores for baseline model (overfitting? Train likely ~ 100%)\n",
    "8. Visualise affect of different seeds on baseline model.\n",
    "9. Create GridSearchCV with params \n",
    "10. Fit and evaluate best hyperparameters\n",
    "11. Plot classification_report and confusion_matrix\n",
    "12. Evaluate affect of balancing the class with smote or with class_weight=\"balanced\"\n",
    "13. ????Visualise the best performing model with sklearn.tree.plot_tree \n",
    "14. Select k most important features and evaluate re-run with just those\n"
   ]
  },
  {
   "cell_type": "markdown",
   "metadata": {},
   "source": [
    "*Import Libraries*"
   ]
  },
  {
   "cell_type": "code",
   "execution_count": 2,
   "metadata": {},
   "outputs": [],
   "source": [
    "# import custom classes, functions and variables. Reload file in to memory on cell excution.\n",
    "import importlib\n",
    "import settings\n",
    "importlib.reload(settings)\n",
    "\n",
    "# import data frameworks\n",
    "import pandas as pd\n",
    "import numpy as np\n",
    "\n",
    "# import viz\n",
    "import matplotlib.pyplot as plt\n",
    "import seaborn as sns\n",
    "\n",
    "# import ML\n",
    "from sklearn.datasets import make_classification\n",
    "from sklearn.model_selection import train_test_split\n",
    "from sklearn.pipeline import Pipeline\n",
    "from imblearn.pipeline import Pipeline as Pipeline_imb\n",
    "from sklearn.compose import ColumnTransformer\n",
    "from sklearn.preprocessing import OneHotEncoder, StandardScaler\n",
    "from sklearn.ensemble import RandomForestClassifier\n",
    "from sklearn.model_selection import RepeatedStratifiedKFold\n",
    "from sklearn.model_selection import cross_val_score\n",
    "from sklearn.model_selection import GridSearchCV\n",
    "from sklearn.metrics import accuracy_score, confusion_matrix, classification_report\n",
    "from sklearn.metrics import roc_curve, auc\n",
    "import statsmodels.api as sm\n",
    "from imblearn.over_sampling import SMOTENC\n",
    "\n",
    "\n",
    "# import others\n",
    "import os\n",
    "import pickle\n",
    "import warnings\n",
    "\n",
    "# Specific warning categories to be ignored\n",
    "warnings.filterwarnings(\"ignore\", category=DeprecationWarning)\n",
    "warnings.filterwarnings(\"ignore\", category=FutureWarning)"
   ]
  },
  {
   "cell_type": "markdown",
   "metadata": {},
   "source": [
    "*Import data from initial EDA*"
   ]
  },
  {
   "cell_type": "code",
   "execution_count": 3,
   "metadata": {},
   "outputs": [
    {
     "name": "stdout",
     "output_type": "stream",
     "text": [
      "df loaded\n"
     ]
    }
   ],
   "source": [
    "df = pd.read_csv(os.path.join(settings.DATA_EDA_DIR, settings.DATA_EDA_FILE), sep=\",\")\n",
    "if len(df) > 0:\n",
    "    print(\"df loaded\")"
   ]
  },
  {
   "cell_type": "markdown",
   "metadata": {},
   "source": [
    "*Split data and prepare labels*"
   ]
  },
  {
   "cell_type": "code",
   "execution_count": 4,
   "metadata": {},
   "outputs": [],
   "source": [
    "ALL_FEATURES = ['Gender', 'Age', 'Occupation', 'Sleep Duration', 'Quality of Sleep', \n",
    "                'Physical Activity Level', 'Stress Level', 'BMI Category', 'Heart Rate', \n",
    "                'Daily Steps', 'Blood Pressure Category']\n",
    "X = df[ALL_FEATURES]\n",
    "y = df[settings.LABEL]\n",
    "X_train, X_test, y_train, y_test = train_test_split(X, y, test_size=0.3, random_state=42, stratify=y)\n",
    "\n",
    "# Encode y vector \n",
    "map = {\"None\":0, \"Sleep Apnea\":1, \"Insomnia\":2}\n",
    "# apply mapping function\n",
    "settings.column_mapper(y_train, \"Sleep Disorder\", map)\n",
    "settings.column_mapper(y_test, \"Sleep Disorder\", map)\n",
    "\n",
    "# # check new values in consolidated column\n",
    "# display(settings.examine_values(y_train).loc[\"Sleep Disorder\",:])\n",
    "# display(settings.examine_values(y_train).loc[\"Sleep Disorder\",:])\n",
    "\n",
    "# reshape labels to 1-D array (vector) \n",
    "y_train, y_test = y_train.values.reshape(-1), y_test.values.reshape(-1)"
   ]
  },
  {
   "cell_type": "markdown",
   "metadata": {},
   "source": [
    "*Preprocess steps*"
   ]
  },
  {
   "cell_type": "code",
   "execution_count": 5,
   "metadata": {},
   "outputs": [],
   "source": [
    "# Create a column transformer for ohe and scaling\n",
    "column_trans = ColumnTransformer(\n",
    "    transformers=[\n",
    "        ('onehot', OneHotEncoder(handle_unknown='ignore'), X_train.select_dtypes(include=['object']).columns)\n",
    "    ],\n",
    "    remainder='passthrough')\n",
    "\n",
    "transformed_X_train_array = column_trans.fit_transform(X_train)\n",
    "transformed_X_test_array = column_trans.transform(X_test)\n",
    "\n",
    "# Convert to df as a sense check. Use only for interpretibility before using for pipeline. \n",
    "transformed_X_train_df = settings.convert_transformed_features_to_df(column_trans, transformed_X_train_array)\n",
    "transformed_X_test_df = settings.convert_transformed_features_to_df(column_trans, transformed_X_test_array)\n",
    "\n",
    "# Check ohe and scaled datasets\n",
    "# display(\"train: check for dummy encoded columns and scaled values (mean 0 and std 1)\",transformed_X_train_df.shape, transformed_X_train_df.describe().loc[[\"mean\", \"std\"],:])\n",
    "# display(\"test: check for same dummy encoded columns and scaled values (mean close to 0 and std close to 1)\",transformed_X_test_df.shape, transformed_X_test_df.describe().loc[[\"mean\", \"std\"],:])"
   ]
  },
  {
   "cell_type": "markdown",
   "metadata": {},
   "source": [
    "*Create pipeline and base model*"
   ]
  },
  {
   "cell_type": "code",
   "execution_count": 6,
   "metadata": {},
   "outputs": [
    {
     "name": "stdout",
     "output_type": "stream",
     "text": [
      "Train Score: 90.100 %\n",
      "Mean CV Train Score: 81.2000 % ( +- 4.800 % )\n",
      "Test Score: 82.100 %\n"
     ]
    }
   ],
   "source": [
    "# create model\n",
    "model_rf = RandomForestClassifier(random_state=42)  \n",
    "                                                    # n_estimators = 100 [int]\n",
    "                                                    # criterion ='gini' [\"gini\", \"entropy\", \"log_loss\"]\n",
    "                                                    # splitter = 'best' [\"best\", \"random\"]\n",
    "                                                    # max_depth = None [int]\n",
    "                                                    # min_samples_split = 2 [int or float]\n",
    "                                                    # min_samples_leaf = 1 [int or float]\n",
    "                                                    # min_weight_fraction_leaf = 0.0 [float]\n",
    "                                                    # max_features = \"sqrt\" [int or float or \"auto\", \"sqrt\", \"log2\"]\n",
    "                                                    # --> random_state = None\n",
    "                                                    # max_leaf_nodes = None [int]\n",
    "                                                    # min_impurity_decrease = 0.0 [float]\n",
    "                                                    # class_weight = None [dict, list of dict or \"balanced\"]\n",
    "                                                    # ccp_alpha = 0.0 [float]\n",
    "                                                    # max_samples = None [int]\n",
    "\n",
    "# create sklearn pipeline\n",
    "pipeline_rf = settings.create_pipeline([\"preprocess\", column_trans], [\"decision_tree_classification\", model_rf])\n",
    "\n",
    "# create cross validation object for cross_val_score\n",
    "cv_rf = RepeatedStratifiedKFold(n_splits=5, n_repeats=3, random_state=42)\n",
    "\n",
    "# define custom scorer for this work: positive label (class 1 and 2) F1 score\n",
    "base_scorer = settings.CustomPositiveF1Scorer().scorer_function\n",
    "custom_scorer = settings.CustomPositiveF1Scorer().custom_scorer\n",
    "\n",
    "# run training cross validation on pipeline \n",
    "cv_scores = cross_val_score(pipeline_rf, X_train, y_train, scoring=custom_scorer, cv=cv_rf)\n",
    "\n",
    "settings.cross_val_summary(pipeline_rf, cv_scores, X_train, y_train, X_test, y_test, scorer=base_scorer)\n"
   ]
  },
  {
   "cell_type": "code",
   "execution_count": 8,
   "metadata": {},
   "outputs": [
    {
     "name": "stdout",
     "output_type": "stream",
     "text": [
      "\n",
      "Classification Report:\n",
      "               precision    recall  f1-score   support\n",
      "\n",
      "           0       0.98      0.97      0.98        66\n",
      "           1       0.83      0.79      0.81        24\n",
      "           2       0.80      0.87      0.83        23\n",
      "\n",
      "    accuracy                           0.91       113\n",
      "   macro avg       0.87      0.88      0.87       113\n",
      "weighted avg       0.91      0.91      0.91       113\n",
      "\n"
     ]
    },
    {
     "data": {
      "image/png": "[encoded data removed]",
      "text/plain": [
       "<Figure size 600x400 with 2 Axes>"
      ]
     },
     "metadata": {},
     "output_type": "display_data"
    }
   ],
   "source": [
    "pipeline_rf.fit(X_train, y_train)\n",
    "\n",
    "# Generate prediction and show classification report\n",
    "y_pred = pipeline_rf.predict(X_test)\n",
    "class_report = classification_report(y_test, y_pred)\n",
    "print(\"\\nClassification Report:\\n\", class_report)\n",
    "\n",
    "# Generate confusion matrix\n",
    "class_labels = [\"None\",\"Apnea\",\"Insomnia\"]\n",
    "conf_matrix = confusion_matrix(y_test, y_pred)\n",
    "\n",
    "settings.plot_conf_matrix(class_labels, conf_matrix)"
   ]
  },
  {
   "cell_type": "markdown",
   "metadata": {},
   "source": [
    "<div style=\"border-radius:10px; border:#DEB887 solid; padding: 15px; background-color: #FFFAF0; font-size:100%; text-align:left; max-width: 1050px; margin: 0 auto; color: #444444;\">\n",
    "\n",
    "<h3 align=\"left\"><font color='#DEB887'>💡 Insights:</font></h3>\n",
    "\n",
    "<ul>\n",
    "    <li>Decent baseline cross validated F1 score 81.2% and slightly higher test accuracy 82.1%. Both far below train accuracy at 90.1%: sign of overfitting.</li>\n",
    "    <li>High variation (slightly lower than other base models) in cross validated scores (4.8%)</li>\n",
    "    <li>Overall model accuracy is high at ~ 91%.</li>\n",
    "    <li>The model is struggling more than others to separate the positive classes at the baseline stage: model making more mistakes at misclassifying Apnea like the decision tree. Let's see if tuning can move some of the misclassifications in to their correct label (recall) without comprimising (class accuracy) precisoin further.\n",
    "</ul>\n",
    "</div>\n"
   ]
  },
  {
   "cell_type": "code",
   "execution_count": 9,
   "metadata": {},
   "outputs": [],
   "source": [
    "# Save baseline pipeline to file  \n",
    "settings.save_pipeline(\"best_random_forest_classification_pipeline.pkl\", pipeline_rf)"
   ]
  },
  {
   "cell_type": "markdown",
   "metadata": {},
   "source": [
    "*Hyperparam tuning*"
   ]
  },
  {
   "cell_type": "markdown",
   "metadata": {},
   "source": [
    "*Impurity and split method*"
   ]
  },
  {
   "cell_type": "code",
   "execution_count": null,
   "metadata": {},
   "outputs": [],
   "source": [
    "# set up param grid\n",
    "param_grid_rf = {\n",
    "    'decision_tree_classification__n_estimators': [10, 50, 100, 200, 500],\n",
    "    'decision_tree_classification__max_depth': np.arange(3, 11),\n",
    "    'decision_tree_classification__max_samples': np.arange(0.5, 1.0, 0.1),\n",
    "    'decision_tree_classification__max_features': ['sqrt', 'log2', None], \n",
    "}\n",
    "\n",
    "# Create and fit GridSearchCV object on train data\n",
    "grid_search_rf = GridSearchCV(pipeline_rf, param_grid=param_grid_rf, scoring=custom_scorer, cv=cv_rf, n_jobs=-1)\n",
    "grid_search_rf.fit(X_train, y_train)"
   ]
  },
  {
   "cell_type": "code",
   "execution_count": 11,
   "metadata": {},
   "outputs": [
    {
     "name": "stdout",
     "output_type": "stream",
     "text": [
      "Best Parameters:\n"
     ]
    },
    {
     "data": {
      "text/html": [
       "<div>\n",
       "<style scoped>\n",
       "    .dataframe tbody tr th:only-of-type {\n",
       "        vertical-align: middle;\n",
       "    }\n",
       "\n",
       "    .dataframe tbody tr th {\n",
       "        vertical-align: top;\n",
       "    }\n",
       "\n",
       "    .dataframe thead th {\n",
       "        text-align: right;\n",
       "    }\n",
       "</style>\n",
       "<table border=\"1\" class=\"dataframe\">\n",
       "  <thead>\n",
       "    <tr style=\"text-align: right;\">\n",
       "      <th></th>\n",
       "      <th>decision_tree_classification__max_depth</th>\n",
       "      <th>decision_tree_classification__max_features</th>\n",
       "      <th>decision_tree_classification__max_samples</th>\n",
       "      <th>decision_tree_classification__n_estimators</th>\n",
       "    </tr>\n",
       "  </thead>\n",
       "  <tbody>\n",
       "    <tr>\n",
       "      <th>0</th>\n",
       "      <td>4</td>\n",
       "      <td>sqrt</td>\n",
       "      <td>0.5</td>\n",
       "      <td>10</td>\n",
       "    </tr>\n",
       "  </tbody>\n",
       "</table>\n",
       "</div>"
      ],
      "text/plain": [
       "   decision_tree_classification__max_depth  \\\n",
       "0                                        4   \n",
       "\n",
       "  decision_tree_classification__max_features  \\\n",
       "0                                       sqrt   \n",
       "\n",
       "   decision_tree_classification__max_samples  \\\n",
       "0                                        0.5   \n",
       "\n",
       "   decision_tree_classification__n_estimators  \n",
       "0                                          10  "
      ]
     },
     "metadata": {},
     "output_type": "display_data"
    },
    {
     "name": "stdout",
     "output_type": "stream",
     "text": [
      "---------------------\n",
      "Using best parameters\n",
      "---------------------\n",
      "Train Score: 86.400 %\n",
      "Mean CV Train Score: 83.200 % ( +- 5.300 % )\n",
      "Test Score: 86.300 %\n"
     ]
    }
   ],
   "source": [
    "settings.hyperparam_tune_summary(grid_search_rf, X_train, y_train, X_test, y_test, scorer=base_scorer)"
   ]
  },
  {
   "cell_type": "markdown",
   "metadata": {},
   "source": [
    "*Review metrics for hypertuned model*"
   ]
  },
  {
   "cell_type": "code",
   "execution_count": 25,
   "metadata": {},
   "outputs": [
    {
     "name": "stdout",
     "output_type": "stream",
     "text": [
      "Test Accuracy: 93.800 %\n",
      "\n",
      "Classification Report:\n",
      "               precision    recall  f1-score   support\n",
      "\n",
      "           0       0.98      0.98      0.98        66\n",
      "           1       0.84      0.88      0.86        24\n",
      "           2       0.91      0.87      0.89        23\n",
      "\n",
      "    accuracy                           0.94       113\n",
      "   macro avg       0.91      0.91      0.91       113\n",
      "weighted avg       0.94      0.94      0.94       113\n",
      "\n"
     ]
    },
    {
     "data": {
      "image/png": "[encoded data removed]",
      "text/plain": [
       "<Figure size 600x400 with 2 Axes>"
      ]
     },
     "metadata": {},
     "output_type": "display_data"
    }
   ],
   "source": [
    "# Print test accuracy\n",
    "pipeline_rf = grid_search_rf.best_estimator_\n",
    "test_accuracy = pipeline_rf.score(X_test, y_test)\n",
    "print('Test Accuracy:', settings.score_formatter(test_accuracy, 3))\n",
    "\n",
    "# Generate prediction and show classification report\n",
    "y_pred = pipeline_rf.predict(X_test)\n",
    "class_report = classification_report(y_test, y_pred)\n",
    "print(\"\\nClassification Report:\\n\", class_report)\n",
    "\n",
    "# Generate confusion matrix\n",
    "class_labels = [\"None\",\"Apnea\",\"Insomnia\"]\n",
    "conf_matrix = confusion_matrix(y_test, y_pred)\n",
    "\n",
    "settings.plot_conf_matrix(class_labels, conf_matrix)"
   ]
  },
  {
   "cell_type": "markdown",
   "metadata": {},
   "source": [
    "<div style=\"border-radius:10px; border:#DEB887 solid; padding: 15px; background-color: #FFFAF0; font-size:100%; text-align:left; max-width: 1050px; margin: 0 auto; color: #444444;\">\n",
    "\n",
    "<h3 align=\"left\"><font color='#DEB887'>💡 Insights:</font></h3>\n",
    "\n",
    "<ul>\n",
    "    <li>Model best at predicting None, with a very high precision and recall at 94%</li>\n",
    "    <li>Apnea has lower recall at 79% (5 incorrect out of test 24 instances) and high precision (86%)</li>\n",
    "    <li>Insomnia has high recall at 91% (2 incorrect out of 23 instances) and very similar precision to Apnea (86%)</li>\n",
    "</ul>\n",
    "</div>\n"
   ]
  }
 ],
 "metadata": {
  "kernelspec": {
   "display_name": "base",
   "language": "python",
   "name": "python3"
  },
  "language_info": {
   "codemirror_mode": {
    "name": "ipython",
    "version": 3
   },
   "file_extension": ".py",
   "mimetype": "text/x-python",
   "name": "python",
   "nbconvert_exporter": "python",
   "pygments_lexer": "ipython3",
   "version": "3.9.13"
  },
  "orig_nbformat": 4
 },
 "nbformat": 4,
 "nbformat_minor": 2
}
