{
 "cells": [
  {
   "cell_type": "markdown",
   "metadata": {},
   "source": [
    "<p style=\"font-weight:bold; letter-spacing: 2px; color:#F5F5DC; font-size:140%; text-align:left; max-width: 1050px; padding: 10px; border-bottom: 3px solid #D2B48C\"> Multinomial Regression</p>"
   ]
  },
  {
   "cell_type": "markdown",
   "metadata": {},
   "source": [
    "*Import Libraries*"
   ]
  },
  {
   "cell_type": "code",
   "execution_count": 13,
   "metadata": {},
   "outputs": [],
   "source": [
    "# import custom classes, functions and variables. Reload file in to memory on cell excution.\n",
    "import importlib\n",
    "import settings\n",
    "importlib.reload(settings)\n",
    "\n",
    "# import data frameworks\n",
    "import pandas as pd\n",
    "import numpy as np\n",
    "\n",
    "# import viz\n",
    "import matplotlib.pyplot as plt\n",
    "import seaborn as sns\n",
    "\n",
    "# import ML\n",
    "from sklearn.datasets import make_classification\n",
    "from sklearn.model_selection import train_test_split\n",
    "from sklearn.pipeline import Pipeline\n",
    "from imblearn.pipeline import Pipeline as Pipeline_imb\n",
    "from sklearn.compose import ColumnTransformer\n",
    "from sklearn.preprocessing import OneHotEncoder, StandardScaler\n",
    "from sklearn.linear_model import LogisticRegression\n",
    "from sklearn.model_selection import RepeatedStratifiedKFold\n",
    "from sklearn.model_selection import cross_val_score\n",
    "from sklearn.model_selection import GridSearchCV\n",
    "from sklearn.metrics import accuracy_score, confusion_matrix, classification_report\n",
    "from sklearn.metrics import roc_curve, auc\n",
    "import statsmodels.api as sm\n",
    "from sklearn.base import BaseEstimator, TransformerMixin # for custom classes\n",
    "from imblearn.over_sampling import SMOTENC\n",
    "\n",
    "\n",
    "# import others\n",
    "import os\n",
    "import pickle"
   ]
  },
  {
   "cell_type": "markdown",
   "metadata": {},
   "source": [
    "*Import data from initial EDA*"
   ]
  },
  {
   "cell_type": "code",
   "execution_count": 14,
   "metadata": {},
   "outputs": [
    {
     "name": "stdout",
     "output_type": "stream",
     "text": [
      "df loaded\n"
     ]
    }
   ],
   "source": [
    "df = pd.read_csv(os.path.join(settings.DATA_EDA_DIR, settings.DATA_EDA_FILE), sep=\",\")\n",
    "if len(df) > 0:\n",
    "    print(\"df loaded\")"
   ]
  },
  {
   "cell_type": "markdown",
   "metadata": {},
   "source": [
    "*Split data and prepare labels*"
   ]
  },
  {
   "cell_type": "code",
   "execution_count": 15,
   "metadata": {},
   "outputs": [],
   "source": [
    "ALL_FEATURES = ['Gender', 'Age', 'Occupation', 'Sleep Duration', 'Quality of Sleep', \n",
    "                'Physical Activity Level', 'Stress Level', 'BMI Category', 'Heart Rate', \n",
    "                'Daily Steps', 'Blood Pressure Category']\n",
    "X = df[ALL_FEATURES]\n",
    "y = df[settings.LABEL]\n",
    "X_train, X_test, y_train, y_test = train_test_split(X, y, test_size=0.3, random_state=43, stratify=y)"
   ]
  },
  {
   "cell_type": "code",
   "execution_count": 16,
   "metadata": {},
   "outputs": [],
   "source": [
    "# Encode y vector \n",
    "map = {\"None\":0, \"Sleep Apnea\":1, \"Insomnia\":2}\n",
    "# apply mapping function\n",
    "settings.column_mapper(y_train, \"Sleep Disorder\", map)\n",
    "settings.column_mapper(y_test, \"Sleep Disorder\", map)\n",
    "\n",
    "# check new values in consolidated column\n",
    "# display(settings.examine_values(y_train).loc[\"Sleep Disorder\",:])\n",
    "# display(settings.examine_values(y_train).loc[\"Sleep Disorder\",:])"
   ]
  },
  {
   "cell_type": "code",
   "execution_count": 17,
   "metadata": {},
   "outputs": [],
   "source": [
    "# reshape labels to 1-D array (vector) \n",
    "y_train, y_test = y_train.values.reshape(-1), y_test.values.reshape(-1)"
   ]
  },
  {
   "cell_type": "markdown",
   "metadata": {},
   "source": [
    "*Preprocess steps*"
   ]
  },
  {
   "cell_type": "code",
   "execution_count": 18,
   "metadata": {},
   "outputs": [],
   "source": [
    "# Create a column transformer for ohe and scaling\n",
    "column_trans = ColumnTransformer(\n",
    "    transformers=[\n",
    "        ('onehot', OneHotEncoder(handle_unknown='ignore'), X_train.select_dtypes(include=['object']).columns),\n",
    "        ('scale', StandardScaler(), X_train.select_dtypes(include=['float64', 'int64']).columns)\n",
    "    ],\n",
    "    remainder='passthrough')\n",
    "\n",
    "# Convert to df as a sense check. Use only for interpretibility before using for pipeline. \n",
    "transformed_X_train_df = settings.convert_transformed_features_to_df(column_trans, column_trans.fit_transform(X_train))\n",
    "transformed_X_test_df = settings.convert_transformed_features_to_df(column_trans, column_trans.transform(X_test))\n",
    "\n",
    "# Check ohe and scaled datasets\n",
    "# display(\"train: check for dummy encoded columns and scaled values (mean 0 and std 1)\",transformed_X_train_df.shape, transformed_X_train_df.describe().loc[[\"mean\", \"std\"],:])\n",
    "# display(\"test: check for same dummy encoded columns and scaled values (mean close to 0 and std close to 1)\",transformed_X_test_df.shape, transformed_X_test_df.describe().loc[[\"mean\", \"std\"],:])"
   ]
  },
  {
   "cell_type": "code",
   "execution_count": 21,
   "metadata": {},
   "outputs": [
    {
     "data": {
      "text/plain": [
       "{'onehot': OneHotEncoder(handle_unknown='ignore'), 'scale': StandardScaler()}"
      ]
     },
     "execution_count": 21,
     "metadata": {},
     "output_type": "execute_result"
    }
   ],
   "source": [
    "column_trans.named_transformers_\n"
   ]
  },
  {
   "cell_type": "markdown",
   "metadata": {},
   "source": [
    "*Create pipeline and base model*"
   ]
  },
  {
   "cell_type": "code",
   "execution_count": 113,
   "metadata": {},
   "outputs": [
    {
     "data": {
      "text/plain": [
       "'Mean CV Train Accuracy: 90.9265 %'"
      ]
     },
     "metadata": {},
     "output_type": "display_data"
    },
    {
     "data": {
      "text/plain": [
       "'Test Accuracy:88.4956 %'"
      ]
     },
     "metadata": {},
     "output_type": "display_data"
    }
   ],
   "source": [
    "# create model\n",
    "model_mlr = LogisticRegression(multi_class='multinomial', max_iter=1000, random_state=42) # default solver \"lgbgs\" and penalty \"l2\"\n",
    "\n",
    "# create sklearn pipeline\n",
    "pipeline_mlr = settings.create_pipeline([\"preprocess\", column_trans], [\"multinomial_logistic_regression\", model_mlr])\n",
    "\n",
    "# create cross validation object for cross_val_score\n",
    "cv_mlr = RepeatedStratifiedKFold(n_splits=5, n_repeats=3, random_state=42)\n",
    "\n",
    "# run training cross validation on pipeline \n",
    "cv_scores = cross_val_score(pipeline_mlr, X_train, y_train, scoring='accuracy', cv=cv_mlr)\n",
    "display(f'Mean CV Train Accuracy: {np.round(np.mean(cv_scores), 6)*100} %')\n",
    "\n",
    "# fit pipeline and produce test score \n",
    "pipeline_mlr.fit(X_train, y_train)\n",
    "display(f'Test Accuracy:{np.round(pipeline_mlr.score(X_test, y_test), 6)*100} %')"
   ]
  },
  {
   "cell_type": "markdown",
   "metadata": {},
   "source": [
    "<div style=\"border-radius:10px; border:#DEB887 solid; padding: 15px; background-color: #FFFAF0; font-size:100%; text-align:left; max-width: 1050px; margin: 0 auto; color: #444444;\">\n",
    "\n",
    "<h3 align=\"left\"><font color='#DEB887'>💡 Insights:</font></h3>\n",
    "\n",
    "<ul>\n",
    "    <li>Good baseline model train cv accuracy ~ 91% and test ~88%</li>\n",
    "</ul>\n",
    "</div>\n"
   ]
  },
  {
   "cell_type": "code",
   "execution_count": 114,
   "metadata": {},
   "outputs": [],
   "source": [
    "# Save baseline pipeline to file  \n",
    "settings.save_pipeline(\"best_multinomial_logistic_regression_pipeline.pkl\", pipeline_mlr)"
   ]
  },
  {
   "cell_type": "markdown",
   "metadata": {},
   "source": [
    "*Hyperparam tuning*"
   ]
  },
  {
   "cell_type": "markdown",
   "metadata": {},
   "source": [
    "*Regularisation*"
   ]
  },
  {
   "cell_type": "code",
   "execution_count": 115,
   "metadata": {},
   "outputs": [
    {
     "data": {
      "text/plain": [
       "'Best Parameters:'"
      ]
     },
     "metadata": {},
     "output_type": "display_data"
    },
    {
     "data": {
      "text/html": [
       "<div>\n",
       "<style scoped>\n",
       "    .dataframe tbody tr th:only-of-type {\n",
       "        vertical-align: middle;\n",
       "    }\n",
       "\n",
       "    .dataframe tbody tr th {\n",
       "        vertical-align: top;\n",
       "    }\n",
       "\n",
       "    .dataframe thead th {\n",
       "        text-align: right;\n",
       "    }\n",
       "</style>\n",
       "<table border=\"1\" class=\"dataframe\">\n",
       "  <thead>\n",
       "    <tr style=\"text-align: right;\">\n",
       "      <th></th>\n",
       "      <th>multinomial_logistic_regression__penalty</th>\n",
       "    </tr>\n",
       "  </thead>\n",
       "  <tbody>\n",
       "    <tr>\n",
       "      <th>0</th>\n",
       "      <td>l2</td>\n",
       "    </tr>\n",
       "  </tbody>\n",
       "</table>\n",
       "</div>"
      ],
      "text/plain": [
       "  multinomial_logistic_regression__penalty\n",
       "0                                       l2"
      ]
     },
     "metadata": {},
     "output_type": "display_data"
    },
    {
     "name": "stdout",
     "output_type": "stream",
     "text": [
      "Mean CV Train Accuracy with best parameters: 90.93 %\n",
      "Test Accuracy with best parameters: 88.5 %\n",
      "Iterations to convergence: 77\n"
     ]
    }
   ],
   "source": [
    "# set up param grid\n",
    "param_grid_mlr = {\n",
    "    'multinomial_logistic_regression__penalty': ['l2', \"none\"] # l1 not typically used for multinomial due to compuataional and interpretibility challenges\n",
    "}\n",
    "\n",
    "# Create and fit GridSearchCV object on train data\n",
    "grid_search_mlr = GridSearchCV(pipeline_mlr, param_grid=param_grid_mlr, scoring='accuracy', cv=cv_mlr, n_jobs=-1)\n",
    "grid_search_mlr.fit(X_train, y_train)\n",
    "\n",
    "# Access best hyperparameters and accuracy score\n",
    "best_params, best_train_score = grid_search_mlr.best_params_, grid_search_mlr.best_score_\n",
    "\n",
    "# Print the best parameters\n",
    "display(\"Best Parameters:\", pd.DataFrame(best_params, index=[0]))\n",
    "\n",
    "# Print the best mean cv training score\n",
    "print(\"Mean CV Train Accuracy with best parameters:\", settings.score_formatter(best_train_score, 4))\n",
    "\n",
    "# Evaluate the best model on the test set\n",
    "best_pipeline = grid_search_mlr.best_estimator_\n",
    "test_accuracy = best_pipeline.score(X_test, y_test)\n",
    "print(\"Test Accuracy with best parameters:\", settings.score_formatter(test_accuracy, 4))\n",
    "\n",
    "# Time to convergence \n",
    "print(\"Iterations to convergence:\", best_model['multinomial_logistic_regression'].n_iter_[0])\n"
   ]
  },
  {
   "cell_type": "code",
   "execution_count": 116,
   "metadata": {},
   "outputs": [
    {
     "data": {
      "image/png": "[encoded data removed]",
      "text/plain": [
       "<Figure size 600x400 with 1 Axes>"
      ]
     },
     "metadata": {},
     "output_type": "display_data"
    }
   ],
   "source": [
    "# Access the grid search results\n",
    "results = grid_search_mlr.cv_results_\n",
    "\n",
    "# Extract C values and accuracy scores\n",
    "penalty_values = results['param_multinomial_logistic_regression__penalty'].data\n",
    "mean_test_scores = results['mean_test_score']\n",
    "\n",
    "# Plot the accuracy scores against penalty choices\n",
    "fig, ax = plt.subplots(figsize=(6, 4), gridspec_kw={'hspace': 0.8}, facecolor=\"#F3EEE7\")\n",
    "ax.bar(penalty_values, mean_test_scores)\n",
    "\n",
    "# Add plot details\n",
    "ax.set_ylim(0.88, 0.92)\n",
    "ax.set_xlabel('Penalty Choices')\n",
    "ax.set_ylabel('Mean Cross-Validated Accuracy')\n",
    "ax.set_title('Train Accuracy for Different Penalty Choices')\n",
    "plt.show()\n"
   ]
  },
  {
   "cell_type": "markdown",
   "metadata": {},
   "source": [
    "<div style=\"border-radius:10px; border:#DEB887 solid; padding: 15px; background-color: #FFFAF0; font-size:100%; text-align:left; max-width: 1050px; margin: 0 auto; color: #444444;\">\n",
    "\n",
    "<h3 align=\"left\"><font color='#DEB887'>💡 Insights:</font></h3>\n",
    "\n",
    "<ul>\n",
    "    <li>Regularisation providing slightly higher score compared to none. Both will be tested with further tuning</li>\n",
    "</ul>\n",
    "</div>\n"
   ]
  },
  {
   "cell_type": "markdown",
   "metadata": {},
   "source": [
    "*Perform full param search*"
   ]
  },
  {
   "cell_type": "code",
   "execution_count": 117,
   "metadata": {},
   "outputs": [
    {
     "data": {
      "text/plain": [
       "'Best Parameters:'"
      ]
     },
     "metadata": {},
     "output_type": "display_data"
    },
    {
     "data": {
      "text/html": [
       "<div>\n",
       "<style scoped>\n",
       "    .dataframe tbody tr th:only-of-type {\n",
       "        vertical-align: middle;\n",
       "    }\n",
       "\n",
       "    .dataframe tbody tr th {\n",
       "        vertical-align: top;\n",
       "    }\n",
       "\n",
       "    .dataframe thead th {\n",
       "        text-align: right;\n",
       "    }\n",
       "</style>\n",
       "<table border=\"1\" class=\"dataframe\">\n",
       "  <thead>\n",
       "    <tr style=\"text-align: right;\">\n",
       "      <th></th>\n",
       "      <th>multinomial_logistic_regression__C</th>\n",
       "      <th>multinomial_logistic_regression__penalty</th>\n",
       "      <th>multinomial_logistic_regression__solver</th>\n",
       "    </tr>\n",
       "  </thead>\n",
       "  <tbody>\n",
       "    <tr>\n",
       "      <th>0</th>\n",
       "      <td>1</td>\n",
       "      <td>l2</td>\n",
       "      <td>newton-cg</td>\n",
       "    </tr>\n",
       "  </tbody>\n",
       "</table>\n",
       "</div>"
      ],
      "text/plain": [
       "   multinomial_logistic_regression__C  \\\n",
       "0                                   1   \n",
       "\n",
       "  multinomial_logistic_regression__penalty  \\\n",
       "0                                       l2   \n",
       "\n",
       "  multinomial_logistic_regression__solver  \n",
       "0                               newton-cg  "
      ]
     },
     "metadata": {},
     "output_type": "display_data"
    },
    {
     "name": "stdout",
     "output_type": "stream",
     "text": [
      "Mean CV Train Accuracy with best parameters: 90.93 %\n",
      "Test Accuracy with best parameters: 88.5 %\n",
      "Iterations to convergence: 77\n"
     ]
    }
   ],
   "source": [
    "# set up param grid\n",
    "param_grid_mlr = {\n",
    "    'multinomial_logistic_regression__C': [0.001, 0.01, 0.1, 1, 10, 100], # default = 1 (moderate)\n",
    "    'multinomial_logistic_regression__solver': ['newton-cg', 'lbfgs', 'sag', 'saga'], # default = lbfgs \n",
    "    'multinomial_logistic_regression__penalty': ['l2', 'none'] # default = l2\n",
    "}\n",
    "\n",
    "# Create and fit GridSearchCV object on train data\n",
    "grid_search_mlr = GridSearchCV(pipeline_mlr, param_grid=param_grid_mlr, scoring='accuracy', cv=cv_mlr, n_jobs = -1)\n",
    "grid_search_mlr.fit(X_train, y_train)\n",
    "\n",
    "# Access best hyperparameters and accuracy score\n",
    "best_params, best_train_score = grid_search_mlr.best_params_, grid_search_mlr.best_score_\n",
    "\n",
    "# Print the best parameters\n",
    "display(\"Best Parameters:\", pd.DataFrame(best_params, index=[0]))\n",
    "\n",
    "# Print the best mean cv training score\n",
    "print(\"Mean CV Train Accuracy with best parameters:\", settings.score_formatter(best_train_score, 4))\n",
    "\n",
    "# Evaluate the best model on the test set\n",
    "best_pipeline = grid_search_mlr.best_estimator_\n",
    "test_accuracy = best_pipeline.score(X_test, y_test)\n",
    "print(\"Test Accuracy with best parameters:\", settings.score_formatter(test_accuracy, 4))\n",
    "\n",
    "# Time to convergence \n",
    "print(\"Iterations to convergence:\", best_model['multinomial_logistic_regression'].n_iter_[0])"
   ]
  },
  {
   "cell_type": "code",
   "execution_count": 118,
   "metadata": {},
   "outputs": [
    {
     "data": {
      "image/png": "[encoded data removed]",
      "text/plain": [
       "<Figure size 900x500 with 1 Axes>"
      ]
     },
     "metadata": {},
     "output_type": "display_data"
    }
   ],
   "source": [
    "# Access the latest grid search results\n",
    "results = grid_search_mlr.cv_results_\n",
    "\n",
    "# Extract penalty, C values and accuracy scores\n",
    "grouped = pd.DataFrame(results).groupby([\"param_multinomial_logistic_regression__penalty\",\"param_multinomial_logistic_regression__C\"])[\"mean_test_score\"].mean().unstack()\n",
    "\n",
    "# Plot the grouped bar chart\n",
    "fig, ax = plt.subplots(figsize=(6, 4), gridspec_kw={'hspace': 0.8}, facecolor=\"#F3EEE7\")\n",
    "grouped.plot(kind='bar', figsize=(9, 5), ax=ax)\n",
    "\n",
    "# Add plot details\n",
    "ax.set_ylim(0.8, 1)\n",
    "ax.set_xlabel('Penalty')\n",
    "ax.set_ylabel('Accuracy Metric')\n",
    "ax.set_title('Train Accuracy for Different Penalties and C Choices')\n",
    "plt.show()"
   ]
  },
  {
   "cell_type": "code",
   "execution_count": 119,
   "metadata": {},
   "outputs": [
    {
     "data": {
      "image/png": "[encoded data removed]",
      "text/plain": [
       "<Figure size 900x500 with 1 Axes>"
      ]
     },
     "metadata": {},
     "output_type": "display_data"
    }
   ],
   "source": [
    "# Extract penalty, C values and accuracy scores\n",
    "grouped = pd.DataFrame(results)\n",
    "grouped = grouped[\n",
    "    (grouped[\"param_multinomial_logistic_regression__penalty\"] == \"l2\") &\n",
    "    ((grouped[\"param_multinomial_logistic_regression__C\"] == 1) | (grouped[\"param_multinomial_logistic_regression__C\"] == 10))\n",
    "].groupby([\"param_multinomial_logistic_regression__C\", \"param_multinomial_logistic_regression__solver\"])[\"mean_test_score\"].mean().unstack()\n",
    "\n",
    "# Plot the grouped bar chart\n",
    "fig, ax = plt.subplots(figsize=(6, 4), gridspec_kw={'hspace': 0.8}, facecolor=\"#F3EEE7\")\n",
    "grouped.plot(kind='bar', figsize=(9, 5), ax=ax)\n",
    "\n",
    "# Add plot details\n",
    "ax.set_ylim(0.905, 0.915)\n",
    "ax.set_xlabel('C')\n",
    "ax.set_ylabel('Accuracy Metric')\n",
    "ax.set_title('Train Accuracy for Different C and Solver Choices')\n",
    "plt.show()"
   ]
  },
  {
   "cell_type": "markdown",
   "metadata": {},
   "source": [
    "<div style=\"border-radius:10px; border:#DEB887 solid; padding: 15px; background-color: #FFFAF0; font-size:100%; text-align:left; max-width: 1050px; margin: 0 auto; color: #444444;\">\n",
    "\n",
    "<h3 align=\"left\"><font color='#DEB887'>💡 Insights:</font></h3>\n",
    "\n",
    "<ul>\n",
    "    <li>Averaged across all 4 solvers, Regularisation providing higher scores compared to none only for specific strengths (C). This is the case for noteably range of 0.1 to 10</li>\n",
    "    <li>newton-cg identified as best solver although there is no difference in optimal C range: newton first in param list hence why chosen. Default lbfgs will remain.</li>\n",
    "</ul>\n",
    "</div>\n"
   ]
  },
  {
   "cell_type": "markdown",
   "metadata": {},
   "source": [
    "*Narrow down C param*"
   ]
  },
  {
   "cell_type": "code",
   "execution_count": 120,
   "metadata": {},
   "outputs": [
    {
     "data": {
      "text/plain": [
       "'Best Parameters:'"
      ]
     },
     "metadata": {},
     "output_type": "display_data"
    },
    {
     "data": {
      "text/html": [
       "<div>\n",
       "<style scoped>\n",
       "    .dataframe tbody tr th:only-of-type {\n",
       "        vertical-align: middle;\n",
       "    }\n",
       "\n",
       "    .dataframe tbody tr th {\n",
       "        vertical-align: top;\n",
       "    }\n",
       "\n",
       "    .dataframe thead th {\n",
       "        text-align: right;\n",
       "    }\n",
       "</style>\n",
       "<table border=\"1\" class=\"dataframe\">\n",
       "  <thead>\n",
       "    <tr style=\"text-align: right;\">\n",
       "      <th></th>\n",
       "      <th>multinomial_logistic_regression__C</th>\n",
       "    </tr>\n",
       "  </thead>\n",
       "  <tbody>\n",
       "    <tr>\n",
       "      <th>0</th>\n",
       "      <td>2.637186</td>\n",
       "    </tr>\n",
       "  </tbody>\n",
       "</table>\n",
       "</div>"
      ],
      "text/plain": [
       "   multinomial_logistic_regression__C\n",
       "0                            2.637186"
      ]
     },
     "metadata": {},
     "output_type": "display_data"
    },
    {
     "name": "stdout",
     "output_type": "stream",
     "text": [
      "Mean CV Train Accuracy with best parameters: 91.05 %\n",
      "Test Accuracy with best parameters: 89.38000000000001 %\n",
      "Iterations to convergence: 77\n"
     ]
    }
   ],
   "source": [
    "# Refine model and update pipeline\n",
    "model_mlr = LogisticRegression(multi_class='multinomial', solver=\"lbfgs\", penalty=\"l2\", max_iter=1000, random_state=42) \n",
    "pipeline_mlr = settings.create_pipeline([\"preprocess\", column_trans], [\"multinomial_logistic_regression\", model_mlr])\n",
    "\n",
    "# set up param grid\n",
    "param_grid_mlr = {\n",
    "    'multinomial_logistic_regression__C': np.linspace(0.1, 10, 200), # large sweep of C values\n",
    "}\n",
    "\n",
    "# Create and fit GridSearchCV object on training data\n",
    "grid_search_mlr = GridSearchCV(pipeline_mlr, param_grid=param_grid_mlr, scoring='accuracy', cv=cv_mlr, n_jobs=-1)\n",
    "grid_search_mlr.fit(X_train, y_train)\n",
    "\n",
    "# Access best hyperparameters and accuracy score\n",
    "best_params, best_train_score = grid_search_mlr.best_params_, grid_search_mlr.best_score_\n",
    "\n",
    "# Print the best parameters\n",
    "display(\"Best Parameters:\", pd.DataFrame(best_params, index=[0]))\n",
    "\n",
    "# Print the best mean cv training score\n",
    "print(\"Mean CV Train Accuracy with best parameters:\", settings.score_formatter(best_train_score, 4))\n",
    "\n",
    "# Evaluate the best model on the test set\n",
    "best_pipeline = grid_search_mlr.best_estimator_\n",
    "test_accuracy = best_pipeline.score(X_test, y_test)\n",
    "print(\"Test Accuracy with best parameters:\", settings.score_formatter(test_accuracy, 4))\n",
    "\n",
    "# Time to convergence \n",
    "print(\"Iterations to convergence:\", best_model['multinomial_logistic_regression'].n_iter_[0])"
   ]
  },
  {
   "cell_type": "markdown",
   "metadata": {},
   "source": [
    "<div style=\"border-radius: 10px; border: #DEB887 solid; padding: 15px; background-color: #FFFAF0; font-size: 100%; text-align: left; max-width: 1050px; margin: 0 auto; color: #444444;\">\n",
    "\n",
    "<h3 align=\"left\"><font color='#DEB887'>💡 Insights:</font></h3>\n",
    "\n",
    "<ul style=\"list-style-type: none; padding-left: 0;\">\n",
    "    <li style=\"line-height: 0.1;\">\n",
    "        Best C param across exhaustive grid search is actually all values between ~2.6 and ~5. This is shown by the following code:\n",
    "        <br>\n",
    "        <pre style=\"margin: 0; padding: 10px; border-radius: 5px; background-color: #f7f7f7;\">\n",
    "            <code style=\"color: #000000; display: block; margin-left: 0; padding-left: 0;\">\n",
    "df = pd.DataFrame(grid_search_mlr.cv_results_)\n",
    "result = pd.DataFrame(df.groupby(\"param_multinomial_logistic_regression__C\")[\"mean_test_score\"].mean())\n",
    "            </code>\n",
    "        </pre>\n",
    "        Let's select 3.\n",
    "    </li>\n",
    "</ul>\n",
    "<ul>\n",
    "    <li>Hypertuning slightly improves cv mean train score (and test score).</li>\n",
    "</ul>\n",
    "\n",
    "\n",
    "</div>\n"
   ]
  },
  {
   "cell_type": "code",
   "execution_count": 121,
   "metadata": {},
   "outputs": [],
   "source": [
    "# Tuning finished: refine model, update and fit pipeline for saving\n",
    "model_mlr = LogisticRegression(multi_class='multinomial', solver=\"lbfgs\", penalty=\"l2\", C=3, max_iter=1000, random_state=42) \n",
    "pipeline_mlr = settings.create_pipeline([\"preprocess\", column_trans], [\"multinomial_logistic_regression\", model_mlr])\n",
    "pipeline_mlr.fit(X_train, y_train)\n",
    "\n",
    "# save hypertuned pipeline, verifying better test score\n",
    "current_best_pipeline = settings.get_saved_pipeline(\"best_multinomial_logistic_regression_pipeline.pkl\")\n",
    "if current_best_pipeline.score(X_test, y_test) < pipeline_mlr.score(X_test, y_test):\n",
    "    settings.save_pipeline(\"best_multinomial_logistic_regression_pipeline.pkl\", pipeline_mlr)\n"
   ]
  },
  {
   "cell_type": "markdown",
   "metadata": {},
   "source": [
    "*Review metrics for hypertuned model*"
   ]
  },
  {
   "cell_type": "code",
   "execution_count": 127,
   "metadata": {},
   "outputs": [
    {
     "name": "stdout",
     "output_type": "stream",
     "text": [
      "Test Accuracy: 89.381 %\n",
      "\n",
      "Classification Report:\n",
      "               precision    recall  f1-score   support\n",
      "\n",
      "           0       0.95      0.95      0.95        66\n",
      "           1       0.79      0.79      0.79        24\n",
      "           2       0.83      0.83      0.83        23\n",
      "\n",
      "    accuracy                           0.89       113\n",
      "   macro avg       0.86      0.86      0.86       113\n",
      "weighted avg       0.89      0.89      0.89       113\n",
      "\n"
     ]
    }
   ],
   "source": [
    "# Print test accuracy\n",
    "print(\"Test Accuracy:\", settings.score_formatter(pipeline_mlr.score(X_test, y_test), 5))\n",
    "\n",
    "# Generate prediction and show classification report\n",
    "y_pred = pipeline_mlr.predict(X_test)\n",
    "class_report = classification_report(y_test, y_pred)\n",
    "print(\"\\nClassification Report:\\n\", class_report)"
   ]
  },
  {
   "cell_type": "code",
   "execution_count": 145,
   "metadata": {},
   "outputs": [
    {
     "data": {
      "image/png": "[encoded data removed]",
      "text/plain": [
       "<Figure size 600x400 with 2 Axes>"
      ]
     },
     "metadata": {},
     "output_type": "display_data"
    }
   ],
   "source": [
    "# Generate confusion matrix\n",
    "class_labels = [\"None\",\"Apnea\",\"Insomnia\"]\n",
    "conf_matrix = confusion_matrix(y_test, y_pred)\n",
    "\n",
    "settings.plot_conf_matrix(class_labels, conf_matrix)"
   ]
  },
  {
   "cell_type": "code",
   "execution_count": 153,
   "metadata": {},
   "outputs": [
    {
     "data": {
      "image/png": "[encoded data removed]",
      "text/plain": [
       "<Figure size 600x400 with 1 Axes>"
      ]
     },
     "metadata": {},
     "output_type": "display_data"
    }
   ],
   "source": [
    "# Predict class probabilities for test data\n",
    "y_probs = pipeline_mlr.predict_proba(X_test)\n",
    "\n",
    "# Compute micro-averaged ROC curve and AUC\n",
    "fpr_micro, tpr_micro, _ = roc_curve(np.eye(len(class_labels))[y_test].ravel(), y_probs.ravel())\n",
    "roc_auc_micro = auc(fpr_micro, tpr_micro)\n",
    "\n",
    "settings.plot_micro_averaged_roc(fpr_micro, tpr_micro, roc_auc_micro)"
   ]
  },
  {
   "cell_type": "markdown",
   "metadata": {},
   "source": [
    "<div style=\"border-radius:10px; border:#DEB887 solid; padding: 15px; background-color: #FFFAF0; font-size:100%; text-align:left; max-width: 1050px; margin: 0 auto; color: #444444;\">\n",
    "\n",
    "<h3 align=\"left\"><font color='#DEB887'>💡 Insights:</font></h3>\n",
    "\n",
    "<ul>\n",
    "    <li>Accuracy is generally good at ~89% test set and average AUC is high at 95%</li>\n",
    "    <li>Recall and Precision is better for class 0 (\"None\") (95%) than those of the sleep disorders</li>\n",
    "    <li>Apnea has the lowest recall and precision at 79% (5 incorrect out of test 23 instances)</li>\n",
    "    <li>Insomnia has recall and precision at 83% (5 incorrect out of 24 instances)</li>\n",
    "</ul>\n",
    "</div>\n"
   ]
  },
  {
   "cell_type": "markdown",
   "metadata": {},
   "source": [
    "*Addressing Class Imbalance: Exploring SMOTE-NC*"
   ]
  },
  {
   "cell_type": "code",
   "execution_count": 136,
   "metadata": {},
   "outputs": [
    {
     "name": "stdout",
     "output_type": "stream",
     "text": [
      "Mean CV Train Accuracy: 91.05 %\n",
      "Test Accuracy: 91.2 %\n"
     ]
    }
   ],
   "source": [
    "# instantiate SMOTENC object with categorical indicies of transformed X_train dataset\n",
    "categorical_features = [1, 2, 3, 4, 5, 6, 7, 8, 9, 10, 11, 12, 13, 14, 15, 16]\n",
    "smote_nc = SMOTENC(categorical_features=categorical_features, random_state=42)\n",
    "\n",
    "# Set up pipeline using imblearn's Pipeline class (SMOTE not compatible with sklearn's Pipeline)\n",
    "# Reuse model with tuned hyperparameters\n",
    "steps = [('column_trans', column_trans), ('smote', smote_nc), ('multinomial_logistic_regression', model_mlr)]\n",
    "pipeline_mlr = Pipeline_imb(steps)\n",
    "\n",
    "# Run cross validation on pipeline with train data \n",
    "cv_scores = cross_val_score(pipeline_mlr, X_train, y_train, scoring='accuracy', cv=cv_mlr)\n",
    "print('Mean CV Train Accuracy:', settings.score_formatter(np.mean(cv_scores), 4))\n",
    "\n",
    "# Fit pipeline with train data and generate test score using model step only (no smote for test)\n",
    "pipeline_mlr.fit(X_train, y_train)\n",
    "model_mlr = pipeline_mlr.named_steps['multinomial_logistic_regression']\n",
    "print('Test Accuracy:', settings.score_formatter(model_mlr.score(transformed_X_test_df.values, y_test), 3))\n"
   ]
  },
  {
   "cell_type": "code",
   "execution_count": 139,
   "metadata": {},
   "outputs": [
    {
     "name": "stdout",
     "output_type": "stream",
     "text": [
      "Classification Report:\n",
      "               precision    recall  f1-score   support\n",
      "\n",
      "           0       0.95      0.95      0.95        66\n",
      "           1       0.81      0.88      0.84        24\n",
      "           2       0.90      0.83      0.86        23\n",
      "\n",
      "    accuracy                           0.91       113\n",
      "   macro avg       0.89      0.89      0.89       113\n",
      "weighted avg       0.91      0.91      0.91       113\n",
      "\n"
     ]
    }
   ],
   "source": [
    "# Generate prediction and show classification report\n",
    "y_pred = model_mlr.predict(transformed_X_test_df.values)\n",
    "class_report = classification_report(y_test, y_pred)\n",
    "print(\"Classification Report:\\n\", class_report)"
   ]
  },
  {
   "cell_type": "code",
   "execution_count": 146,
   "metadata": {},
   "outputs": [
    {
     "data": {
      "image/png": "[encoded data removed]",
      "text/plain": [
       "<Figure size 600x400 with 2 Axes>"
      ]
     },
     "metadata": {},
     "output_type": "display_data"
    }
   ],
   "source": [
    "class_labels = [\"None\",\"Apnea\",\"Insomnia\"]\n",
    "conf_matrix = confusion_matrix(y_test, y_pred)\n",
    "\n",
    "settings.plot_conf_matrix(class_labels, conf_matrix)\n"
   ]
  },
  {
   "cell_type": "markdown",
   "metadata": {},
   "source": [
    "<div style=\"border-radius:10px; border:#DEB887 solid; padding: 15px; background-color: #FFFAF0; font-size:100%; text-align:left; max-width: 1050px; margin: 0 auto; color: #444444;\">\n",
    "\n",
    "<h3 align=\"left\"><font color='#DEB887'>💡 Insights:</font></h3>\n",
    "\n",
    "<ul>\n",
    "    <li>SMOTE shows improvement: Recall of Apnea improves by 8% where model makes fewer mistakes classifying Apnea as Insmonia(2 predictions)</li>\n",
    "</ul>\n",
    "</div>\n"
   ]
  },
  {
   "cell_type": "code",
   "execution_count": 154,
   "metadata": {},
   "outputs": [],
   "source": [
    "# save smote hypertuned pipeline, verifying better test score\n",
    "current_best_pipeline = settings.get_saved_pipeline(\"best_multinomial_logistic_regression_pipeline.pkl\")\n",
    "if current_best_pipeline.score(X_test, y_test) < pipeline_mlr.named_steps['multinomial_logistic_regression'].score(transformed_X_test_df.values, y_test):\n",
    "    settings.save_pipeline(\"best_multinomial_logistic_regression_pipeline.pkl\", pipeline_mlr)"
   ]
  },
  {
   "cell_type": "markdown",
   "metadata": {},
   "source": [
    "*Testing new features*"
   ]
  },
  {
   "cell_type": "markdown",
   "metadata": {},
   "source": [
    "*Binning age and dropping original Age*"
   ]
  },
  {
   "cell_type": "code",
   "execution_count": 234,
   "metadata": {},
   "outputs": [
    {
     "name": "stderr",
     "output_type": "stream",
     "text": [
      "C:\\Users\\adams\\AppData\\Local\\Temp\\ipykernel_10420\\1932734524.py:5: SettingWithCopyWarning: \n",
      "A value is trying to be set on a copy of a slice from a DataFrame.\n",
      "Try using .loc[row_indexer,col_indexer] = value instead\n",
      "\n",
      "See the caveats in the documentation: https://pandas.pydata.org/pandas-docs/stable/user_guide/indexing.html#returning-a-view-versus-a-copy\n",
      "  X.loc[:,'Age_bin'] = pd.cut(X.loc[:,'Age'], [20, 30, 40, 50, 60], labels=['20s', '30s', '40s', '50s']).astype(\"object\")\n"
     ]
    }
   ],
   "source": [
    "# re-initialise X array for all features before modification\n",
    "X = df[settings.ALL_FEATURES]\n",
    "\n",
    "# Bin age to new column and drop age column\n",
    "X.loc[:,'Age_bin'] = pd.cut(X.loc[:,'Age'], [20, 30, 40, 50, 60], labels=['20s', '30s', '40s', '50s']).astype(\"object\")\n",
    "settings.examine_values(X).loc[\"Age_bin\",:]\n",
    "X = X.drop(\"Age\", axis=1)"
   ]
  },
  {
   "cell_type": "markdown",
   "metadata": {},
   "source": [
    "*Split data*"
   ]
  },
  {
   "cell_type": "code",
   "execution_count": 250,
   "metadata": {},
   "outputs": [],
   "source": [
    "X_train, X_test, y_train, y_test = train_test_split(X, y, test_size=0.3, random_state=43, stratify=y)"
   ]
  },
  {
   "cell_type": "code",
   "execution_count": 237,
   "metadata": {},
   "outputs": [],
   "source": [
    "# Encode y vector \n",
    "map = {\"None\":0, \"Sleep Apnea\":1, \"Insomnia\":2}\n",
    "# apply mapping function\n",
    "settings.column_mapper(y_train, \"Sleep Disorder\", map)\n",
    "settings.column_mapper(y_test, \"Sleep Disorder\", map)\n",
    "\n",
    "# reshape labels to 1-D array (vector) \n",
    "y_train, y_test = y_train.values.reshape(-1), y_test.values.reshape(-1)"
   ]
  },
  {
   "cell_type": "markdown",
   "metadata": {},
   "source": [
    "*Baseline model*"
   ]
  },
  {
   "cell_type": "code",
   "execution_count": 238,
   "metadata": {},
   "outputs": [
    {
     "data": {
      "text/plain": [
       "'Mean CV Train Accuracy: 91.1805 %'"
      ]
     },
     "metadata": {},
     "output_type": "display_data"
    },
    {
     "data": {
      "text/plain": [
       "'Test Accuracy:89.3805 %'"
      ]
     },
     "metadata": {},
     "output_type": "display_data"
    }
   ],
   "source": [
    "# Create a column transformer for ohe and scaling\n",
    "column_trans = ColumnTransformer(\n",
    "    transformers=[\n",
    "        ('onehot', OneHotEncoder(handle_unknown='ignore'), X_train.select_dtypes(include=['object']).columns),\n",
    "        ('scale', StandardScaler(), X_train.select_dtypes(include=['float64', 'int64']).columns)\n",
    "    ],\n",
    "    remainder='passthrough')\n",
    "    \n",
    "# create model\n",
    "model_mlr = LogisticRegression(multi_class='multinomial', max_iter=1000, C=3, random_state=42) # default solver \"lgbgs\" and penalty \"l2\"\n",
    "\n",
    "# create sklearn pipeline\n",
    "pipeline_mlr = settings.create_pipeline([\"preprocess\", column_trans], [\"multinomial_logistic_regression\", model_mlr])\n",
    "\n",
    "# create cross validation object for cross_val_score\n",
    "cv_mlr = RepeatedStratifiedKFold(n_splits=5, n_repeats=3, random_state=42)\n",
    "\n",
    "# run training cross validation on pipeline \n",
    "cv_scores = cross_val_score(pipeline_mlr, X_train, y_train, scoring='accuracy', cv=cv_mlr)\n",
    "display(f'Mean CV Train Accuracy: {np.round(np.mean(cv_scores), 6)*100} %')\n",
    "\n",
    "# fit pipeline and produce test score \n",
    "pipeline_mlr.fit(X_train, y_train)\n",
    "display(f'Test Accuracy:{np.round(pipeline_mlr.score(X_test, y_test), 6)*100} %')"
   ]
  },
  {
   "cell_type": "code",
   "execution_count": 242,
   "metadata": {},
   "outputs": [
    {
     "data": {
      "text/plain": [
       "'Best Parameters:'"
      ]
     },
     "metadata": {},
     "output_type": "display_data"
    },
    {
     "data": {
      "text/html": [
       "<div>\n",
       "<style scoped>\n",
       "    .dataframe tbody tr th:only-of-type {\n",
       "        vertical-align: middle;\n",
       "    }\n",
       "\n",
       "    .dataframe tbody tr th {\n",
       "        vertical-align: top;\n",
       "    }\n",
       "\n",
       "    .dataframe thead th {\n",
       "        text-align: right;\n",
       "    }\n",
       "</style>\n",
       "<table border=\"1\" class=\"dataframe\">\n",
       "  <thead>\n",
       "    <tr style=\"text-align: right;\">\n",
       "      <th></th>\n",
       "      <th>multinomial_logistic_regression__C</th>\n",
       "      <th>multinomial_logistic_regression__penalty</th>\n",
       "      <th>multinomial_logistic_regression__solver</th>\n",
       "    </tr>\n",
       "  </thead>\n",
       "  <tbody>\n",
       "    <tr>\n",
       "      <th>0</th>\n",
       "      <td>1</td>\n",
       "      <td>l2</td>\n",
       "      <td>newton-cg</td>\n",
       "    </tr>\n",
       "  </tbody>\n",
       "</table>\n",
       "</div>"
      ],
      "text/plain": [
       "   multinomial_logistic_regression__C  \\\n",
       "0                                   1   \n",
       "\n",
       "  multinomial_logistic_regression__penalty  \\\n",
       "0                                       l2   \n",
       "\n",
       "  multinomial_logistic_regression__solver  \n",
       "0                               newton-cg  "
      ]
     },
     "metadata": {},
     "output_type": "display_data"
    },
    {
     "name": "stdout",
     "output_type": "stream",
     "text": [
      "Mean CV Train Accuracy with best parameters: 91.1800 %\n",
      "Test Accuracy with best parameters: 88.5000 %\n",
      "Iterations to convergence: 77\n"
     ]
    }
   ],
   "source": [
    "# set up param grid\n",
    "param_grid_mlr = {\n",
    "    'multinomial_logistic_regression__C': [0.001, 0.01, 0.1, 1, 10, 100], # default = 1 (moderate)\n",
    "    'multinomial_logistic_regression__solver': ['newton-cg', 'lbfgs', 'sag', 'saga'], # default = lbfgs \n",
    "    'multinomial_logistic_regression__penalty': ['l2', 'none'] # default = l2\n",
    "}\n",
    "\n",
    "# Create and fit GridSearchCV object on train data\n",
    "grid_search_mlr = GridSearchCV(pipeline_mlr, param_grid=param_grid_mlr, scoring='accuracy', cv=cv_mlr, n_jobs = -1)\n",
    "grid_search_mlr.fit(X_train, y_train)\n",
    "\n",
    "settings.get_gridsearchcv_summary(grid_search_mlr, 4, X_test, y_test)\n"
   ]
  },
  {
   "cell_type": "code",
   "execution_count": null,
   "metadata": {},
   "outputs": [],
   "source": [
    "# Refine model and update pipeline\n",
    "model_mlr = LogisticRegression(multi_class='multinomial', solver=\"lbfgs\", penalty=\"l2\", max_iter=1000, random_state=42) \n",
    "pipeline_mlr = settings.create_pipeline([\"preprocess\", column_trans], [\"multinomial_logistic_regression\", model_mlr])\n",
    "\n",
    "# set up param grid\n",
    "param_grid_mlr = {\n",
    "    'multinomial_logistic_regression__C': np.linspace(0.1, 10, 200), # large sweep of C values\n",
    "}\n",
    "\n",
    "# Create and fit GridSearchCV object on training data\n",
    "grid_search_mlr = GridSearchCV(pipeline_mlr, param_grid=param_grid_mlr, scoring='accuracy', cv=cv_mlr, n_jobs=-1)\n",
    "grid_search_mlr.fit(X_train, y_train)\n",
    "\n",
    "settings.get_gridsearchcv_summary(grid_search_mlr, 4, X_test, y_test)\n"
   ]
  },
  {
   "cell_type": "code",
   "execution_count": 241,
   "metadata": {},
   "outputs": [
    {
     "name": "stdout",
     "output_type": "stream",
     "text": [
      "Mean CV Train Accuracy: 91.0500 %\n",
      "Test Accuracy: 88.500 %\n"
     ]
    }
   ],
   "source": [
    "# Refine model\n",
    "model_mlr = LogisticRegression(multi_class='multinomial', solver=\"lbfgs\", penalty=\"l2\", C = 0.4, max_iter=1000, random_state=42) \n",
    "\n",
    "# instantiate SMOTENC object with categorical indicies of transformed X_train dataset\n",
    "categorical_features = [1, 2, 3, 4, 5, 6, 7, 8, 9, 10, 11, 12, 13, 14, 15, 16, 17, 18, 19, 20]\n",
    "smote_nc = SMOTENC(categorical_features=categorical_features, random_state=42)\n",
    "\n",
    "# Set up pipeline using imblearn's Pipeline class (SMOTE not compatible with sklearn's Pipeline)\n",
    "# Reuse model with tuned hyperparameters\n",
    "steps = [('column_trans', column_trans), ('smote', smote_nc), ('multinomial_logistic_regression', model_mlr)]\n",
    "pipeline_mlr = Pipeline_imb(steps)\n",
    "\n",
    "# Run cross validation on pipeline with train data \n",
    "cv_scores = cross_val_score(pipeline_mlr, X_train, y_train, scoring='accuracy', cv=cv_mlr)\n",
    "print('Mean CV Train Accuracy:', settings.score_formatter(np.mean(cv_scores), 4))\n",
    "\n",
    "# Fit pipeline with train data and generate test score using model step only (no smote for test)\n",
    "pipeline_mlr.fit(X_train, y_train)\n",
    "model_mlr = pipeline_mlr.named_steps['multinomial_logistic_regression']\n",
    "print('Test Accuracy:', settings.score_formatter(model_mlr.score(transformed_X_test_df.values, y_test), 3))\n"
   ]
  },
  {
   "cell_type": "markdown",
   "metadata": {},
   "source": [
    "<div style=\"border-radius:10px; border:#DEB887 solid; padding: 15px; background-color: #FFFAF0; font-size:100%; text-align:left; max-width: 1050px; margin: 0 auto; color: #444444;\">\n",
    "\n",
    "<h3 align=\"left\"><font color='#DEB887'>💡 Insights:</font></h3>\n",
    "\n",
    "<ul>\n",
    "    <li>Age binning doesn't improve on best model</li>\n",
    "</ul>\n",
    "</div>\n"
   ]
  },
  {
   "cell_type": "markdown",
   "metadata": {},
   "source": [
    "*Dropping highly correlated features*"
   ]
  },
  {
   "cell_type": "code",
   "execution_count": 280,
   "metadata": {},
   "outputs": [],
   "source": [
    "# re-initialise X array for all features before modification\n",
    "X = df[settings.ALL_FEATURES]\n",
    "\n",
    "# Drop age to new column and drop age column\n",
    "X = X.drop([\"Quality of Sleep\", \"Stress Level\"], axis=1) # \"Quality of Sleep\", \"Stress Level\""
   ]
  },
  {
   "cell_type": "markdown",
   "metadata": {},
   "source": [
    "*Split data*"
   ]
  },
  {
   "cell_type": "code",
   "execution_count": 281,
   "metadata": {},
   "outputs": [],
   "source": [
    "X_train, X_test, y_train, y_test = train_test_split(X, y, test_size=0.3, random_state=43, stratify=y)"
   ]
  },
  {
   "cell_type": "code",
   "execution_count": 282,
   "metadata": {},
   "outputs": [],
   "source": [
    "# Encode y vector \n",
    "map = {\"None\":0, \"Sleep Apnea\":1, \"Insomnia\":2}\n",
    "# apply mapping function\n",
    "settings.column_mapper(y_train, \"Sleep Disorder\", map)\n",
    "settings.column_mapper(y_test, \"Sleep Disorder\", map)\n",
    "\n",
    "# reshape labels to 1-D array (vector) \n",
    "y_train, y_test = y_train.values.reshape(-1), y_test.values.reshape(-1)"
   ]
  },
  {
   "cell_type": "markdown",
   "metadata": {},
   "source": [
    "*Baseline model*"
   ]
  },
  {
   "cell_type": "code",
   "execution_count": 283,
   "metadata": {},
   "outputs": [
    {
     "data": {
      "text/plain": [
       "'Mean CV Train Accuracy: 91.1805 %'"
      ]
     },
     "metadata": {},
     "output_type": "display_data"
    },
    {
     "data": {
      "text/plain": [
       "'Test Accuracy:91.1504 %'"
      ]
     },
     "metadata": {},
     "output_type": "display_data"
    }
   ],
   "source": [
    "# Create a column transformer for ohe and scaling\n",
    "column_trans = ColumnTransformer(\n",
    "    transformers=[\n",
    "        ('onehot', OneHotEncoder(handle_unknown='ignore'), X_train.select_dtypes(include=['object']).columns),\n",
    "        ('scale', StandardScaler(), X_train.select_dtypes(include=['float64', 'int64']).columns)\n",
    "    ],\n",
    "    remainder='passthrough')\n",
    "    \n",
    "# create model\n",
    "model_mlr = LogisticRegression(multi_class='multinomial', max_iter=1000, C=3, random_state=42) # default solver \"lgbgs\" and penalty \"l2\"\n",
    "\n",
    "# create sklearn pipeline\n",
    "pipeline_mlr = settings.create_pipeline([\"preprocess\", column_trans], [\"multinomial_logistic_regression\", model_mlr])\n",
    "\n",
    "# create cross validation object for cross_val_score\n",
    "cv_mlr = RepeatedStratifiedKFold(n_splits=5, n_repeats=3, random_state=42)\n",
    "\n",
    "# run training cross validation on pipeline \n",
    "cv_scores = cross_val_score(pipeline_mlr, X_train, y_train, scoring='accuracy', cv=cv_mlr)\n",
    "display(f'Mean CV Train Accuracy: {np.round(np.mean(cv_scores), 6)*100} %')\n",
    "\n",
    "# fit pipeline and produce test score \n",
    "pipeline_mlr.fit(X_train, y_train)\n",
    "display(f'Test Accuracy:{np.round(pipeline_mlr.score(X_test, y_test), 6)*100} %')"
   ]
  },
  {
   "cell_type": "code",
   "execution_count": 284,
   "metadata": {},
   "outputs": [
    {
     "data": {
      "text/plain": [
       "'Best Parameters:'"
      ]
     },
     "metadata": {},
     "output_type": "display_data"
    },
    {
     "data": {
      "text/html": [
       "<div>\n",
       "<style scoped>\n",
       "    .dataframe tbody tr th:only-of-type {\n",
       "        vertical-align: middle;\n",
       "    }\n",
       "\n",
       "    .dataframe tbody tr th {\n",
       "        vertical-align: top;\n",
       "    }\n",
       "\n",
       "    .dataframe thead th {\n",
       "        text-align: right;\n",
       "    }\n",
       "</style>\n",
       "<table border=\"1\" class=\"dataframe\">\n",
       "  <thead>\n",
       "    <tr style=\"text-align: right;\">\n",
       "      <th></th>\n",
       "      <th>multinomial_logistic_regression__C</th>\n",
       "      <th>multinomial_logistic_regression__penalty</th>\n",
       "      <th>multinomial_logistic_regression__solver</th>\n",
       "    </tr>\n",
       "  </thead>\n",
       "  <tbody>\n",
       "    <tr>\n",
       "      <th>0</th>\n",
       "      <td>1</td>\n",
       "      <td>l2</td>\n",
       "      <td>newton-cg</td>\n",
       "    </tr>\n",
       "  </tbody>\n",
       "</table>\n",
       "</div>"
      ],
      "text/plain": [
       "   multinomial_logistic_regression__C  \\\n",
       "0                                   1   \n",
       "\n",
       "  multinomial_logistic_regression__penalty  \\\n",
       "0                                       l2   \n",
       "\n",
       "  multinomial_logistic_regression__solver  \n",
       "0                               newton-cg  "
      ]
     },
     "metadata": {},
     "output_type": "display_data"
    },
    {
     "name": "stdout",
     "output_type": "stream",
     "text": [
      "Mean CV Train Accuracy with best parameters: 91.1800 %\n",
      "Test Accuracy with best parameters: 88.5000 %\n"
     ]
    }
   ],
   "source": [
    "# set up param grid\n",
    "param_grid_mlr = {\n",
    "    'multinomial_logistic_regression__C': [0.001, 0.01, 0.1, 1, 10, 100], # default = 1 (moderate)\n",
    "    'multinomial_logistic_regression__solver': ['newton-cg', 'lbfgs', 'sag', 'saga'], # default = lbfgs \n",
    "    'multinomial_logistic_regression__penalty': ['l2', 'none'] # default = l2\n",
    "}\n",
    "\n",
    "# Create and fit GridSearchCV object on train data\n",
    "grid_search_mlr = GridSearchCV(pipeline_mlr, param_grid=param_grid_mlr, scoring='accuracy', cv=cv_mlr, n_jobs = -1)\n",
    "grid_search_mlr.fit(X_train, y_train)\n",
    "\n",
    "settings.get_gridsearchcv_summary(grid_search_mlr, 4, X_test, y_test)\n"
   ]
  },
  {
   "cell_type": "code",
   "execution_count": 285,
   "metadata": {},
   "outputs": [
    {
     "data": {
      "text/plain": [
       "'Best Parameters:'"
      ]
     },
     "metadata": {},
     "output_type": "display_data"
    },
    {
     "data": {
      "text/html": [
       "<div>\n",
       "<style scoped>\n",
       "    .dataframe tbody tr th:only-of-type {\n",
       "        vertical-align: middle;\n",
       "    }\n",
       "\n",
       "    .dataframe tbody tr th {\n",
       "        vertical-align: top;\n",
       "    }\n",
       "\n",
       "    .dataframe thead th {\n",
       "        text-align: right;\n",
       "    }\n",
       "</style>\n",
       "<table border=\"1\" class=\"dataframe\">\n",
       "  <thead>\n",
       "    <tr style=\"text-align: right;\">\n",
       "      <th></th>\n",
       "      <th>multinomial_logistic_regression__C</th>\n",
       "    </tr>\n",
       "  </thead>\n",
       "  <tbody>\n",
       "    <tr>\n",
       "      <th>0</th>\n",
       "      <td>2.338693</td>\n",
       "    </tr>\n",
       "  </tbody>\n",
       "</table>\n",
       "</div>"
      ],
      "text/plain": [
       "   multinomial_logistic_regression__C\n",
       "0                            2.338693"
      ]
     },
     "metadata": {},
     "output_type": "display_data"
    },
    {
     "name": "stdout",
     "output_type": "stream",
     "text": [
      "Mean CV Train Accuracy with best parameters: 91.3100 %\n",
      "Test Accuracy with best parameters: 88.5000 %\n"
     ]
    }
   ],
   "source": [
    "# Refine model and update pipeline\n",
    "model_mlr = LogisticRegression(multi_class='multinomial', solver=\"lbfgs\", penalty=\"l2\", max_iter=1000, random_state=42) \n",
    "pipeline_mlr = settings.create_pipeline([\"preprocess\", column_trans], [\"multinomial_logistic_regression\", model_mlr])\n",
    "\n",
    "# set up param grid\n",
    "param_grid_mlr = {\n",
    "    'multinomial_logistic_regression__C': np.linspace(0.1, 10, 200), # large sweep of C values\n",
    "}\n",
    "\n",
    "# Create and fit GridSearchCV object on training data\n",
    "grid_search_mlr = GridSearchCV(pipeline_mlr, param_grid=param_grid_mlr, scoring='accuracy', cv=cv_mlr, n_jobs=-1)\n",
    "grid_search_mlr.fit(X_train, y_train)\n",
    "\n",
    "settings.get_gridsearchcv_summary(grid_search_mlr, 4, X_test, y_test)\n"
   ]
  },
  {
   "cell_type": "code",
   "execution_count": 287,
   "metadata": {},
   "outputs": [
    {
     "name": "stdout",
     "output_type": "stream",
     "text": [
      "Mean CV Train Accuracy: 91.5700 %\n",
      "Test Accuracy: 85.000 %\n"
     ]
    }
   ],
   "source": [
    "# Refine model\n",
    "model_mlr = LogisticRegression(multi_class='multinomial', solver=\"lbfgs\", penalty=\"l2\", C = 2.4, max_iter=1000, random_state=42) \n",
    "\n",
    "# instantiate SMOTENC object with categorical indicies of transformed X_train dataset\n",
    "categorical_features = [1, 2, 3, 4, 5, 6, 7, 8, 9, 10, 11, 12, 13, 14, 15, 16]\n",
    "smote_nc = SMOTENC(categorical_features=categorical_features, random_state=42)\n",
    "\n",
    "# Set up pipeline using imblearn's Pipeline class (SMOTE not compatible with sklearn's Pipeline)\n",
    "# Reuse model with tuned hyperparameters\n",
    "steps = [('column_trans', column_trans), ('smote', smote_nc), ('multinomial_logistic_regression', model_mlr)]\n",
    "pipeline_mlr = Pipeline_imb(steps)\n",
    "\n",
    "# Run cross validation on pipeline with train data \n",
    "cv_scores = cross_val_score(pipeline_mlr, X_train, y_train, scoring='accuracy', cv=cv_mlr)\n",
    "print('Mean CV Train Accuracy:', settings.score_formatter(np.mean(cv_scores), 4))\n",
    "666666666\n",
    "# Fit pipeline with train data and generate test score using model step only (no smote for test)\n",
    "pipeline_mlr.fit(X_train, y_train)\n",
    "model_mlr = pipeline_mlr.named_steps['multinomial_logistic_regression']\n",
    "print('Test Accuracy:', settings.score_formatter(model_mlr.score(transformed_X_test_df.values, y_test), 3))\n"
   ]
  },
  {
   "cell_type": "markdown",
   "metadata": {},
   "source": [
    "https://www.kaggle.com/code/jillanisofttech/sleep-health-and-lifestyle-predication-with-94-ac"
   ]
  },
  {
   "cell_type": "markdown",
   "metadata": {},
   "source": [
    "- KNN (deminensionality reduction needed)"
   ]
  }
 ],
 "metadata": {
  "kernelspec": {
   "display_name": "base",
   "language": "python",
   "name": "python3"
  },
  "language_info": {
   "codemirror_mode": {
    "name": "ipython",
    "version": 3
   },
   "file_extension": ".py",
   "mimetype": "text/x-python",
   "name": "python",
   "nbconvert_exporter": "python",
   "pygments_lexer": "ipython3",
   "version": "3.9.13"
  },
  "orig_nbformat": 4
 },
 "nbformat": 4,
 "nbformat_minor": 2
}
