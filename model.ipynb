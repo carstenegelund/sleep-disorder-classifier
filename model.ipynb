{
 "cells": [
  {
   "cell_type": "markdown",
   "metadata": {},
   "source": [
    "<p style=\"font-weight:bold; letter-spacing: 2px; color:#F5F5DC; font-size:140%; text-align:left; max-width: 1050px; padding: 10px; border-bottom: 3px solid #D2B48C\"> Preprocessing on Sleep Disorder Prediction</p>"
   ]
  },
  {
   "cell_type": "code",
   "execution_count": 466,
   "metadata": {},
   "outputs": [],
   "source": [
    "# import custom classes, functions and variables. Reload file in to memory on cell excution.\n",
    "import importlib\n",
    "import settings\n",
    "importlib.reload(settings)\n",
    "\n",
    "# import data frameworks\n",
    "import pandas as pd\n",
    "import numpy as np\n",
    "\n",
    "# import viz\n",
    "import matplotlib.pyplot as plt\n",
    "import seaborn as sns\n",
    "\n",
    "# import ML\n",
    "from sklearn.model_selection import train_test_split\n",
    "from sklearn.pipeline import Pipeline\n",
    "from sklearn.compose import ColumnTransformer\n",
    "from sklearn.preprocessing import OneHotEncoder, StandardScaler\n",
    "from sklearn.linear_model import LogisticRegression\n",
    "from sklearn.model_selection import RepeatedStratifiedKFold\n",
    "from sklearn.model_selection import cross_val_score\n",
    "from sklearn.model_selection import GridSearchCV\n",
    "from sklearn.metrics import accuracy_score, confusion_matrix, classification_report\n",
    "import statsmodels.api as sm\n",
    "\n",
    "\n",
    "# import others\n",
    "import os\n",
    "import pickle"
   ]
  },
  {
   "cell_type": "markdown",
   "metadata": {},
   "source": [
    "#### Import data"
   ]
  },
  {
   "cell_type": "code",
   "execution_count": 286,
   "metadata": {},
   "outputs": [
    {
     "name": "stdout",
     "output_type": "stream",
     "text": [
      "df loaded\n"
     ]
    }
   ],
   "source": [
    "df = pd.read_csv(os.path.join(settings.DATA_EDA_DIR, settings.DATA_EDA_FILE), sep=\",\")\n",
    "if len(df) > 0:\n",
    "    print(\"df loaded\")"
   ]
  },
  {
   "cell_type": "markdown",
   "metadata": {},
   "source": [
    "#### Split in to train and test"
   ]
  },
  {
   "cell_type": "code",
   "execution_count": 291,
   "metadata": {},
   "outputs": [],
   "source": [
    "X = df[settings.ALL_FEATURES]\n",
    "y = df[settings.LABEL]\n",
    "X_train, X_test, y_train, y_test = train_test_split(X, y, test_size=0.2, random_state=43, stratify=y)"
   ]
  },
  {
   "cell_type": "code",
   "execution_count": 292,
   "metadata": {},
   "outputs": [
    {
     "data": {
      "text/plain": [
       "Unique Values    [1, 0, 2]\n",
       "Name: Sleep Disorder, dtype: object"
      ]
     },
     "metadata": {},
     "output_type": "display_data"
    },
    {
     "data": {
      "text/plain": [
       "Unique Values    [1, 0, 2]\n",
       "Name: Sleep Disorder, dtype: object"
      ]
     },
     "metadata": {},
     "output_type": "display_data"
    }
   ],
   "source": [
    "# Encode y vector \n",
    "map = {\"None\":0, \"Sleep Apnea\":1, \"Insomnia\":2}\n",
    "# apply mapping function\n",
    "settings.column_mapper(y_train, \"Sleep Disorder\", map)\n",
    "settings.column_mapper(y_test, \"Sleep Disorder\", map)\n",
    "# check new values in consolidated column\n",
    "display(settings.examine_values(y_train).loc[\"Sleep Disorder\",:])\n",
    "display(settings.examine_values(y_train).loc[\"Sleep Disorder\",:])"
   ]
  },
  {
   "cell_type": "markdown",
   "metadata": {},
   "source": [
    "*Reshape y to be 1-D vector*"
   ]
  },
  {
   "cell_type": "code",
   "execution_count": 293,
   "metadata": {},
   "outputs": [],
   "source": [
    "y_train, y_test = y_train.values.reshape(-1), y_test.values.reshape(-1)"
   ]
  },
  {
   "cell_type": "markdown",
   "metadata": {},
   "source": [
    "<p style=\"font-weight:bold; letter-spacing: 2px; color:#F5F5DC; font-size:140%; text-align:left; max-width: 1050px; padding: 10px; border-bottom: 3px solid #D2B48C\"> Multinomial Regression</p>"
   ]
  },
  {
   "cell_type": "markdown",
   "metadata": {},
   "source": [
    "*Preprocess steps*"
   ]
  },
  {
   "cell_type": "code",
   "execution_count": 346,
   "metadata": {},
   "outputs": [
    {
     "data": {
      "text/plain": [
       "'train: check for dummy encoded columns and scaled values (mean 0 and std 1)'"
      ]
     },
     "metadata": {},
     "output_type": "display_data"
    },
    {
     "data": {
      "text/plain": [
       "(299, 23)"
      ]
     },
     "metadata": {},
     "output_type": "display_data"
    },
    {
     "data": {
      "text/html": [
       "<div>\n",
       "<style scoped>\n",
       "    .dataframe tbody tr th:only-of-type {\n",
       "        vertical-align: middle;\n",
       "    }\n",
       "\n",
       "    .dataframe tbody tr th {\n",
       "        vertical-align: top;\n",
       "    }\n",
       "\n",
       "    .dataframe thead th {\n",
       "        text-align: right;\n",
       "    }\n",
       "</style>\n",
       "<table border=\"1\" class=\"dataframe\">\n",
       "  <thead>\n",
       "    <tr style=\"text-align: right;\">\n",
       "      <th></th>\n",
       "      <th>Gender_Female</th>\n",
       "      <th>Gender_Male</th>\n",
       "      <th>Occupation_Accountant</th>\n",
       "      <th>Occupation_Doctor</th>\n",
       "      <th>Occupation_Engineer</th>\n",
       "      <th>Occupation_Lawyer</th>\n",
       "      <th>Occupation_Nurse</th>\n",
       "      <th>Occupation_Salesperson</th>\n",
       "      <th>Occupation_Teacher</th>\n",
       "      <th>Occupation_Unknown</th>\n",
       "      <th>BMI Category_Normal</th>\n",
       "      <th>BMI Category_Overweight</th>\n",
       "      <th>Blood Pressure Category_Elevated</th>\n",
       "      <th>Blood Pressure Category_High Blood Pressure Stage 1</th>\n",
       "      <th>Blood Pressure Category_High Blood Pressure Stage 2</th>\n",
       "      <th>Blood Pressure Category_Normal</th>\n",
       "      <th>Age</th>\n",
       "      <th>Sleep Duration</th>\n",
       "      <th>Quality of Sleep</th>\n",
       "      <th>Physical Activity Level</th>\n",
       "      <th>Stress Level</th>\n",
       "      <th>Heart Rate</th>\n",
       "      <th>Daily Steps</th>\n",
       "    </tr>\n",
       "  </thead>\n",
       "  <tbody>\n",
       "    <tr>\n",
       "      <th>mean</th>\n",
       "      <td>0.491639</td>\n",
       "      <td>0.508361</td>\n",
       "      <td>0.113712</td>\n",
       "      <td>0.187291</td>\n",
       "      <td>0.163880</td>\n",
       "      <td>0.133779</td>\n",
       "      <td>0.193980</td>\n",
       "      <td>0.080268</td>\n",
       "      <td>0.093645</td>\n",
       "      <td>0.033445</td>\n",
       "      <td>0.585284</td>\n",
       "      <td>0.414716</td>\n",
       "      <td>0.32107</td>\n",
       "      <td>0.367893</td>\n",
       "      <td>0.197324</td>\n",
       "      <td>0.113712</td>\n",
       "      <td>-1.837995e-16</td>\n",
       "      <td>3.017839e-16</td>\n",
       "      <td>2.710578e-16</td>\n",
       "      <td>8.273297e-17</td>\n",
       "      <td>-2.361545e-16</td>\n",
       "      <td>1.145126e-15</td>\n",
       "      <td>9.992936e-17</td>\n",
       "    </tr>\n",
       "    <tr>\n",
       "      <th>std</th>\n",
       "      <td>0.500768</td>\n",
       "      <td>0.500768</td>\n",
       "      <td>0.317994</td>\n",
       "      <td>0.390799</td>\n",
       "      <td>0.370787</td>\n",
       "      <td>0.340986</td>\n",
       "      <td>0.396076</td>\n",
       "      <td>0.272162</td>\n",
       "      <td>0.291823</td>\n",
       "      <td>0.180096</td>\n",
       "      <td>0.493499</td>\n",
       "      <td>0.493499</td>\n",
       "      <td>0.46767</td>\n",
       "      <td>0.483040</td>\n",
       "      <td>0.398646</td>\n",
       "      <td>0.317994</td>\n",
       "      <td>1.001676e+00</td>\n",
       "      <td>1.001676e+00</td>\n",
       "      <td>1.001676e+00</td>\n",
       "      <td>1.001676e+00</td>\n",
       "      <td>1.001676e+00</td>\n",
       "      <td>1.001676e+00</td>\n",
       "      <td>1.001676e+00</td>\n",
       "    </tr>\n",
       "  </tbody>\n",
       "</table>\n",
       "</div>"
      ],
      "text/plain": [
       "      Gender_Female  Gender_Male  Occupation_Accountant  Occupation_Doctor  \\\n",
       "mean       0.491639     0.508361               0.113712           0.187291   \n",
       "std        0.500768     0.500768               0.317994           0.390799   \n",
       "\n",
       "      Occupation_Engineer  Occupation_Lawyer  Occupation_Nurse  \\\n",
       "mean             0.163880           0.133779          0.193980   \n",
       "std              0.370787           0.340986          0.396076   \n",
       "\n",
       "      Occupation_Salesperson  Occupation_Teacher  Occupation_Unknown  \\\n",
       "mean                0.080268            0.093645            0.033445   \n",
       "std                 0.272162            0.291823            0.180096   \n",
       "\n",
       "      BMI Category_Normal  BMI Category_Overweight  \\\n",
       "mean             0.585284                 0.414716   \n",
       "std              0.493499                 0.493499   \n",
       "\n",
       "      Blood Pressure Category_Elevated  \\\n",
       "mean                           0.32107   \n",
       "std                            0.46767   \n",
       "\n",
       "      Blood Pressure Category_High Blood Pressure Stage 1  \\\n",
       "mean                                             0.367893   \n",
       "std                                              0.483040   \n",
       "\n",
       "      Blood Pressure Category_High Blood Pressure Stage 2  \\\n",
       "mean                                             0.197324   \n",
       "std                                              0.398646   \n",
       "\n",
       "      Blood Pressure Category_Normal           Age  Sleep Duration  \\\n",
       "mean                        0.113712 -1.837995e-16    3.017839e-16   \n",
       "std                         0.317994  1.001676e+00    1.001676e+00   \n",
       "\n",
       "      Quality of Sleep  Physical Activity Level  Stress Level    Heart Rate  \\\n",
       "mean      2.710578e-16             8.273297e-17 -2.361545e-16  1.145126e-15   \n",
       "std       1.001676e+00             1.001676e+00  1.001676e+00  1.001676e+00   \n",
       "\n",
       "       Daily Steps  \n",
       "mean  9.992936e-17  \n",
       "std   1.001676e+00  "
      ]
     },
     "metadata": {},
     "output_type": "display_data"
    },
    {
     "data": {
      "text/plain": [
       "'test: check for same dummy encoded columns and scaled values (mean close to 0 and std close to 1)'"
      ]
     },
     "metadata": {},
     "output_type": "display_data"
    },
    {
     "data": {
      "text/plain": [
       "(75, 23)"
      ]
     },
     "metadata": {},
     "output_type": "display_data"
    },
    {
     "data": {
      "text/html": [
       "<div>\n",
       "<style scoped>\n",
       "    .dataframe tbody tr th:only-of-type {\n",
       "        vertical-align: middle;\n",
       "    }\n",
       "\n",
       "    .dataframe tbody tr th {\n",
       "        vertical-align: top;\n",
       "    }\n",
       "\n",
       "    .dataframe thead th {\n",
       "        text-align: right;\n",
       "    }\n",
       "</style>\n",
       "<table border=\"1\" class=\"dataframe\">\n",
       "  <thead>\n",
       "    <tr style=\"text-align: right;\">\n",
       "      <th></th>\n",
       "      <th>Gender_Female</th>\n",
       "      <th>Gender_Male</th>\n",
       "      <th>Occupation_Accountant</th>\n",
       "      <th>Occupation_Doctor</th>\n",
       "      <th>Occupation_Engineer</th>\n",
       "      <th>Occupation_Lawyer</th>\n",
       "      <th>Occupation_Nurse</th>\n",
       "      <th>Occupation_Salesperson</th>\n",
       "      <th>Occupation_Teacher</th>\n",
       "      <th>Occupation_Unknown</th>\n",
       "      <th>BMI Category_Normal</th>\n",
       "      <th>BMI Category_Overweight</th>\n",
       "      <th>Blood Pressure Category_Elevated</th>\n",
       "      <th>Blood Pressure Category_High Blood Pressure Stage 1</th>\n",
       "      <th>Blood Pressure Category_High Blood Pressure Stage 2</th>\n",
       "      <th>Blood Pressure Category_Normal</th>\n",
       "      <th>Age</th>\n",
       "      <th>Sleep Duration</th>\n",
       "      <th>Quality of Sleep</th>\n",
       "      <th>Physical Activity Level</th>\n",
       "      <th>Stress Level</th>\n",
       "      <th>Heart Rate</th>\n",
       "      <th>Daily Steps</th>\n",
       "    </tr>\n",
       "  </thead>\n",
       "  <tbody>\n",
       "    <tr>\n",
       "      <th>mean</th>\n",
       "      <td>0.506667</td>\n",
       "      <td>0.493333</td>\n",
       "      <td>0.040000</td>\n",
       "      <td>0.200000</td>\n",
       "      <td>0.186667</td>\n",
       "      <td>0.093333</td>\n",
       "      <td>0.200000</td>\n",
       "      <td>0.106667</td>\n",
       "      <td>0.160000</td>\n",
       "      <td>0.013333</td>\n",
       "      <td>0.546667</td>\n",
       "      <td>0.453333</td>\n",
       "      <td>0.360000</td>\n",
       "      <td>0.360000</td>\n",
       "      <td>0.186667</td>\n",
       "      <td>0.093333</td>\n",
       "      <td>0.126738</td>\n",
       "      <td>0.143172</td>\n",
       "      <td>0.076646</td>\n",
       "      <td>0.019312</td>\n",
       "      <td>-0.101722</td>\n",
       "      <td>-0.131451</td>\n",
       "      <td>-0.053973</td>\n",
       "    </tr>\n",
       "    <tr>\n",
       "      <th>std</th>\n",
       "      <td>0.503322</td>\n",
       "      <td>0.503322</td>\n",
       "      <td>0.197279</td>\n",
       "      <td>0.402694</td>\n",
       "      <td>0.392268</td>\n",
       "      <td>0.292858</td>\n",
       "      <td>0.402694</td>\n",
       "      <td>0.310768</td>\n",
       "      <td>0.369075</td>\n",
       "      <td>0.115470</td>\n",
       "      <td>0.501170</td>\n",
       "      <td>0.501170</td>\n",
       "      <td>0.483232</td>\n",
       "      <td>0.483232</td>\n",
       "      <td>0.392268</td>\n",
       "      <td>0.292858</td>\n",
       "      <td>1.050244</td>\n",
       "      <td>1.018893</td>\n",
       "      <td>0.963742</td>\n",
       "      <td>0.990402</td>\n",
       "      <td>0.970543</td>\n",
       "      <td>0.858403</td>\n",
       "      <td>0.872333</td>\n",
       "    </tr>\n",
       "  </tbody>\n",
       "</table>\n",
       "</div>"
      ],
      "text/plain": [
       "      Gender_Female  Gender_Male  Occupation_Accountant  Occupation_Doctor  \\\n",
       "mean       0.506667     0.493333               0.040000           0.200000   \n",
       "std        0.503322     0.503322               0.197279           0.402694   \n",
       "\n",
       "      Occupation_Engineer  Occupation_Lawyer  Occupation_Nurse  \\\n",
       "mean             0.186667           0.093333          0.200000   \n",
       "std              0.392268           0.292858          0.402694   \n",
       "\n",
       "      Occupation_Salesperson  Occupation_Teacher  Occupation_Unknown  \\\n",
       "mean                0.106667            0.160000            0.013333   \n",
       "std                 0.310768            0.369075            0.115470   \n",
       "\n",
       "      BMI Category_Normal  BMI Category_Overweight  \\\n",
       "mean             0.546667                 0.453333   \n",
       "std              0.501170                 0.501170   \n",
       "\n",
       "      Blood Pressure Category_Elevated  \\\n",
       "mean                          0.360000   \n",
       "std                           0.483232   \n",
       "\n",
       "      Blood Pressure Category_High Blood Pressure Stage 1  \\\n",
       "mean                                             0.360000   \n",
       "std                                              0.483232   \n",
       "\n",
       "      Blood Pressure Category_High Blood Pressure Stage 2  \\\n",
       "mean                                             0.186667   \n",
       "std                                              0.392268   \n",
       "\n",
       "      Blood Pressure Category_Normal       Age  Sleep Duration  \\\n",
       "mean                        0.093333  0.126738        0.143172   \n",
       "std                         0.292858  1.050244        1.018893   \n",
       "\n",
       "      Quality of Sleep  Physical Activity Level  Stress Level  Heart Rate  \\\n",
       "mean          0.076646                 0.019312     -0.101722   -0.131451   \n",
       "std           0.963742                 0.990402      0.970543    0.858403   \n",
       "\n",
       "      Daily Steps  \n",
       "mean    -0.053973  \n",
       "std      0.872333  "
      ]
     },
     "metadata": {},
     "output_type": "display_data"
    }
   ],
   "source": [
    "# Create a column transformer for ohe and scaling\n",
    "column_trans = ColumnTransformer(\n",
    "    transformers=[\n",
    "        ('onehot', OneHotEncoder(handle_unknown='ignore'), X_train.select_dtypes(include=['object']).columns),\n",
    "        ('scale', StandardScaler(), X_train.select_dtypes(include=['float64', 'int64']).columns)\n",
    "    ],\n",
    "    remainder='passthrough')\n",
    "\n",
    "# Convert to df as a sense check. Use only for interpretibility before using for pipeline. \n",
    "transformed_X_train_df = settings.convert_transformed_features_to_df(column_trans, column_trans.fit_transform(X_train))\n",
    "transformed_X_test_df = settings.convert_transformed_features_to_df(column_trans, column_trans.transform(X_test))\n",
    "\n",
    "display(\"train: check for dummy encoded columns and scaled values (mean 0 and std 1)\",transformed_X_train_df.shape, transformed_X_train_df.describe().loc[[\"mean\", \"std\"],:])\n",
    "display(\"test: check for same dummy encoded columns and scaled values (mean close to 0 and std close to 1)\",transformed_X_test_df.shape, transformed_X_test_df.describe().loc[[\"mean\", \"std\"],:])"
   ]
  },
  {
   "cell_type": "markdown",
   "metadata": {},
   "source": [
    "*Create pipeline and base model*"
   ]
  },
  {
   "cell_type": "code",
   "execution_count": 468,
   "metadata": {},
   "outputs": [
    {
     "data": {
      "text/plain": [
       "'Mean Train Accuracy across 5 folds: 0.903 (0.029)'"
      ]
     },
     "metadata": {},
     "output_type": "display_data"
    },
    {
     "data": {
      "text/plain": [
       "'Test Accuracy:0.92'"
      ]
     },
     "metadata": {},
     "output_type": "display_data"
    }
   ],
   "source": [
    "# create model\n",
    "model_mlr = LogisticRegression(multi_class='multinomial', max_iter=1000) # using default solver \"lgbgs\" and penalty \"l2\"\n",
    "\n",
    "# Create a pipeline with the column transformer\n",
    "steps_mlr = [\n",
    "        (\"preprocess\", column_trans), \n",
    "        (\"multinomial_logistic_regression\", model_mlr)\n",
    "        ]\n",
    "pipeline_mlr = Pipeline(steps_mlr)\n",
    "\n",
    "# create cross validation object for validation step\n",
    "cv_mlr = RepeatedStratifiedKFold(n_splits=5, n_repeats=3, random_state=1)\n",
    "\n",
    "# run training cross validation on pipeline \n",
    "cv_scores = cross_val_score(pipeline_mlr, X_train, y_train, scoring='accuracy', cv=cv_mlr, n_jobs=-1)\n",
    "display('Mean Train Accuracy across 5 folds: %.3f (%.3f)' % (np.mean(cv_scores), np.std(cv_scores)))\n",
    "\n",
    "display(f'Test Accuracy:{pipeline.score(X_test, y_test)}')"
   ]
  },
  {
   "cell_type": "markdown",
   "metadata": {},
   "source": [
    "<div style=\"border-radius:10px; border:#DEB887 solid; padding: 15px; background-color: #FFFAF0; font-size:100%; text-align:left; max-width: 1050px; margin: 0 auto; color: #444444;\">\n",
    "\n",
    "<h3 align=\"left\"><font color='#DEB887'>💡 Insights:</font></h3>\n",
    "\n",
    "<ul>\n",
    "    <li>High baseline model train cv accuracy ~ 90% and test ~92%</li>\n",
    "</ul>\n",
    "</div>\n"
   ]
  },
  {
   "cell_type": "code",
   "execution_count": 473,
   "metadata": {},
   "outputs": [],
   "source": [
    "model_mlr.fit(transformed_X_train_df, y_train)\n",
    "\n",
    "# Save as best model\n",
    "try:\n",
    "    with open('best_multinomial_logistic_regression_model.pkl', 'rb') as model_file:\n",
    "        best_model = pickle.load(model_file)\n",
    "except FileNotFoundError:\n",
    "    # Create and save a baseline model\n",
    "    # Replace this with code to create your baseline model\n",
    "    with open('best_model.pkl', 'wb') as model_file:\n",
    "        pickle.dump(model_mlr, model_file)"
   ]
  },
  {
   "cell_type": "markdown",
   "metadata": {},
   "source": [
    "*Hyperparam tuning*"
   ]
  },
  {
   "cell_type": "markdown",
   "metadata": {},
   "source": [
    "*Regularisation*"
   ]
  },
  {
   "cell_type": "code",
   "execution_count": 400,
   "metadata": {},
   "outputs": [
    {
     "name": "stdout",
     "output_type": "stream",
     "text": [
      "Iterations to convergence: 131\n",
      "\n",
      "Best Parameters:\n"
     ]
    },
    {
     "data": {
      "text/html": [
       "<div>\n",
       "<style scoped>\n",
       "    .dataframe tbody tr th:only-of-type {\n",
       "        vertical-align: middle;\n",
       "    }\n",
       "\n",
       "    .dataframe tbody tr th {\n",
       "        vertical-align: top;\n",
       "    }\n",
       "\n",
       "    .dataframe thead th {\n",
       "        text-align: right;\n",
       "    }\n",
       "</style>\n",
       "<table border=\"1\" class=\"dataframe\">\n",
       "  <thead>\n",
       "    <tr style=\"text-align: right;\">\n",
       "      <th></th>\n",
       "      <th>multinomial_logistic_regression__penalty</th>\n",
       "    </tr>\n",
       "  </thead>\n",
       "  <tbody>\n",
       "    <tr>\n",
       "      <th>0</th>\n",
       "      <td>l2</td>\n",
       "    </tr>\n",
       "  </tbody>\n",
       "</table>\n",
       "</div>"
      ],
      "text/plain": [
       "  multinomial_logistic_regression__penalty\n",
       "0                                       l2"
      ]
     },
     "metadata": {},
     "output_type": "display_data"
    },
    {
     "name": "stdout",
     "output_type": "stream",
     "text": [
      "Train Accuracy with best parameters: 90.3013 %\n",
      "Test Accuracy with best parameters: 92.0 %\n"
     ]
    }
   ],
   "source": [
    "# set up param grid\n",
    "param_grid_mlr = {\n",
    "    'multinomial_logistic_regression__penalty': ['l2', \"none\"] # l1 not typically used for multinomial due to compuataional and interpretibility challenges\n",
    "}\n",
    "\n",
    "# Create and fit GridSearchCV object on training data\n",
    "grid_search_mlr = GridSearchCV(pipeline_mlr, param_grid=param_grid_mlr, scoring='accuracy', cv=cv_mlr, n_jobs=-1)\n",
    "grid_search_mlr.fit(X_train, y_train)\n",
    "\n",
    "# Access the best hyperparameters and results\n",
    "best_params, best_score = grid_search_mlr.best_params_, grid_search_mlr.best_score_\n",
    "\n",
    "# See how long convergence took on best model\n",
    "print(\"Iterations to convergence:\", best_model['multinomial_logistic_regression'].n_iter_[0])\n",
    "\n",
    "# Print the best parameters\n",
    "print(\"\\nBest Parameters:\") \n",
    "display(pd.DataFrame(best_params, index=[0]))\n",
    "\n",
    "# Print the best training score\n",
    "print(\"Train Accuracy with best parameters:\", np.round(best_score, 6)*100, \"%\")\n",
    "\n",
    "# Evaluate the best model on the test set\n",
    "best_model = grid_search_mlr.best_estimator_\n",
    "test_accuracy = best_model.score(X_test, y_test)\n",
    "print(\"Test Accuracy with best parameters:\", np.round(test_accuracy, 6)*100, \"%\")"
   ]
  },
  {
   "cell_type": "code",
   "execution_count": 458,
   "metadata": {},
   "outputs": [
    {
     "data": {
      "image/png": "[encoded data removed]",
      "text/plain": [
       "<Figure size 600x400 with 1 Axes>"
      ]
     },
     "metadata": {},
     "output_type": "display_data"
    }
   ],
   "source": [
    "# Access the grid search results\n",
    "results = grid_search_mlr.cv_results_\n",
    "\n",
    "# Extract C values and accuracy scores\n",
    "penalty_values = results['param_multinomial_logistic_regression__penalty'].data\n",
    "mean_test_scores = results['mean_test_score']\n",
    "\n",
    "fig, ax = plt.subplots(figsize=(6, 4), gridspec_kw={'hspace': 0.8}, facecolor=\"#F3EEE7\")\n",
    "\n",
    "# Plot the accuracy scores as C varies using the ax object\n",
    "ax.bar(penalty_values, mean_test_scores)\n",
    "\n",
    "# Calculate the range for y-axis to show small differences\n",
    "y_min, y_max = 0.88, 0.92\n",
    "ax.set_ylim(y_min, y_max)  # Set the y-axis limits using ax.set_ylim\n",
    "\n",
    "ax.set_xlabel('Penalty Choices')\n",
    "ax.set_ylabel('Mean Cross-Validated Accuracy')\n",
    "ax.set_title('Train Accuracy for Different Penalty Choices')\n",
    "\n",
    "plt.show()\n"
   ]
  },
  {
   "cell_type": "markdown",
   "metadata": {},
   "source": [
    "<div style=\"border-radius:10px; border:#DEB887 solid; padding: 15px; background-color: #FFFAF0; font-size:100%; text-align:left; max-width: 1050px; margin: 0 auto; color: #444444;\">\n",
    "\n",
    "<h3 align=\"left\"><font color='#DEB887'>💡 Insights:</font></h3>\n",
    "\n",
    "<ul>\n",
    "    <li>Regularisation providing slightly higher score compared to none. Both will be tested with further tuning</li>\n",
    "</ul>\n",
    "</div>\n"
   ]
  },
  {
   "cell_type": "code",
   "execution_count": 420,
   "metadata": {},
   "outputs": [
    {
     "name": "stdout",
     "output_type": "stream",
     "text": [
      "Iterations to convergence: 131\n",
      "\n",
      "Best Parameters:\n"
     ]
    },
    {
     "data": {
      "text/html": [
       "<div>\n",
       "<style scoped>\n",
       "    .dataframe tbody tr th:only-of-type {\n",
       "        vertical-align: middle;\n",
       "    }\n",
       "\n",
       "    .dataframe tbody tr th {\n",
       "        vertical-align: top;\n",
       "    }\n",
       "\n",
       "    .dataframe thead th {\n",
       "        text-align: right;\n",
       "    }\n",
       "</style>\n",
       "<table border=\"1\" class=\"dataframe\">\n",
       "  <thead>\n",
       "    <tr style=\"text-align: right;\">\n",
       "      <th></th>\n",
       "      <th>multinomial_logistic_regression__C</th>\n",
       "      <th>multinomial_logistic_regression__penalty</th>\n",
       "      <th>multinomial_logistic_regression__solver</th>\n",
       "    </tr>\n",
       "  </thead>\n",
       "  <tbody>\n",
       "    <tr>\n",
       "      <th>0</th>\n",
       "      <td>10</td>\n",
       "      <td>l2</td>\n",
       "      <td>newton-cg</td>\n",
       "    </tr>\n",
       "  </tbody>\n",
       "</table>\n",
       "</div>"
      ],
      "text/plain": [
       "   multinomial_logistic_regression__C  \\\n",
       "0                                  10   \n",
       "\n",
       "  multinomial_logistic_regression__penalty  \\\n",
       "0                                       l2   \n",
       "\n",
       "  multinomial_logistic_regression__solver  \n",
       "0                               newton-cg  "
      ]
     },
     "metadata": {},
     "output_type": "display_data"
    },
    {
     "name": "stdout",
     "output_type": "stream",
     "text": [
      "Train Accuracy with best parameters: 90.4124 %\n",
      "Test Accuracy with best parameters: 94.6667 %\n"
     ]
    }
   ],
   "source": [
    "# set up param grid\n",
    "param_grid_mlr = {\n",
    "    'multinomial_logistic_regression__C': [0.001, 0.01, 0.1, 1, 10, 100], # default = 1 (moderate)\n",
    "    'multinomial_logistic_regression__solver': ['newton-cg', 'lbfgs', 'sag', 'saga'], # default = lbfgs \n",
    "    'multinomial_logistic_regression__penalty': ['l2', \"none\"] # default = l2\n",
    "}\n",
    "\n",
    "# Create and fit GridSearchCV object on training data\n",
    "grid_search_mlr = GridSearchCV(pipeline_mlr, param_grid=param_grid_mlr, scoring='accuracy', cv=cv_mlr, n_jobs=-1)\n",
    "grid_search_mlr.fit(X_train, y_train)\n",
    "\n",
    "# Access the best hyperparameters and results\n",
    "best_params, best_score = grid_search_mlr.best_params_, grid_search_mlr.best_score_\n",
    "\n",
    "# See how long convergence took on best model\n",
    "print(\"Iterations to convergence:\", best_model['multinomial_logistic_regression'].n_iter_[0])\n",
    "\n",
    "# Print the best parameters\n",
    "print(\"\\nBest Parameters:\") \n",
    "display(pd.DataFrame(best_params, index=[0]))\n",
    "\n",
    "# Print the best training score\n",
    "print(\"Train Accuracy with best parameters:\", np.round(best_score, 6)*100, \"%\")\n",
    "\n",
    "# Evaluate the best model on the test set\n",
    "best_model = grid_search_mlr.best_estimator_\n",
    "test_accuracy = best_model.score(X_test, y_test)\n",
    "print(\"Test Accuracy with best parameters:\", np.round(test_accuracy, 6)*100, \"%\")"
   ]
  },
  {
   "cell_type": "code",
   "execution_count": 465,
   "metadata": {},
   "outputs": [
    {
     "data": {
      "image/png": "[encoded data removed]",
      "text/plain": [
       "<Figure size 900x500 with 1 Axes>"
      ]
     },
     "metadata": {},
     "output_type": "display_data"
    }
   ],
   "source": [
    "# Access the latest grid search results\n",
    "results = grid_search_mlr.cv_results_\n",
    "\n",
    "# Extract penalty, C values and accuracy scores\n",
    "grouped = pd.DataFrame(results).groupby([\"param_multinomial_logistic_regression__penalty\",\"param_multinomial_logistic_regression__C\"])[\"mean_test_score\"].mean().unstack()\n",
    "\n",
    "# Set up figure and axes\n",
    "fig, ax = plt.subplots(figsize=(6, 4), gridspec_kw={'hspace': 0.8}, facecolor=\"#F3EEE7\")\n",
    "\n",
    "# Plot the grouped bar chart using the ax object\n",
    "grouped.plot(kind='bar', figsize=(9, 5), ax=ax)\n",
    "\n",
    "# Set y-axis limits\n",
    "y_min, y_max = 0.8, 1\n",
    "ax.set_ylim(y_min, y_max)  # Set the y-axis limits\n",
    "\n",
    "ax.set_xlabel('Penalty')\n",
    "ax.set_ylabel('Accuracy Metric')\n",
    "ax.set_title('Grouped Bar Chart')\n",
    "\n",
    "plt.show()"
   ]
  },
  {
   "cell_type": "markdown",
   "metadata": {},
   "source": [
    "<div style=\"border-radius:10px; border:#DEB887 solid; padding: 15px; background-color: #FFFAF0; font-size:100%; text-align:left; max-width: 1050px; margin: 0 auto; color: #444444;\">\n",
    "\n",
    "<h3 align=\"left\"><font color='#DEB887'>💡 Insights:</font></h3>\n",
    "\n",
    "<ul>\n",
    "    <li>Regularisation providing higher scores compared to none only for specific strengths (C). This is the case for noteably for 10</li>\n",
    "</ul>\n",
    "</div>\n"
   ]
  },
  {
   "cell_type": "code",
   "execution_count": 431,
   "metadata": {},
   "outputs": [
    {
     "data": {
      "image/png": "[encoded data removed]",
      "text/plain": [
       "<Figure size 1000x600 with 1 Axes>"
      ]
     },
     "metadata": {},
     "output_type": "display_data"
    }
   ],
   "source": [
    "import pandas as pd\n",
    "import matplotlib.pyplot as plt\n",
    "\n",
    "# Sample DataFrame\n",
    "data = {\n",
    "    'Category1': ['A', 'B', 'A', 'B', 'A', 'B'],\n",
    "    'Category2': ['X', 'X', 'Y', 'Y', 'Z', 'Z'],\n",
    "    'Metric': [10, 15, 12, 18, 8, 20]\n",
    "}\n",
    "\n",
    "df = pd.DataFrame(data)\n",
    "\n",
    "# Group data by Category1 and Category2 and calculate mean for Metric\n",
    "grouped_data = df.groupby(['Category1', 'Category2'])['Metric'].mean().unstack()\n",
    "\n",
    "# Plotting the grouped bar chart\n",
    "ax = grouped_data.plot(kind='bar', figsize=(10, 6))\n",
    "\n",
    "plt.xlabel('Category1')\n",
    "plt.ylabel('Metric')\n",
    "plt.title('Grouped Bar Chart')\n",
    "\n",
    "plt.legend(title='Category2')\n",
    "\n",
    "plt.show()\n"
   ]
  },
  {
   "cell_type": "code",
   "execution_count": 249,
   "metadata": {},
   "outputs": [
    {
     "name": "stdout",
     "output_type": "stream",
     "text": [
      "Mean Train Accuracy across 5 folds: 0.902 (0.029)\n",
      "Iterations to convergence: [56]\n",
      "Test Accuracy: 0.92\n",
      "Classification Report:\n",
      "               precision    recall  f1-score   support\n",
      "\n",
      "           0       0.95      0.95      0.95        44\n",
      "           1       0.87      0.81      0.84        16\n",
      "           2       0.88      0.93      0.90        15\n",
      "\n",
      "    accuracy                           0.92        75\n",
      "   macro avg       0.90      0.90      0.90        75\n",
      "weighted avg       0.92      0.92      0.92        75\n",
      "\n"
     ]
    }
   ],
   "source": [
    "pipeline.fit(X_train, y_train)\n",
    "pipeline.score(X_test, y_test)\n",
    "\n",
    "model_mr.fit(X_train, y_train)\n",
    "print(\"Iterations to convergence:\", model_mr.n_iter_)\n",
    "y_pred = model_mr.predict(X_test)\n",
    "accuracy = accuracy_score(y_test, y_pred)\n",
    "print(\"Test Accuracy:\", accuracy)\n",
    "\n",
    "# Print the classification report\n",
    "class_report = classification_report(y_test, y_pred)\n",
    "print(\"Classification Report:\\n\", class_report)\n"
   ]
  },
  {
   "cell_type": "code",
   "execution_count": 250,
   "metadata": {},
   "outputs": [
    {
     "name": "stdout",
     "output_type": "stream",
     "text": [
      "Coefficients for each class:\n",
      "Gender\n",
      "Age\n",
      "Sleep Duration\n",
      "Quality of Sleep\n",
      "Physical Activity Level\n",
      "Stress Level\n",
      "BMI Category\n",
      "Heart Rate\n",
      "Daily Steps\n",
      "Blood Pressure Category_High Blood Pressure Stage 1\n",
      "Blood Pressure Category_High Blood Pressure Stage 2\n",
      "Blood Pressure Category_Normal\n",
      "Occupation_Doctor\n",
      "Occupation_Engineer\n",
      "Occupation_Lawyer\n",
      "Occupation_Nurse\n",
      "Occupation_Salesperson\n",
      "Occupation_Teacher\n",
      "Occupation_Unknown\n",
      "Gender\n",
      "Age\n",
      "Sleep Duration\n",
      "Quality of Sleep\n",
      "Physical Activity Level\n",
      "Stress Level\n",
      "BMI Category\n",
      "Heart Rate\n",
      "Daily Steps\n",
      "Blood Pressure Category_High Blood Pressure Stage 1\n",
      "Blood Pressure Category_High Blood Pressure Stage 2\n",
      "Blood Pressure Category_Normal\n",
      "Occupation_Doctor\n",
      "Occupation_Engineer\n",
      "Occupation_Lawyer\n",
      "Occupation_Nurse\n",
      "Occupation_Salesperson\n",
      "Occupation_Teacher\n",
      "Occupation_Unknown\n",
      "Gender\n",
      "Age\n",
      "Sleep Duration\n",
      "Quality of Sleep\n",
      "Physical Activity Level\n",
      "Stress Level\n",
      "BMI Category\n",
      "Heart Rate\n",
      "Daily Steps\n",
      "Blood Pressure Category_High Blood Pressure Stage 1\n",
      "Blood Pressure Category_High Blood Pressure Stage 2\n",
      "Blood Pressure Category_Normal\n",
      "Occupation_Doctor\n",
      "Occupation_Engineer\n",
      "Occupation_Lawyer\n",
      "Occupation_Nurse\n",
      "Occupation_Salesperson\n",
      "Occupation_Teacher\n",
      "Occupation_Unknown\n"
     ]
    }
   ],
   "source": [
    "class_labels = [\"None\",\"Apnea\",\"Insomnia\"]\n",
    "features = X_train.columns\n",
    "\n",
    "# Accessing the coefficients\n",
    "coefficients = model_mr.coef_\n",
    "\n",
    "# Print the coefficients for each class\n",
    "print(\"Coefficients for each class:\")\n",
    "for i in range(len(class_labels)):\n",
    "    for feature in features:\n",
    "        print(feature)\n"
   ]
  },
  {
   "cell_type": "code",
   "execution_count": 251,
   "metadata": {},
   "outputs": [
    {
     "name": "stdout",
     "output_type": "stream",
     "text": [
      "Class: None\n",
      "\n",
      "Feature:                                              Log Odds Weight            Odds Weight\n",
      "--------                                              ---------------            -----------\n",
      "Gender                                                0.15873                    1.17202\n",
      "Age                                                   -0.66051                    0.51659\n",
      "Sleep Duration                                        0.10233                    1.10774\n",
      "Quality of Sleep                                      0.29041                    1.33698\n",
      "Physical Activity Level                               0.23564                    1.26571\n",
      "Stress Level                                          0.05644                    1.05807\n",
      "BMI Category                                          -0.64098                    0.52677\n",
      "Heart Rate                                            -0.61177                    0.54239\n",
      "Daily Steps                                           -0.02098                    0.97924\n",
      "Blood Pressure Category_High Blood Pressure Stage 1   -1.64751                    0.19253\n",
      "Blood Pressure Category_High Blood Pressure Stage 2   -1.09555                    0.33435\n",
      "Blood Pressure Category_Normal                        0.00391                    1.00392\n",
      "Occupation_Doctor                                     0.26438                    1.30262\n",
      "Occupation_Engineer                                   0.11069                    1.11705\n",
      "Occupation_Lawyer                                     0.49315                    1.63746\n",
      "Occupation_Nurse                                      -0.32891                    0.71971\n",
      "Occupation_Salesperson                                -0.20082                    0.81806\n",
      "Occupation_Teacher                                    -0.39615                    0.67291\n",
      "Occupation_Unknown                                    0.51027                    1.66574\n",
      "Class: Apnea\n",
      "\n",
      "Feature:                                              Log Odds Weight            Odds Weight\n",
      "--------                                              ---------------            -----------\n",
      "Gender                                                -0.25215                    0.77713\n",
      "Age                                                   0.18304                    1.20086\n",
      "Sleep Duration                                        0.85374                    2.34841\n",
      "Quality of Sleep                                      -0.30014                    0.74071\n",
      "Physical Activity Level                               -0.33437                    0.71579\n",
      "Stress Level                                          -0.00458                    0.99543\n",
      "BMI Category                                          0.65948                    1.9338\n",
      "Heart Rate                                            0.79471                    2.21379\n",
      "Daily Steps                                           0.65369                    1.92261\n",
      "Blood Pressure Category_High Blood Pressure Stage 1   0.37294                    1.452\n",
      "Blood Pressure Category_High Blood Pressure Stage 2   0.77687                    2.17466\n",
      "Blood Pressure Category_Normal                        -0.28545                    0.75168\n",
      "Occupation_Doctor                                     -0.02086                    0.97935\n",
      "Occupation_Engineer                                   -0.40952                    0.66397\n",
      "Occupation_Lawyer                                     0.00977                    1.00982\n",
      "Occupation_Nurse                                      1.07964                    2.94362\n",
      "Occupation_Salesperson                                -0.23105                    0.7937\n",
      "Occupation_Teacher                                    0.18093                    1.19833\n",
      "Occupation_Unknown                                    0.14108                    1.15152\n",
      "Class: Insomnia\n",
      "\n",
      "Feature:                                              Log Odds Weight            Odds Weight\n",
      "--------                                              ---------------            -----------\n",
      "Gender                                                0.09342                    1.09792\n",
      "Age                                                   0.47748                    1.612\n",
      "Sleep Duration                                        -0.95606                    0.3844\n",
      "Quality of Sleep                                      0.00973                    1.00978\n",
      "Physical Activity Level                               0.09874                    1.10378\n",
      "Stress Level                                          -0.05186                    0.94946\n",
      "BMI Category                                          -0.0185                    0.98167\n",
      "Heart Rate                                            -0.18293                    0.83282\n",
      "Daily Steps                                           -0.6327                    0.53115\n",
      "Blood Pressure Category_High Blood Pressure Stage 1   1.27457                    3.57716\n",
      "Blood Pressure Category_High Blood Pressure Stage 2   0.31868                    1.37531\n",
      "Blood Pressure Category_Normal                        0.28153                    1.32516\n",
      "Occupation_Doctor                                     -0.24352                    0.78387\n",
      "Occupation_Engineer                                   0.29883                    1.34828\n",
      "Occupation_Lawyer                                     -0.50291                    0.60477\n",
      "Occupation_Nurse                                      -0.75073                    0.47202\n",
      "Occupation_Salesperson                                0.43186                    1.54012\n",
      "Occupation_Teacher                                    0.21522                    1.24014\n",
      "Occupation_Unknown                                    -0.65135                    0.52134\n"
     ]
    }
   ],
   "source": [
    "class_labels = [\"None\",\"Apnea\",\"Insomnia\"]\n",
    "features = X_train.columns\n",
    "for i, class_label in enumerate(class_labels):\n",
    "    print(\"Class:\", class_label)\n",
    "    print(\"\")\n",
    "    print(\"Feature:\", 44*\" \", \"Log Odds Weight\", 10*\" \", \"Odds Weight\")\n",
    "    print(\"--------\", 44*\" \", \"---------------\", 10*\" \", \"-----------\")\n",
    "    for ii, feature in enumerate(features):\n",
    "        print(feature, (52-len(feature))*\" \", np.round(model_mr.coef_[i][ii],5), 18*\" \",np.round(np.exp(model_mr.coef_[i][ii]),5))\n"
   ]
  },
  {
   "cell_type": "code",
   "execution_count": 252,
   "metadata": {},
   "outputs": [
    {
     "data": {
      "image/png": "[encoded data removed]",
      "text/plain": [
       "<Figure size 500x400 with 2 Axes>"
      ]
     },
     "metadata": {},
     "output_type": "display_data"
    }
   ],
   "source": [
    "class_labels = [\"None\",\"Apnea\",\"Insomnia\"]\n",
    "conf_matrix = confusion_matrix(y_test, y_pred)\n",
    "plt.figure(figsize=(5, 4))\n",
    "heatmap = sns.heatmap(conf_matrix, annot=True, fmt=\"d\", cmap=\"Blues\", xticklabels=class_labels, yticklabels=class_labels)\n",
    "plt.xlabel(\"Predicted\")\n",
    "plt.ylabel(\"True\")\n",
    "plt.title(\"Labeled Confusion Matrix\")\n",
    "plt.xticks(rotation=45, ha='right')  # Rotate and align x-axis labels\n",
    "plt.gca().xaxis.tick_top()  # Move x-axis ticks to the top\n",
    "plt.show()\n"
   ]
  },
  {
   "cell_type": "markdown",
   "metadata": {},
   "source": [
    "<p style=\"font-weight:bold; letter-spacing: 2px; color:#F5F5DC; font-size:140%; text-align:left; max-width: 1050px; padding: 10px; border-bottom: 3px solid #D2B48C\"> Decision Tree</p>"
   ]
  },
  {
   "cell_type": "markdown",
   "metadata": {},
   "source": [
    "<p style=\"font-weight:bold; letter-spacing: 2px; color:#F5F5DC; font-size:140%; text-align:left; max-width: 1050px; padding: 10px; border-bottom: 3px solid #D2B48C\"> Random Forest</p>"
   ]
  }
 ],
 "metadata": {
  "kernelspec": {
   "display_name": "base",
   "language": "python",
   "name": "python3"
  },
  "language_info": {
   "codemirror_mode": {
    "name": "ipython",
    "version": 3
   },
   "file_extension": ".py",
   "mimetype": "text/x-python",
   "name": "python",
   "nbconvert_exporter": "python",
   "pygments_lexer": "ipython3",
   "version": "3.9.13"
  },
  "orig_nbformat": 4
 },
 "nbformat": 4,
 "nbformat_minor": 2
}
