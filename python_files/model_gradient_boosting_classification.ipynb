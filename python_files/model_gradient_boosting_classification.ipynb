{
 "cells": [
  {
   "cell_type": "markdown",
   "metadata": {},
   "source": [
    "<p style=\"font-weight:bold; letter-spacing: 2px; color:#F5F5DC; font-size:140%; text-align:left; max-width: 1050px; padding: 10px; border-bottom: 3px solid #D2B48C\"> Gradient Boost Classification</p>"
   ]
  },
  {
   "cell_type": "markdown",
   "metadata": {},
   "source": [
    "*Approach*\n",
    "1. Load data\n",
    "2. Split data\n",
    "3. Create ColumnTransformer w/ ohe (so scaling needed)\n",
    "4. Create GradientBoostClassifier w/ default\n",
    "5. Create pipeline w/ ColumnTransformer and GradientBoostClassifier\n",
    "6. Create and evaluate cross_val_score on pipeline\n",
    "7. Compare train and test scores for baseline model\n",
    "8. Compare affect of different seeds on baseline model. Verify cross_val_score and test averages are similar\n",
    "9. Create GridSearchCV with params \n",
    "10. Fit and evaluate best hyperparameters\n",
    "11. Plot classification_report and confusion_matrix\n",
    "12. Evaluate affect of balancing the class with smote or with class_weight=\"balanced\" \n"
   ]
  },
  {
   "cell_type": "markdown",
   "metadata": {},
   "source": [
    "*Import Libraries*"
   ]
  },
  {
   "cell_type": "code",
   "execution_count": 4,
   "metadata": {},
   "outputs": [],
   "source": [
    "# import custom classes, functions and variables. Reload file in to memory on cell excution.\n",
    "import importlib\n",
    "import settings\n",
    "importlib.reload(settings)\n",
    "\n",
    "# import data frameworks\n",
    "import pandas as pd\n",
    "import numpy as np\n",
    "\n",
    "# import viz\n",
    "import matplotlib.pyplot as plt\n",
    "import seaborn as sns\n",
    "\n",
    "# import ML\n",
    "from sklearn.datasets import make_classification\n",
    "from sklearn.model_selection import train_test_split\n",
    "from sklearn.pipeline import Pipeline\n",
    "from imblearn.pipeline import Pipeline as Pipeline_imb\n",
    "from sklearn.compose import ColumnTransformer\n",
    "from sklearn.preprocessing import OneHotEncoder, StandardScaler\n",
    "from sklearn.ensemble import GradientBoostingClassifier\n",
    "from sklearn.tree import DecisionTreeClassifier\n",
    "from sklearn.model_selection import RepeatedStratifiedKFold\n",
    "from sklearn.model_selection import cross_val_score\n",
    "from sklearn.model_selection import GridSearchCV\n",
    "from sklearn.metrics import accuracy_score, confusion_matrix, classification_report\n",
    "from sklearn.metrics import roc_curve, auc\n",
    "import statsmodels.api as sm\n",
    "from imblearn.over_sampling import SMOTENC\n",
    "\n",
    "\n",
    "# import others\n",
    "import os\n",
    "import pickle\n",
    "import warnings\n",
    "\n",
    "# Specific warning categories to be ignored\n",
    "warnings.filterwarnings(\"ignore\", category=DeprecationWarning)\n",
    "warnings.filterwarnings(\"ignore\", category=FutureWarning)"
   ]
  },
  {
   "cell_type": "markdown",
   "metadata": {},
   "source": [
    "*Import data from initial EDA*"
   ]
  },
  {
   "cell_type": "code",
   "execution_count": 2,
   "metadata": {},
   "outputs": [
    {
     "name": "stdout",
     "output_type": "stream",
     "text": [
      "df loaded\n"
     ]
    }
   ],
   "source": [
    "df = pd.read_csv(os.path.join(settings.DATA_EDA_DIR, settings.DATA_EDA_FILE), sep=\",\")\n",
    "if len(df) > 0:\n",
    "    print(\"df loaded\")"
   ]
  },
  {
   "cell_type": "markdown",
   "metadata": {},
   "source": [
    "*Split data and prepare labels*"
   ]
  },
  {
   "cell_type": "code",
   "execution_count": 3,
   "metadata": {},
   "outputs": [],
   "source": [
    "ALL_FEATURES = ['Gender', 'Age', 'Occupation', 'Sleep Duration', 'Quality of Sleep', \n",
    "                'Physical Activity Level', 'Stress Level', 'BMI Category', 'Heart Rate', \n",
    "                'Daily Steps', 'Blood Pressure Category']\n",
    "X = df[ALL_FEATURES]\n",
    "y = df[settings.LABEL]\n",
    "X_train, X_test, y_train, y_test = train_test_split(X, y, test_size=0.3, random_state=42, stratify=y)\n",
    "\n",
    "# Encode y vector \n",
    "map = {\"None\":0, \"Sleep Apnea\":1, \"Insomnia\":2}\n",
    "# apply mapping function\n",
    "settings.column_mapper(y_train, \"Sleep Disorder\", map)\n",
    "settings.column_mapper(y_test, \"Sleep Disorder\", map)\n",
    "\n",
    "# check new values in consolidated column\n",
    "# display(settings.examine_values(y_train).loc[\"Sleep Disorder\",:])\n",
    "# display(settings.examine_values(y_train).loc[\"Sleep Disorder\",:])\n",
    "\n",
    "# reshape labels to 1-D array (vector) \n",
    "y_train, y_test = y_train.values.reshape(-1), y_test.values.reshape(-1)"
   ]
  },
  {
   "cell_type": "markdown",
   "metadata": {},
   "source": [
    "*Preprocess steps*"
   ]
  },
  {
   "cell_type": "code",
   "execution_count": 5,
   "metadata": {},
   "outputs": [
    {
     "data": {
      "text/plain": [
       "'train: check for dummy encoded columns and scaled values (mean 0 and std 1)'"
      ]
     },
     "metadata": {},
     "output_type": "display_data"
    },
    {
     "data": {
      "text/plain": [
       "(261, 23)"
      ]
     },
     "metadata": {},
     "output_type": "display_data"
    },
    {
     "data": {
      "text/html": [
       "<div>\n",
       "<style scoped>\n",
       "    .dataframe tbody tr th:only-of-type {\n",
       "        vertical-align: middle;\n",
       "    }\n",
       "\n",
       "    .dataframe tbody tr th {\n",
       "        vertical-align: top;\n",
       "    }\n",
       "\n",
       "    .dataframe thead th {\n",
       "        text-align: right;\n",
       "    }\n",
       "</style>\n",
       "<table border=\"1\" class=\"dataframe\">\n",
       "  <thead>\n",
       "    <tr style=\"text-align: right;\">\n",
       "      <th></th>\n",
       "      <th>Gender_Female</th>\n",
       "      <th>Gender_Male</th>\n",
       "      <th>Occupation_Accountant</th>\n",
       "      <th>Occupation_Doctor</th>\n",
       "      <th>Occupation_Engineer</th>\n",
       "      <th>Occupation_Lawyer</th>\n",
       "      <th>Occupation_Nurse</th>\n",
       "      <th>Occupation_Salesperson</th>\n",
       "      <th>Occupation_Teacher</th>\n",
       "      <th>Occupation_Unknown</th>\n",
       "      <th>BMI Category_Normal</th>\n",
       "      <th>BMI Category_Overweight</th>\n",
       "      <th>Blood Pressure Category_Elevated</th>\n",
       "      <th>Blood Pressure Category_High Blood Pressure Stage 1</th>\n",
       "      <th>Blood Pressure Category_High Blood Pressure Stage 2</th>\n",
       "      <th>Blood Pressure Category_Normal</th>\n",
       "      <th>Age</th>\n",
       "      <th>Sleep Duration</th>\n",
       "      <th>Quality of Sleep</th>\n",
       "      <th>Physical Activity Level</th>\n",
       "      <th>Stress Level</th>\n",
       "      <th>Heart Rate</th>\n",
       "      <th>Daily Steps</th>\n",
       "    </tr>\n",
       "  </thead>\n",
       "  <tbody>\n",
       "    <tr>\n",
       "      <th>mean</th>\n",
       "      <td>0.494253</td>\n",
       "      <td>0.505747</td>\n",
       "      <td>0.103448</td>\n",
       "      <td>0.183908</td>\n",
       "      <td>0.176245</td>\n",
       "      <td>0.126437</td>\n",
       "      <td>0.183908</td>\n",
       "      <td>0.084291</td>\n",
       "      <td>0.111111</td>\n",
       "      <td>0.030651</td>\n",
       "      <td>0.582375</td>\n",
       "      <td>0.417625</td>\n",
       "      <td>0.318008</td>\n",
       "      <td>0.375479</td>\n",
       "      <td>0.187739</td>\n",
       "      <td>0.118774</td>\n",
       "      <td>42.145594</td>\n",
       "      <td>7.135249</td>\n",
       "      <td>7.298851</td>\n",
       "      <td>59.996169</td>\n",
       "      <td>5.409962</td>\n",
       "      <td>70.122605</td>\n",
       "      <td>6868.582375</td>\n",
       "    </tr>\n",
       "    <tr>\n",
       "      <th>std</th>\n",
       "      <td>0.500928</td>\n",
       "      <td>0.500928</td>\n",
       "      <td>0.305129</td>\n",
       "      <td>0.388153</td>\n",
       "      <td>0.381761</td>\n",
       "      <td>0.332979</td>\n",
       "      <td>0.388153</td>\n",
       "      <td>0.278358</td>\n",
       "      <td>0.314873</td>\n",
       "      <td>0.172702</td>\n",
       "      <td>0.494115</td>\n",
       "      <td>0.494115</td>\n",
       "      <td>0.466597</td>\n",
       "      <td>0.485177</td>\n",
       "      <td>0.391254</td>\n",
       "      <td>0.324144</td>\n",
       "      <td>8.520669</td>\n",
       "      <td>0.784797</td>\n",
       "      <td>1.187579</td>\n",
       "      <td>20.718163</td>\n",
       "      <td>1.746573</td>\n",
       "      <td>4.044025</td>\n",
       "      <td>1621.398228</td>\n",
       "    </tr>\n",
       "  </tbody>\n",
       "</table>\n",
       "</div>"
      ],
      "text/plain": [
       "      Gender_Female  Gender_Male  Occupation_Accountant  Occupation_Doctor  \\\n",
       "mean       0.494253     0.505747               0.103448           0.183908   \n",
       "std        0.500928     0.500928               0.305129           0.388153   \n",
       "\n",
       "      Occupation_Engineer  Occupation_Lawyer  Occupation_Nurse  \\\n",
       "mean             0.176245           0.126437          0.183908   \n",
       "std              0.381761           0.332979          0.388153   \n",
       "\n",
       "      Occupation_Salesperson  Occupation_Teacher  Occupation_Unknown  \\\n",
       "mean                0.084291            0.111111            0.030651   \n",
       "std                 0.278358            0.314873            0.172702   \n",
       "\n",
       "      BMI Category_Normal  BMI Category_Overweight  \\\n",
       "mean             0.582375                 0.417625   \n",
       "std              0.494115                 0.494115   \n",
       "\n",
       "      Blood Pressure Category_Elevated  \\\n",
       "mean                          0.318008   \n",
       "std                           0.466597   \n",
       "\n",
       "      Blood Pressure Category_High Blood Pressure Stage 1  \\\n",
       "mean                                           0.375479     \n",
       "std                                            0.485177     \n",
       "\n",
       "      Blood Pressure Category_High Blood Pressure Stage 2  \\\n",
       "mean                                           0.187739     \n",
       "std                                            0.391254     \n",
       "\n",
       "      Blood Pressure Category_Normal        Age  Sleep Duration  \\\n",
       "mean                        0.118774  42.145594        7.135249   \n",
       "std                         0.324144   8.520669        0.784797   \n",
       "\n",
       "      Quality of Sleep  Physical Activity Level  Stress Level  Heart Rate  \\\n",
       "mean          7.298851                59.996169      5.409962   70.122605   \n",
       "std           1.187579                20.718163      1.746573    4.044025   \n",
       "\n",
       "      Daily Steps  \n",
       "mean  6868.582375  \n",
       "std   1621.398228  "
      ]
     },
     "metadata": {},
     "output_type": "display_data"
    },
    {
     "data": {
      "text/plain": [
       "'test: check for same dummy encoded columns and scaled values (mean close to 0 and std close to 1)'"
      ]
     },
     "metadata": {},
     "output_type": "display_data"
    },
    {
     "data": {
      "text/plain": [
       "(113, 23)"
      ]
     },
     "metadata": {},
     "output_type": "display_data"
    },
    {
     "data": {
      "text/html": [
       "<div>\n",
       "<style scoped>\n",
       "    .dataframe tbody tr th:only-of-type {\n",
       "        vertical-align: middle;\n",
       "    }\n",
       "\n",
       "    .dataframe tbody tr th {\n",
       "        vertical-align: top;\n",
       "    }\n",
       "\n",
       "    .dataframe thead th {\n",
       "        text-align: right;\n",
       "    }\n",
       "</style>\n",
       "<table border=\"1\" class=\"dataframe\">\n",
       "  <thead>\n",
       "    <tr style=\"text-align: right;\">\n",
       "      <th></th>\n",
       "      <th>Gender_Female</th>\n",
       "      <th>Gender_Male</th>\n",
       "      <th>Occupation_Accountant</th>\n",
       "      <th>Occupation_Doctor</th>\n",
       "      <th>Occupation_Engineer</th>\n",
       "      <th>Occupation_Lawyer</th>\n",
       "      <th>Occupation_Nurse</th>\n",
       "      <th>Occupation_Salesperson</th>\n",
       "      <th>Occupation_Teacher</th>\n",
       "      <th>Occupation_Unknown</th>\n",
       "      <th>BMI Category_Normal</th>\n",
       "      <th>BMI Category_Overweight</th>\n",
       "      <th>Blood Pressure Category_Elevated</th>\n",
       "      <th>Blood Pressure Category_High Blood Pressure Stage 1</th>\n",
       "      <th>Blood Pressure Category_High Blood Pressure Stage 2</th>\n",
       "      <th>Blood Pressure Category_Normal</th>\n",
       "      <th>Age</th>\n",
       "      <th>Sleep Duration</th>\n",
       "      <th>Quality of Sleep</th>\n",
       "      <th>Physical Activity Level</th>\n",
       "      <th>Stress Level</th>\n",
       "      <th>Heart Rate</th>\n",
       "      <th>Daily Steps</th>\n",
       "    </tr>\n",
       "  </thead>\n",
       "  <tbody>\n",
       "    <tr>\n",
       "      <th>mean</th>\n",
       "      <td>0.495575</td>\n",
       "      <td>0.504425</td>\n",
       "      <td>0.088496</td>\n",
       "      <td>0.203540</td>\n",
       "      <td>0.150442</td>\n",
       "      <td>0.123894</td>\n",
       "      <td>0.221239</td>\n",
       "      <td>0.088496</td>\n",
       "      <td>0.097345</td>\n",
       "      <td>0.026549</td>\n",
       "      <td>0.566372</td>\n",
       "      <td>0.433628</td>\n",
       "      <td>0.353982</td>\n",
       "      <td>0.345133</td>\n",
       "      <td>0.212389</td>\n",
       "      <td>0.088496</td>\n",
       "      <td>42.274336</td>\n",
       "      <td>7.124779</td>\n",
       "      <td>7.345133</td>\n",
       "      <td>57.265487</td>\n",
       "      <td>5.327434</td>\n",
       "      <td>70.265487</td>\n",
       "      <td>6697.345133</td>\n",
       "    </tr>\n",
       "    <tr>\n",
       "      <th>std</th>\n",
       "      <td>0.502208</td>\n",
       "      <td>0.502208</td>\n",
       "      <td>0.285279</td>\n",
       "      <td>0.404424</td>\n",
       "      <td>0.359097</td>\n",
       "      <td>0.330928</td>\n",
       "      <td>0.416930</td>\n",
       "      <td>0.285279</td>\n",
       "      <td>0.297748</td>\n",
       "      <td>0.161476</td>\n",
       "      <td>0.497783</td>\n",
       "      <td>0.497783</td>\n",
       "      <td>0.480334</td>\n",
       "      <td>0.477529</td>\n",
       "      <td>0.410821</td>\n",
       "      <td>0.285279</td>\n",
       "      <td>9.053657</td>\n",
       "      <td>0.823704</td>\n",
       "      <td>1.223066</td>\n",
       "      <td>21.057327</td>\n",
       "      <td>1.844115</td>\n",
       "      <td>4.356886</td>\n",
       "      <td>1610.648726</td>\n",
       "    </tr>\n",
       "  </tbody>\n",
       "</table>\n",
       "</div>"
      ],
      "text/plain": [
       "      Gender_Female  Gender_Male  Occupation_Accountant  Occupation_Doctor  \\\n",
       "mean       0.495575     0.504425               0.088496           0.203540   \n",
       "std        0.502208     0.502208               0.285279           0.404424   \n",
       "\n",
       "      Occupation_Engineer  Occupation_Lawyer  Occupation_Nurse  \\\n",
       "mean             0.150442           0.123894          0.221239   \n",
       "std              0.359097           0.330928          0.416930   \n",
       "\n",
       "      Occupation_Salesperson  Occupation_Teacher  Occupation_Unknown  \\\n",
       "mean                0.088496            0.097345            0.026549   \n",
       "std                 0.285279            0.297748            0.161476   \n",
       "\n",
       "      BMI Category_Normal  BMI Category_Overweight  \\\n",
       "mean             0.566372                 0.433628   \n",
       "std              0.497783                 0.497783   \n",
       "\n",
       "      Blood Pressure Category_Elevated  \\\n",
       "mean                          0.353982   \n",
       "std                           0.480334   \n",
       "\n",
       "      Blood Pressure Category_High Blood Pressure Stage 1  \\\n",
       "mean                                           0.345133     \n",
       "std                                            0.477529     \n",
       "\n",
       "      Blood Pressure Category_High Blood Pressure Stage 2  \\\n",
       "mean                                           0.212389     \n",
       "std                                            0.410821     \n",
       "\n",
       "      Blood Pressure Category_Normal        Age  Sleep Duration  \\\n",
       "mean                        0.088496  42.274336        7.124779   \n",
       "std                         0.285279   9.053657        0.823704   \n",
       "\n",
       "      Quality of Sleep  Physical Activity Level  Stress Level  Heart Rate  \\\n",
       "mean          7.345133                57.265487      5.327434   70.265487   \n",
       "std           1.223066                21.057327      1.844115    4.356886   \n",
       "\n",
       "      Daily Steps  \n",
       "mean  6697.345133  \n",
       "std   1610.648726  "
      ]
     },
     "metadata": {},
     "output_type": "display_data"
    }
   ],
   "source": [
    "# Create a column transformer for ohe and scaling\n",
    "column_trans = ColumnTransformer(\n",
    "    transformers=[\n",
    "        ('onehot', OneHotEncoder(handle_unknown='ignore'), X_train.select_dtypes(include=['object']).columns)\n",
    "    ],\n",
    "    remainder='passthrough')\n",
    "\n",
    "transformed_X_train_array = column_trans.fit_transform(X_train)\n",
    "transformed_X_test_array = column_trans.transform(X_test)\n",
    "\n",
    "# Convert to df as a sense check. Use only for interpretibility before using for pipeline. \n",
    "transformed_X_train_df = settings.convert_transformed_features_to_df(column_trans, transformed_X_train_array)\n",
    "transformed_X_test_df = settings.convert_transformed_features_to_df(column_trans, transformed_X_test_array)\n",
    "\n",
    "# Check ohe and scaled datasets\n",
    "display(\"train: check for dummy encoded columns and scaled values (mean 0 and std 1)\",transformed_X_train_df.shape, transformed_X_train_df.describe().loc[[\"mean\", \"std\"],:])\n",
    "display(\"test: check for same dummy encoded columns and scaled values (mean close to 0 and std close to 1)\",transformed_X_test_df.shape, transformed_X_test_df.describe().loc[[\"mean\", \"std\"],:])"
   ]
  },
  {
   "cell_type": "markdown",
   "metadata": {},
   "source": [
    "*Create pipeline and base model*"
   ]
  },
  {
   "cell_type": "code",
   "execution_count": 7,
   "metadata": {},
   "outputs": [
    {
     "name": "stdout",
     "output_type": "stream",
     "text": [
      "Train Score: 90.141 %\n",
      "Mean CV Train Score: 80.0779 % ( +- 4.400 % )\n",
      "Test Score: 81.250 %\n"
     ]
    }
   ],
   "source": [
    "# create gradient boosting model\n",
    "model_gb = GradientBoostingClassifier(random_state=42)\n",
    "\n",
    "#create sklearn pipeline\n",
    "pipeline_gb = settings.create_pipeline([\"preprocess\", column_trans], [\"gradientboost\", model_gb])\n",
    "\n",
    "# create cross validation object for cross_val_score\n",
    "cv_gb = RepeatedStratifiedKFold(n_splits=5, n_repeats=3, random_state=42)\n",
    "\n",
    "# define custom scorer for this work: positive label (class 1 and 2) F1 score\n",
    "base_scorer = settings.CustomPositiveF1Scorer().scorer_function\n",
    "custom_scorer = settings.CustomPositiveF1Scorer().custom_scorer\n",
    "\n",
    "# run training cross validation on pipeline \n",
    "cv_scores = cross_val_score(pipeline_gb, X_train, y_train, scoring=custom_scorer, cv=cv_gb)\n",
    "\n",
    "settings.cross_val_summary(pipeline_gb, cv_scores, X_train, y_train, X_test, y_test, scorer=base_scorer)\n"
   ]
  },
  {
   "cell_type": "code",
   "execution_count": 8,
   "metadata": {},
   "outputs": [
    {
     "name": "stdout",
     "output_type": "stream",
     "text": [
      "\n",
      "Classification Report:\n",
      "               precision    recall  f1-score   support\n",
      "\n",
      "           0       0.98      0.95      0.97        66\n",
      "           1       0.83      0.79      0.81        24\n",
      "           2       0.77      0.87      0.82        23\n",
      "\n",
      "    accuracy                           0.90       113\n",
      "   macro avg       0.86      0.87      0.86       113\n",
      "weighted avg       0.91      0.90      0.90       113\n",
      "\n"
     ]
    },
    {
     "data": {
      "image/png": "[encoded data removed]",
      "text/plain": [
       "<Figure size 600x400 with 2 Axes>"
      ]
     },
     "metadata": {},
     "output_type": "display_data"
    }
   ],
   "source": [
    "pipeline_gb.fit(X_train, y_train)\n",
    "\n",
    "# Generate prediction and show classification report\n",
    "y_pred = pipeline_gb.predict(X_test)\n",
    "class_report = classification_report(y_test, y_pred)\n",
    "print(\"\\nClassification Report:\\n\", class_report)\n",
    "\n",
    "# Generate confusion matrix\n",
    "class_labels = [\"None\",\"Apnea\",\"Insomnia\"]\n",
    "conf_matrix = confusion_matrix(y_test, y_pred)\n",
    "\n",
    "settings.plot_conf_matrix(class_labels, conf_matrix)"
   ]
  },
  {
   "cell_type": "markdown",
   "metadata": {},
   "source": [
    "<div style=\"border-radius:10px; border:#DEB887 solid; padding: 15px; background-color: #FFFAF0; font-size:100%; text-align:left; max-width: 1050px; margin: 0 auto; color: #444444;\">\n",
    "\n",
    "<h3 align=\"left\"><font color='#DEB887'>💡 Insights:</font></h3>\n",
    "\n",
    "<ul>\n",
    "    <li>Decent baseline cross validated F1 score 80.1% and slightly higher test accuracy 81.3%. Train score is much higher at 90.1% showing overfitting.</li>\n",
    "    <li>Variation in cross validated scores is lower than other models, notably the single models, but still high (4.4%)</li>\n",
    "    <li>Overall model accuracy is high at ~ 90%.</li>\n",
    "    <li>The model has most difficulty separating the two positive classes: almost equal impact in their recalls through misclassification both ways. Let's see if tuning can move some of the misclassified Insomnia and Apnea samples to their true labels.\n",
    "</ul>\n",
    "</div>\n"
   ]
  },
  {
   "cell_type": "code",
   "execution_count": 9,
   "metadata": {},
   "outputs": [],
   "source": [
    "# Save baseline pipeline to file  \n",
    "settings.save_pipeline(\"best_gradient_boost_classification_pipeline.pkl\", pipeline_gb)"
   ]
  },
  {
   "cell_type": "markdown",
   "metadata": {},
   "source": [
    "*Hyperparam tuning*"
   ]
  },
  {
   "cell_type": "code",
   "execution_count": 12,
   "metadata": {},
   "outputs": [
    {
     "name": "stdout",
     "output_type": "stream",
     "text": [
      "Best Parameters:\n"
     ]
    },
    {
     "data": {
      "text/html": [
       "<div>\n",
       "<style scoped>\n",
       "    .dataframe tbody tr th:only-of-type {\n",
       "        vertical-align: middle;\n",
       "    }\n",
       "\n",
       "    .dataframe tbody tr th {\n",
       "        vertical-align: top;\n",
       "    }\n",
       "\n",
       "    .dataframe thead th {\n",
       "        text-align: right;\n",
       "    }\n",
       "</style>\n",
       "<table border=\"1\" class=\"dataframe\">\n",
       "  <thead>\n",
       "    <tr style=\"text-align: right;\">\n",
       "      <th></th>\n",
       "      <th>gradientboost__max_depth</th>\n",
       "      <th>gradientboost__n_estimators</th>\n",
       "      <th>gradientboost__subsample</th>\n",
       "    </tr>\n",
       "  </thead>\n",
       "  <tbody>\n",
       "    <tr>\n",
       "      <th>0</th>\n",
       "      <td>3</td>\n",
       "      <td>10</td>\n",
       "      <td>0.8</td>\n",
       "    </tr>\n",
       "  </tbody>\n",
       "</table>\n",
       "</div>"
      ],
      "text/plain": [
       "   gradientboost__max_depth  gradientboost__n_estimators  \\\n",
       "0                         3                           10   \n",
       "\n",
       "   gradientboost__subsample  \n",
       "0                       0.8  "
      ]
     },
     "metadata": {},
     "output_type": "display_data"
    },
    {
     "name": "stdout",
     "output_type": "stream",
     "text": [
      "---------------------\n",
      "Using best parameters\n",
      "---------------------\n",
      "Train Score: 89.202 %\n",
      "Mean CV Train Score: 82.152 % ( +- 5.926 % )\n",
      "Test Score: 82.979 %\n"
     ]
    }
   ],
   "source": [
    "# set up param grid\n",
    "param_grid_gb = {\n",
    "    'gradientboost__n_estimators': [10, 50, 100, 200, 500],\n",
    "    'gradientboost__max_depth': [3, 5, 7, 9, 11],\n",
    "    'gradientboost__subsample': [0.5, 0.6, 0.7, 0.8, 0.9, 1]\n",
    "}\n",
    "\n",
    "# Create and fit GridSearchCV object on train data\n",
    "grid_search_gb = GridSearchCV(pipeline_gb, param_grid=param_grid_gb, scoring=custom_scorer, cv=cv_gb, n_jobs=-1)\n",
    "grid_search_gb.fit(X_train, y_train)\n",
    "\n",
    "settings.hyperparam_tune_summary(grid_search_gb, X_train, y_train, X_test, y_test, scorer=base_scorer)"
   ]
  },
  {
   "cell_type": "code",
   "execution_count": 24,
   "metadata": {},
   "outputs": [
    {
     "data": {
      "image/png": "[encoded data removed]",
      "text/plain": [
       "<Figure size 900x500 with 1 Axes>"
      ]
     },
     "metadata": {},
     "output_type": "display_data"
    }
   ],
   "source": [
    "# Access the grid search results\n",
    "results = grid_search_gb.cv_results_\n",
    "\n",
    "# Extract k values, weights values and accuracy scores\n",
    "grouped = pd.DataFrame(results)\n",
    "grouped = grouped.groupby(\"param_gradientboost__n_estimators\")[\"mean_test_score\"].mean()\n",
    "\n",
    "# Plot the grouped bar chart\n",
    "fig, ax = plt.subplots(figsize=(6, 4), gridspec_kw={'hspace': 0.8}, facecolor=\"#F3EEE7\")\n",
    "grouped.plot(kind='bar', figsize=(9, 5), ax=ax)\n",
    "\n",
    "# Add plot details\n",
    "ax.set_ylim(0.65, 0.85)\n",
    "ax.set_xlabel('No. of Rounds Rate')\n",
    "ax.set_ylabel('Score')\n",
    "ax.set_title('Cross-Validated Positive-Class F1 Score for Different No. of Rounds')\n",
    "plt.show()"
   ]
  },
  {
   "cell_type": "code",
   "execution_count": 20,
   "metadata": {},
   "outputs": [
    {
     "data": {
      "image/png": "[encoded data removed]",
      "text/plain": [
       "<Figure size 900x500 with 1 Axes>"
      ]
     },
     "metadata": {},
     "output_type": "display_data"
    }
   ],
   "source": [
    "# Access the grid search results\n",
    "results = grid_search_gb.cv_results_\n",
    "\n",
    "# Extract k values, weights values and accuracy scores\n",
    "grouped = pd.DataFrame(results)\n",
    "grouped = grouped[grouped[\"param_gradientboost__n_estimators\"]== 10]\n",
    "grouped = grouped.groupby([\"param_gradientboost__max_depth\", \"param_gradientboost__subsample\"])[\"mean_test_score\"].mean().unstack()\n",
    "\n",
    "# Plot the grouped bar chart\n",
    "fig, ax = plt.subplots(figsize=(6, 4), gridspec_kw={'hspace': 0.8}, facecolor=\"#F3EEE7\")\n",
    "grouped.plot(kind='bar', figsize=(9, 5), ax=ax)\n",
    "\n",
    "# Add plot details\n",
    "ax.set_ylim(0.75, 0.85)\n",
    "ax.set_xlabel('Base Tree Max depths')\n",
    "ax.set_ylabel('Score')\n",
    "ax.set_title('Cross-Validated Positive-Class F1 Score for Different Max Depths of Weak Learners')\n",
    "plt.show()"
   ]
  },
  {
   "cell_type": "code",
   "execution_count": 22,
   "metadata": {},
   "outputs": [
    {
     "name": "stdout",
     "output_type": "stream",
     "text": [
      "\n",
      "Classification Report:\n",
      "               precision    recall  f1-score   support\n",
      "\n",
      "           0       0.98      0.98      0.98        66\n",
      "           1       0.83      0.79      0.81        24\n",
      "           2       0.83      0.87      0.85        23\n",
      "\n",
      "    accuracy                           0.92       113\n",
      "   macro avg       0.88      0.88      0.88       113\n",
      "weighted avg       0.92      0.92      0.92       113\n",
      "\n"
     ]
    },
    {
     "data": {
      "image/png": "[encoded data removed]",
      "text/plain": [
       "<Figure size 600x400 with 2 Axes>"
      ]
     },
     "metadata": {},
     "output_type": "display_data"
    }
   ],
   "source": [
    "pipeline_gb = grid_search_gb.best_estimator_\n",
    "pipeline_gb.fit(X_train, y_train)\n",
    "\n",
    "# Generate prediction and show classification report\n",
    "y_pred = pipeline_gb.predict(X_test)\n",
    "class_report = classification_report(y_test, y_pred)\n",
    "print(\"\\nClassification Report:\\n\", class_report)\n",
    "\n",
    "# Generate confusion matrix\n",
    "class_labels = [\"None\",\"Apnea\",\"Insomnia\"]\n",
    "conf_matrix = confusion_matrix(y_test, y_pred)\n",
    "\n",
    "settings.plot_conf_matrix(class_labels, conf_matrix)"
   ]
  },
  {
   "cell_type": "markdown",
   "metadata": {},
   "source": [
    "<div style=\"border-radius:10px; border:#DEB887 solid; padding: 15px; background-color: #FFFAF0; font-size:100%; text-align:left; max-width: 1050px; margin: 0 auto; color: #444444;\">\n",
    "\n",
    "<h3 align=\"left\"><font color='#DEB887'>💡 Insights:</font></h3>\n",
    "\n",
    "<ul>\n",
    "    <li>Hyperparam tuning improves results slightly.</li>\n",
    "    <li>Cross validated F1 score decreases very slightly but consistently as number of boosting rounds increases from 10.</li>\n",
    "    <li>At 10 rounds, score decreases consistently after a max tree depth of 3. For this tree depths, different subsample choices resulted in very similar scores with 0.8 marginally the best.</li>\n",
    "    <li>Confusion matrix shows no improvement in separation of the two positive classes. However, separation between None and Insomnia has improved (less false positives for Insomnia coming from None).\n",
    "    <li>This remains, however, below the scores of simplier models and other ensemble models.</li>\n",
    "    <li>With more time, further feature engineering could be performed to improve the score.</li>     \n",
    "</ul>\n",
    "</div>\n"
   ]
  },
  {
   "cell_type": "code",
   "execution_count": 26,
   "metadata": {},
   "outputs": [],
   "source": [
    "# Save baseline pipeline to file  \n",
    "settings.save_pipeline(\"best_gradient_boost_classification_pipeline.pkl\", pipeline_gb)"
   ]
  },
  {
   "cell_type": "markdown",
   "metadata": {},
   "source": [
    "*Exploring SMOTE-NC for class imbalance*"
   ]
  },
  {
   "cell_type": "code",
   "execution_count": 27,
   "metadata": {},
   "outputs": [
    {
     "name": "stdout",
     "output_type": "stream",
     "text": [
      "Original class counts: Counter({0: 153, 2: 54, 1: 54})\n",
      "New class counts: Counter({2: 153, 1: 153, 0: 153})\n"
     ]
    }
   ],
   "source": [
    "# instantiate SMOTENC object with categorical indicies of transformed X_train dataset\n",
    "categorical_features = [1, 2, 3, 4, 5, 6, 7, 8, 9, 10, 11, 12, 13, 14, 15, 16]\n",
    "smote_nc = SMOTENC(categorical_features=categorical_features, random_state=42)\n",
    "\n",
    "# Proving smote object works using the X array transformed by column_trans\n",
    "from collections import Counter\n",
    "smote_x, smote_y = smote_nc.fit_resample(transformed_X_train_df, y_train)\n",
    "print(f\"Original class counts: {Counter(y_train)}\")\n",
    "print(f\"New class counts: {Counter(smote_y)}\")"
   ]
  },
  {
   "cell_type": "code",
   "execution_count": 28,
   "metadata": {},
   "outputs": [],
   "source": [
    "# Create a column transformer for ohe and scaling\n",
    "column_trans = ColumnTransformer(\n",
    "    transformers=[\n",
    "        ('onehot', OneHotEncoder(handle_unknown='ignore'), X_train.select_dtypes(include=['object']).columns)\n",
    "    ],\n",
    "    remainder='passthrough')\n",
    "\n",
    "transformed_X_train_array = column_trans.fit_transform(X_train)\n",
    "transformed_X_test_array = column_trans.transform(X_test)\n",
    "\n",
    "# Convert to df as a sense check. Use only for interpretibility before using for pipeline. \n",
    "transformed_X_train_df = settings.convert_transformed_features_to_df(column_trans, transformed_X_train_array)\n",
    "transformed_X_test_df = settings.convert_transformed_features_to_df(column_trans, transformed_X_test_array)\n",
    "\n",
    "# Check ohe and scaled datasets\n",
    "# display(\"train: check for dummy encoded columns and scaled values (mean 0 and std 1)\",transformed_X_train_df.shape, transformed_X_train_df.describe().loc[[\"mean\", \"std\"],:])\n",
    "# display(\"test: check for same dummy encoded columns and scaled values (mean close to 0 and std close to 1)\",transformed_X_test_df.shape, transformed_X_test_df.describe().loc[[\"mean\", \"std\"],:])"
   ]
  },
  {
   "cell_type": "code",
   "execution_count": 31,
   "metadata": {},
   "outputs": [
    {
     "name": "stdout",
     "output_type": "stream",
     "text": [
      "Train Score: 89.720 %\n",
      "Mean CV Train Score: 80.7450 % ( +- 4.869 % )\n",
      "Test Score: 82.105 %\n"
     ]
    }
   ],
   "source": [
    "# Set up pipeline using imblearn's Pipeline class (SMOTE not compatible with sklearn's Pipeline)\n",
    "# Reuse model with tuned hyperparameters\n",
    "steps = [('column_trans', column_trans), ('smote', smote_nc), (\"gradientboost\", model_gb)]\n",
    "pipeline_gb = Pipeline_imb(steps)\n",
    "\n",
    "# run training cross validation on pipeline \n",
    "cv_scores = cross_val_score(pipeline_gb, X_train, y_train, scoring=custom_scorer, cv=cv_gb)\n",
    "\n",
    "settings.cross_val_summary(pipeline_gb, cv_scores, X_train, y_train, X_test, y_test, scorer=base_scorer)\n"
   ]
  },
  {
   "cell_type": "markdown",
   "metadata": {},
   "source": [
    "*Hyperparam tuning*"
   ]
  },
  {
   "cell_type": "code",
   "execution_count": 32,
   "metadata": {},
   "outputs": [
    {
     "name": "stdout",
     "output_type": "stream",
     "text": [
      "Best Parameters:\n"
     ]
    },
    {
     "data": {
      "text/html": [
       "<div>\n",
       "<style scoped>\n",
       "    .dataframe tbody tr th:only-of-type {\n",
       "        vertical-align: middle;\n",
       "    }\n",
       "\n",
       "    .dataframe tbody tr th {\n",
       "        vertical-align: top;\n",
       "    }\n",
       "\n",
       "    .dataframe thead th {\n",
       "        text-align: right;\n",
       "    }\n",
       "</style>\n",
       "<table border=\"1\" class=\"dataframe\">\n",
       "  <thead>\n",
       "    <tr style=\"text-align: right;\">\n",
       "      <th></th>\n",
       "      <th>gradientboost__max_depth</th>\n",
       "      <th>gradientboost__n_estimators</th>\n",
       "      <th>gradientboost__subsample</th>\n",
       "    </tr>\n",
       "  </thead>\n",
       "  <tbody>\n",
       "    <tr>\n",
       "      <th>0</th>\n",
       "      <td>3</td>\n",
       "      <td>10</td>\n",
       "      <td>0.7</td>\n",
       "    </tr>\n",
       "  </tbody>\n",
       "</table>\n",
       "</div>"
      ],
      "text/plain": [
       "   gradientboost__max_depth  gradientboost__n_estimators  \\\n",
       "0                         3                           10   \n",
       "\n",
       "   gradientboost__subsample  \n",
       "0                       0.7  "
      ]
     },
     "metadata": {},
     "output_type": "display_data"
    },
    {
     "name": "stdout",
     "output_type": "stream",
     "text": [
      "---------------------\n",
      "Using best parameters\n",
      "---------------------\n",
      "Train Score: 87.324 %\n",
      "Mean CV Train Score: 82.795 % ( +- 6.371 % )\n",
      "Test Score: 85.106 %\n"
     ]
    }
   ],
   "source": [
    "# set up param grid\n",
    "param_grid_gb = {\n",
    "    'gradientboost__n_estimators': [10, 50, 100, 200, 500],\n",
    "    'gradientboost__max_depth': [3, 5, 7, 9, 11],\n",
    "    'gradientboost__subsample': [0.5, 0.6, 0.7, 0.8, 0.9, 1]\n",
    "}\n",
    "\n",
    "# Create and fit GridSearchCV object on train data\n",
    "grid_search_gb = GridSearchCV(pipeline_gb, param_grid=param_grid_gb, scoring=custom_scorer, cv=cv_gb, n_jobs=-1)\n",
    "grid_search_gb.fit(X_train, y_train)\n",
    "\n",
    "settings.hyperparam_tune_summary(grid_search_gb, X_train, y_train, X_test, y_test, scorer=base_scorer)"
   ]
  }
 ],
 "metadata": {
  "kernelspec": {
   "display_name": "base",
   "language": "python",
   "name": "python3"
  },
  "language_info": {
   "codemirror_mode": {
    "name": "ipython",
    "version": 3
   },
   "file_extension": ".py",
   "mimetype": "text/x-python",
   "name": "python",
   "nbconvert_exporter": "python",
   "pygments_lexer": "ipython3",
   "version": "3.9.13"
  },
  "orig_nbformat": 4
 },
 "nbformat": 4,
 "nbformat_minor": 2
}
