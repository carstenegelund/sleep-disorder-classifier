{
 "cells": [
  {
   "cell_type": "markdown",
   "metadata": {},
   "source": [
    "<p style=\"font-weight:bold; letter-spacing: 2px; color:#F5F5DC; font-size:140%; text-align:left; max-width: 1050px; padding: 10px; border-bottom: 3px solid #D2B48C\"> Preprocessing on Sleep Disorder Prediction</p>"
   ]
  },
  {
   "cell_type": "code",
   "execution_count": null,
   "metadata": {},
   "outputs": [],
   "source": [
    "# Encode binary category columns \n",
    "binary_cols = ['Gender', 'BMI Category']\n",
    "le_dict = {}\n",
    "for binary_col in binary_cols:\n",
    "    le_dict[binary_col] = LabelEncoder()\n",
    "    X_train[binary_col] = le_dict[binary_col].fit_transform(X_train[binary_col])\n",
    "    X_test[binary_col] = le_dict[binary_col].transform(X_test[binary_col])"
   ]
  },
  {
   "cell_type": "code",
   "execution_count": null,
   "metadata": {},
   "outputs": [],
   "source": [
    "# Encode multi-category columns\n",
    "multi_cat_cols = ['Blood Pressure Category', 'Occupation']\n",
    "X_train = pd.get_dummies(X_train, columns=multi_cat_cols, drop_first=True)\n",
    "X_test = pd.get_dummies(X_test, columns=multi_cat_cols, drop_first=True)\n",
    "X_test = settings.fix_columns(X_test, X_train.columns)"
   ]
  },
  {
   "cell_type": "code",
   "execution_count": null,
   "metadata": {},
   "outputs": [],
   "source": [
    "# Scale numerical columns \n",
    "scale_cols = ['Age', 'Sleep Duration', 'Quality of Sleep', 'Physical Activity Level', 'Stress Level', 'Heart Rate', 'Daily Steps']\n",
    "ss_dict = {}\n",
    "for scale_col in scale_cols:\n",
    "    ss_dict[scale_col] = StandardScaler()\n",
    "    X_train[scale_col] = ss_dict[scale_col].fit_transform(X_train[[scale_col]])\n",
    "    X_test[scale_col] = ss_dict[scale_col].transform(X_test[[scale_col]])\n"
   ]
  },
  {
   "cell_type": "code",
   "execution_count": null,
   "metadata": {},
   "outputs": [],
   "source": [
    "class CustomSMOTENC(BaseEstimator, TransformerMixin):\n",
    "    def __init__(self, categorical_features=None, sampling_strategy='auto', random_state=None):\n",
    "        self.categorical_features = categorical_features\n",
    "        self.sampling_strategy = sampling_strategy\n",
    "        self.random_state = random_state\n",
    "        self.smote_nc = SMOTENC(\n",
    "            categorical_features=categorical_features,\n",
    "            sampling_strategy=sampling_strategy,\n",
    "            random_state=random_state\n",
    "        )\n",
    "    \n",
    "    def fit(self, X, y=None):\n",
    "        self.smote_nc.fit(X, y)\n",
    "        return self\n",
    "    \n",
    "    def transform(self, X, y=None):\n",
    "        X_resampled, y_resampled = self.smote_nc.fit_resample(X, y)\n",
    "        return X_resampled, y_resampled\n",
    "\n",
    "\n",
    "categorical_features = ['Gender_Female', 'Gender_Male', 'Occupation_Accountant',\n",
    "       'Occupation_Doctor', 'Occupation_Engineer', 'Occupation_Lawyer',\n",
    "       'Occupation_Nurse', 'Occupation_Salesperson', 'Occupation_Teacher',\n",
    "       'Occupation_Unknown', 'BMI Category_Normal', 'BMI Category_Overweight',\n",
    "       'Blood Pressure Category_Elevated',\n",
    "       'Blood Pressure Category_High Blood Pressure Stage 1',\n",
    "       'Blood Pressure Category_High Blood Pressure Stage 2',\n",
    "       'Blood Pressure Category_Normal']\n",
    "\n",
    "\n",
    "smote = CustomSMOTENC(categorical_features=categorical_features, random_state=42)\n",
    "smote.fit(transformed_X_train_df, y_train)\n",
    "X_resampled, y_resampled = smote.transform(transformed_X_train_df, y_train)\n",
    "\n",
    "# Print the class distribution before and after SMOTE-NC\n",
    "print(\"Class distribution before SMOTE-NC:\")\n",
    "print(pd.Series(y_train).value_counts())\n",
    "\n",
    "print(\"\\nClass distribution after SMOTE-NC:\")\n",
    "print(pd.Series(y_resampled).value_counts())\n",
    "\n",
    "\n",
    "# Update pipeline\n",
    "pipeline_mlr = settings.create_pipeline([\"preprocess\", column_trans], [\"smote\", smote], [\"multinomial_logistic_regression\", model_mlr])\n",
    "\n",
    "# Check that train dataset has been smote augmented \n",
    "smote.fit(settings.convert_transformed_features_to_df(column_trans, column_trans.fit_transform(X_train)), y_train)\n",
    "X_train_smote_df, y_train_smote_df = smote.transform(settings.convert_transformed_features_to_df(column_trans, column_trans.fit_transform(X_train)), y_train)\n",
    "\n",
    "# Print the class distribution before and after SMOTE-NC\n",
    "print(\"Class distribution before SMOTE-NC:\")\n",
    "print(pd.Series(y_train).value_counts())\n",
    "print(\"\\nClass distribution after SMOTE-NC:\")\n",
    "print(pd.Series(y_train_smote).value_counts())"
   ]
  },
  {
   "cell_type": "code",
   "execution_count": null,
   "metadata": {},
   "outputs": [],
   "source": [
    "# Create a column transformer for encoding\n",
    "column_trans = ColumnTransformer(\n",
    "    transformers=[\n",
    "        ('encoder', OrdinalEncoder(handle_unknown='use_encoded_value'), ALL_FEATURES_ENCODE)\n",
    "    ],\n",
    "    remainder='passthrough')\n",
    "\n",
    "# create model\n",
    "model_nb = CategoricalNB()\n",
    "\n",
    "# create sklearn pipeline\n",
    "pipeline_nb = settings.create_pipeline([\"preprocess\", column_trans], [\"categorical_naive_bayes\", model_nb])\n",
    "\n",
    "# create cross validation object for cross_val_score\n",
    "cv_nb = RepeatedStratifiedKFold(n_splits=5, n_repeats=3, random_state=42)\n",
    "\n",
    "# run training cross validation on pipeline \n",
    "cv_scores = cross_val_score(pipeline_nb, X_train, y_train, scoring='accuracy', cv=cv_nb)"
   ]
  }
 ],
 "metadata": {
  "language_info": {
   "name": "python"
  },
  "orig_nbformat": 4
 },
 "nbformat": 4,
 "nbformat_minor": 2
}
