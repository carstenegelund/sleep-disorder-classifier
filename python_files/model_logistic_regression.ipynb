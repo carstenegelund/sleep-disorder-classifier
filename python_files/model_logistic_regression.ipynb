{
 "cells": [
  {
   "cell_type": "markdown",
   "metadata": {},
   "source": [
    "<p style=\"font-weight:bold; letter-spacing: 2px; color:#F5F5DC; font-size:140%; text-align:left; max-width: 1050px; padding: 10px; border-bottom: 3px solid #D2B48C\"> Multinomial Regression</p>"
   ]
  },
  {
   "cell_type": "markdown",
   "metadata": {},
   "source": [
    "*Import Libraries*"
   ]
  },
  {
   "cell_type": "code",
   "execution_count": 233,
   "metadata": {},
   "outputs": [],
   "source": [
    "# import custom classes, functions and variables. Reload file in to memory on cell excution.\n",
    "import importlib\n",
    "import settings\n",
    "importlib.reload(settings)\n",
    "\n",
    "# import data frameworks\n",
    "import pandas as pd\n",
    "import numpy as np\n",
    "\n",
    "# import viz\n",
    "import matplotlib.pyplot as plt\n",
    "import seaborn as sns\n",
    "\n",
    "# import ML\n",
    "from sklearn.datasets import make_classification\n",
    "from sklearn.model_selection import train_test_split\n",
    "from sklearn.pipeline import Pipeline\n",
    "from imblearn.pipeline import Pipeline as Pipeline_imb\n",
    "from sklearn.compose import ColumnTransformer\n",
    "from sklearn.preprocessing import OneHotEncoder, StandardScaler\n",
    "from sklearn.linear_model import LogisticRegression\n",
    "from sklearn.model_selection import RepeatedStratifiedKFold\n",
    "from sklearn.model_selection import cross_val_score\n",
    "from sklearn.model_selection import GridSearchCV\n",
    "from sklearn.metrics import accuracy_score, confusion_matrix, classification_report\n",
    "from sklearn.metrics import roc_curve, auc\n",
    "import statsmodels.api as sm\n",
    "from imblearn.over_sampling import SMOTENC\n",
    "\n",
    "\n",
    "# import others\n",
    "import os\n",
    "import pickle\n",
    "import warnings\n",
    "from itertools import combinations\n"
   ]
  },
  {
   "cell_type": "code",
   "execution_count": 114,
   "metadata": {},
   "outputs": [],
   "source": [
    "# Specific warning categories to be ignored\n",
    "warnings.filterwarnings(\"ignore\", category=DeprecationWarning)\n",
    "warnings.filterwarnings(\"ignore\", category=FutureWarning)"
   ]
  },
  {
   "cell_type": "markdown",
   "metadata": {},
   "source": [
    "*Import data from initial EDA*"
   ]
  },
  {
   "cell_type": "code",
   "execution_count": 115,
   "metadata": {},
   "outputs": [
    {
     "name": "stdout",
     "output_type": "stream",
     "text": [
      "df loaded\n"
     ]
    }
   ],
   "source": [
    "df = pd.read_csv(os.path.join(settings.DATA_EDA_DIR, settings.DATA_EDA_FILE), sep=\",\")\n",
    "if len(df) > 0:\n",
    "    print(\"df loaded\")"
   ]
  },
  {
   "cell_type": "markdown",
   "metadata": {},
   "source": [
    "*Split data and prepare labels*"
   ]
  },
  {
   "cell_type": "code",
   "execution_count": 116,
   "metadata": {},
   "outputs": [],
   "source": [
    "ALL_FEATURES = ['Gender', 'Age', 'Occupation', 'Sleep Duration', 'Quality of Sleep', \n",
    "                'Physical Activity Level', 'Stress Level', 'BMI Category', 'Heart Rate', \n",
    "                'Daily Steps', 'Blood Pressure Category']\n",
    "X = df[ALL_FEATURES]\n",
    "y = df[settings.LABEL]\n",
    "X_train, X_test, y_train, y_test = train_test_split(X, y, test_size=0.3, random_state=42, stratify=y)"
   ]
  },
  {
   "cell_type": "code",
   "execution_count": 117,
   "metadata": {},
   "outputs": [],
   "source": [
    "# Encode y vector \n",
    "map = {\"None\":0, \"Sleep Apnea\":1, \"Insomnia\":2}\n",
    "# apply mapping function\n",
    "settings.column_mapper(y_train, \"Sleep Disorder\", map)\n",
    "settings.column_mapper(y_test, \"Sleep Disorder\", map)\n",
    "\n",
    "# check new values in consolidated column\n",
    "# display(settings.examine_values(y_train).loc[\"Sleep Disorder\",:])\n",
    "# display(settings.examine_values(y_train).loc[\"Sleep Disorder\",:])"
   ]
  },
  {
   "cell_type": "code",
   "execution_count": 118,
   "metadata": {},
   "outputs": [],
   "source": [
    "# reshape labels to 1-D array (vector) \n",
    "y_train, y_test = y_train.values.reshape(-1), y_test.values.reshape(-1)"
   ]
  },
  {
   "cell_type": "markdown",
   "metadata": {},
   "source": [
    "*Preprocess steps*"
   ]
  },
  {
   "cell_type": "code",
   "execution_count": 120,
   "metadata": {},
   "outputs": [],
   "source": [
    "# Create a column transformer for ohe and scaling\n",
    "column_trans = ColumnTransformer(\n",
    "    transformers=[\n",
    "        ('onehot', OneHotEncoder(handle_unknown='ignore'), X_train.select_dtypes(include=['object']).columns),\n",
    "        ('scale', StandardScaler(), X_train.select_dtypes(include=['float64', 'int64']).columns)\n",
    "    ],\n",
    "    remainder='passthrough')\n",
    "\n",
    "transformed_X_train_array = column_trans.fit_transform(X_train)\n",
    "transformed_X_test_array = column_trans.transform(X_test)\n",
    "\n",
    "# Convert to df as a sense check. Use only for interpretibility before using for pipeline. \n",
    "transformed_X_train_df = settings.convert_transformed_features_to_df(column_trans, transformed_X_train_array)\n",
    "transformed_X_test_df = settings.convert_transformed_features_to_df(column_trans, transformed_X_test_array)\n",
    "\n",
    "# # Check ohe and scaled datasets\n",
    "# display(\"train: check for dummy encoded columns and scaled values (mean 0 and std 1)\",transformed_X_train_df.shape, transformed_X_train_df.describe().loc[[\"mean\", \"std\"],:])\n",
    "# display(\"test: check for same dummy encoded columns and scaled values (mean close to 0 and std close to 1)\",transformed_X_test_df.shape, transformed_X_test_df.describe().loc[[\"mean\", \"std\"],:])"
   ]
  },
  {
   "cell_type": "markdown",
   "metadata": {},
   "source": [
    "*Create pipeline and base model*"
   ]
  },
  {
   "cell_type": "code",
   "execution_count": 156,
   "metadata": {},
   "outputs": [
    {
     "name": "stdout",
     "output_type": "stream",
     "text": [
      "Train Score: 87.300 %\n",
      "Mean CV Train Score: 84.3500 % ( +- 6.600 % )\n",
      "Test Score: 87.200 %\n"
     ]
    }
   ],
   "source": [
    "# create model\n",
    "model_mlr = LogisticRegression(multi_class='multinomial', max_iter=1000, random_state=42) # default solver \"lgbgs\" and penalty \"l2\"\n",
    "\n",
    "# create sklearn pipeline\n",
    "pipeline_mlr = settings.create_pipeline([\"preprocess\", column_trans], [\"multinomial_logistic_regression\", model_mlr])  \n",
    "\n",
    "# create cross validation object for cross_val_score\n",
    "cv_mlr = RepeatedStratifiedKFold(n_splits=5, n_repeats=3, random_state=42)\n",
    "\n",
    "# define custom scorer for this work: positive label (class 1 and 2) F1 score\n",
    "base_scorer = settings.CustomPositiveF1Scorer().scorer_function\n",
    "custom_scorer = settings.CustomPositiveF1Scorer().custom_scorer\n",
    "\n",
    "# run training cross validation on pipeline \n",
    "cv_scores = cross_val_score(pipeline_mlr, X_train, y_train, scoring=custom_scorer, cv=cv_mlr)\n",
    "\n",
    "settings.cross_val_summary(pipeline_mlr, cv_scores, X_train, y_train, X_test, y_test, scorer=base_scorer)\n"
   ]
  },
  {
   "cell_type": "code",
   "execution_count": 157,
   "metadata": {},
   "outputs": [
    {
     "name": "stdout",
     "output_type": "stream",
     "text": [
      "\n",
      "Classification Report:\n",
      "               precision    recall  f1-score   support\n",
      "\n",
      "           0       0.98      0.98      0.98        66\n",
      "           1       0.81      0.92      0.86        24\n",
      "           2       0.95      0.83      0.88        23\n",
      "\n",
      "    accuracy                           0.94       113\n",
      "   macro avg       0.92      0.91      0.91       113\n",
      "weighted avg       0.94      0.94      0.94       113\n",
      "\n"
     ]
    },
    {
     "data": {
      "image/png": "[encoded data removed]",
      "text/plain": [
       "<Figure size 600x400 with 2 Axes>"
      ]
     },
     "metadata": {},
     "output_type": "display_data"
    }
   ],
   "source": [
    "pipeline_mlr.fit(X_train, y_train)\n",
    "\n",
    "# Generate prediction and show classification report\n",
    "y_pred = pipeline_mlr.predict(X_test)\n",
    "class_report = classification_report(y_test, y_pred)\n",
    "print(\"\\nClassification Report:\\n\", class_report)\n",
    "\n",
    "# Generate confusion matrix\n",
    "class_labels = [\"None\",\"Apnea\",\"Insomnia\"]\n",
    "conf_matrix = confusion_matrix(y_test, y_pred)\n",
    "\n",
    "settings.plot_conf_matrix(class_labels, conf_matrix)"
   ]
  },
  {
   "cell_type": "markdown",
   "metadata": {},
   "source": [
    "<div style=\"border-radius:10px; border:#DEB887 solid; padding: 15px; background-color: #FFFAF0; font-size:100%; text-align:left; max-width: 1050px; margin: 0 auto; color: #444444;\">\n",
    "\n",
    "<h3 align=\"left\"><font color='#DEB887'>💡 Insights:</font></h3>\n",
    "\n",
    "<ul>\n",
    "    <li>High baseline cross validated F1 score 84.5% but higher test accuracy 87.2% almost equaling train accuracy. No sign of overfitting.</li>\n",
    "    <li>High variation in cross validated scores (6.6%)</li>\n",
    "    <li>Overall model accuracy is high at ~ 94%.</li>\n",
    "    <li>There is a precision - accuracy trade off for both positive classes: model making most mistakes at misclassifying Insomnia as Apnea. Apnea has high class recall (coverage) but in doing so has taken in some Insomnia samples, reducing class precision (accuracy). Insomnia has high class accuracy but in doing so has lost some true Insmonia samples. Let's see if tuning can move some of the 4 Insomnia samples incorrectly predicted as Apnea.\n",
    "</ul>\n",
    "</div>\n"
   ]
  },
  {
   "cell_type": "code",
   "execution_count": 158,
   "metadata": {},
   "outputs": [],
   "source": [
    "# Save baseline pipeline to file  \n",
    "settings.save_pipeline(\"best_multinomial_logistic_regression_pipeline.pkl\", pipeline_mlr)"
   ]
  },
  {
   "cell_type": "markdown",
   "metadata": {},
   "source": [
    "*Hyperparam tuning*"
   ]
  },
  {
   "cell_type": "markdown",
   "metadata": {},
   "source": [
    "*Regularisation*"
   ]
  },
  {
   "cell_type": "code",
   "execution_count": 163,
   "metadata": {},
   "outputs": [
    {
     "name": "stdout",
     "output_type": "stream",
     "text": [
      "Best Parameters:\n"
     ]
    },
    {
     "data": {
      "text/html": [
       "<div>\n",
       "<style scoped>\n",
       "    .dataframe tbody tr th:only-of-type {\n",
       "        vertical-align: middle;\n",
       "    }\n",
       "\n",
       "    .dataframe tbody tr th {\n",
       "        vertical-align: top;\n",
       "    }\n",
       "\n",
       "    .dataframe thead th {\n",
       "        text-align: right;\n",
       "    }\n",
       "</style>\n",
       "<table border=\"1\" class=\"dataframe\">\n",
       "  <thead>\n",
       "    <tr style=\"text-align: right;\">\n",
       "      <th></th>\n",
       "      <th>multinomial_logistic_regression__penalty</th>\n",
       "    </tr>\n",
       "  </thead>\n",
       "  <tbody>\n",
       "    <tr>\n",
       "      <th>0</th>\n",
       "      <td>l2</td>\n",
       "    </tr>\n",
       "  </tbody>\n",
       "</table>\n",
       "</div>"
      ],
      "text/plain": [
       "  multinomial_logistic_regression__penalty\n",
       "0                                       l2"
      ]
     },
     "metadata": {},
     "output_type": "display_data"
    },
    {
     "name": "stdout",
     "output_type": "stream",
     "text": [
      "---------------------\n",
      "Using best parameters\n",
      "---------------------\n",
      "Train Score: 87.300 %\n",
      "Mean CV Train Score: 84.300 % ( +- 6.600 % )\n",
      "Test Score: 87.200 %\n"
     ]
    }
   ],
   "source": [
    "# set up param grid\n",
    "param_grid_mlr = {\n",
    "    'multinomial_logistic_regression__penalty': ['l2', \"none\"] # l1 not typically used for multinomial due to compuataional and interpretibility challenges\n",
    "}\n",
    "\n",
    "# Create and fit GridSearchCV object on train data\n",
    "grid_search_mlr = GridSearchCV(pipeline_mlr, param_grid=param_grid_mlr, scoring=custom_scorer, cv=cv_mlr, n_jobs=-1)\n",
    "grid_search_mlr.fit(X_train, y_train)\n",
    "\n",
    "settings.hyperparam_tune_summary(grid_search_mlr, X_train, y_train, X_test, y_test, scorer=base_scorer)\n"
   ]
  },
  {
   "cell_type": "code",
   "execution_count": 168,
   "metadata": {},
   "outputs": [
    {
     "data": {
      "image/png": "[encoded data removed]",
      "text/plain": [
       "<Figure size 600x400 with 1 Axes>"
      ]
     },
     "metadata": {},
     "output_type": "display_data"
    }
   ],
   "source": [
    "# Access the grid search results\n",
    "results = grid_search_mlr.cv_results_\n",
    "\n",
    "# Extract C values and accuracy scores\n",
    "penalty_values = results['param_multinomial_logistic_regression__penalty'].data\n",
    "mean_test_scores = results['mean_test_score']\n",
    "\n",
    "# Plot the accuracy scores against penalty choices\n",
    "fig, ax = plt.subplots(figsize=(6, 4), gridspec_kw={'hspace': 0.8}, facecolor=\"#F3EEE7\")\n",
    "ax.bar(penalty_values, mean_test_scores)\n",
    "\n",
    "# Add plot details\n",
    "ax.set_ylim(0.7, 0.9)\n",
    "ax.set_xlabel('Penalty Choices')\n",
    "ax.set_ylabel('Mean CV Positive Class F1 Score')\n",
    "ax.set_title('Positive Class F1 Score for Different Penalty Choices')\n",
    "plt.show()\n"
   ]
  },
  {
   "cell_type": "markdown",
   "metadata": {},
   "source": [
    "<div style=\"border-radius:10px; border:#DEB887 solid; padding: 15px; background-color: #FFFAF0; font-size:100%; text-align:left; max-width: 1050px; margin: 0 auto; color: #444444;\">\n",
    "\n",
    "<h3 align=\"left\"><font color='#DEB887'>💡 Insights:</font></h3>\n",
    "\n",
    "<ul>\n",
    "    <li>Regularisation providing higher score compared to none.</li>\n",
    "</ul>\n",
    "</div>\n"
   ]
  },
  {
   "cell_type": "markdown",
   "metadata": {},
   "source": [
    "*Perform full param search*"
   ]
  },
  {
   "cell_type": "code",
   "execution_count": 169,
   "metadata": {},
   "outputs": [
    {
     "name": "stdout",
     "output_type": "stream",
     "text": [
      "Best Parameters:\n"
     ]
    },
    {
     "data": {
      "text/html": [
       "<div>\n",
       "<style scoped>\n",
       "    .dataframe tbody tr th:only-of-type {\n",
       "        vertical-align: middle;\n",
       "    }\n",
       "\n",
       "    .dataframe tbody tr th {\n",
       "        vertical-align: top;\n",
       "    }\n",
       "\n",
       "    .dataframe thead th {\n",
       "        text-align: right;\n",
       "    }\n",
       "</style>\n",
       "<table border=\"1\" class=\"dataframe\">\n",
       "  <thead>\n",
       "    <tr style=\"text-align: right;\">\n",
       "      <th></th>\n",
       "      <th>multinomial_logistic_regression__C</th>\n",
       "      <th>multinomial_logistic_regression__solver</th>\n",
       "    </tr>\n",
       "  </thead>\n",
       "  <tbody>\n",
       "    <tr>\n",
       "      <th>0</th>\n",
       "      <td>1</td>\n",
       "      <td>newton-cg</td>\n",
       "    </tr>\n",
       "  </tbody>\n",
       "</table>\n",
       "</div>"
      ],
      "text/plain": [
       "   multinomial_logistic_regression__C multinomial_logistic_regression__solver\n",
       "0                                   1                               newton-cg"
      ]
     },
     "metadata": {},
     "output_type": "display_data"
    },
    {
     "name": "stdout",
     "output_type": "stream",
     "text": [
      "---------------------\n",
      "Using best parameters\n",
      "---------------------\n",
      "Train Score: 87.300 %\n",
      "Mean CV Train Score: 84.300 % ( +- 6.600 % )\n",
      "Test Score: 87.200 %\n"
     ]
    }
   ],
   "source": [
    "# set up param grid\n",
    "param_grid_mlr = {\n",
    "    'multinomial_logistic_regression__C': [0.001, 0.01, 0.1, 1, 10, 100], # default = 1 (moderate)\n",
    "    'multinomial_logistic_regression__solver': ['newton-cg', 'lbfgs', 'sag', 'saga'], # default = lbfgs \n",
    "}\n",
    "\n",
    "# Create and fit GridSearchCV object on train data\n",
    "grid_search_mlr = GridSearchCV(pipeline_mlr, param_grid=param_grid_mlr, scoring=custom_scorer, cv=cv_mlr, n_jobs=-1)\n",
    "grid_search_mlr.fit(X_train, y_train)\n",
    "\n",
    "settings.hyperparam_tune_summary(grid_search_mlr, X_train, y_train, X_test, y_test, scorer=base_scorer)\n"
   ]
  },
  {
   "cell_type": "code",
   "execution_count": 185,
   "metadata": {},
   "outputs": [
    {
     "data": {
      "image/png": "[encoded data removed]",
      "text/plain": [
       "<Figure size 900x500 with 1 Axes>"
      ]
     },
     "metadata": {},
     "output_type": "display_data"
    }
   ],
   "source": [
    "# Access the latest grid search results\n",
    "results = grid_search_mlr.cv_results_\n",
    "\n",
    "# Extract penalty, C values and accuracy scores\n",
    "grouped = pd.DataFrame(results).groupby([\"param_multinomial_logistic_regression__C\"])[\"mean_test_score\"].mean()\n",
    "\n",
    "# Plot the grouped bar chart\n",
    "fig, ax = plt.subplots(figsize=(6, 4), gridspec_kw={'hspace': 0.8}, facecolor=\"#F3EEE7\")\n",
    "grouped.plot(kind='bar', figsize=(9, 5), ax=ax)\n",
    "\n",
    "# Add plot details\n",
    "ax.set_ylim(0.6,0.9)\n",
    "ax.set_xlabel('Penalty')\n",
    "ax.set_ylabel('Accuracy Metric')\n",
    "ax.set_title('Train Accuracy for Different Penalties and C Choices')\n",
    "plt.show()"
   ]
  },
  {
   "cell_type": "code",
   "execution_count": 173,
   "metadata": {},
   "outputs": [
    {
     "data": {
      "image/png": "[encoded data removed]",
      "text/plain": [
       "<Figure size 900x500 with 1 Axes>"
      ]
     },
     "metadata": {},
     "output_type": "display_data"
    }
   ],
   "source": [
    "# Extract penalty, C values and accuracy scores\n",
    "grouped = pd.DataFrame(results)\n",
    "grouped = grouped[\n",
    "    ((grouped[\"param_multinomial_logistic_regression__C\"] == 1) | (grouped[\"param_multinomial_logistic_regression__C\"] == 10))\n",
    "].groupby([\"param_multinomial_logistic_regression__C\", \"param_multinomial_logistic_regression__solver\"])[\"mean_test_score\"].mean().unstack()\n",
    "\n",
    "# Plot the grouped bar chart\n",
    "fig, ax = plt.subplots(figsize=(6, 4), gridspec_kw={'hspace': 0.8}, facecolor=\"#F3EEE7\")\n",
    "grouped.plot(kind='bar', figsize=(9, 5), ax=ax)\n",
    "\n",
    "# Add plot details\n",
    "ax.set_ylim(0.8, 0.85)\n",
    "ax.set_xlabel('C')\n",
    "ax.set_ylabel('Accuracy Metric')\n",
    "ax.set_title('Train Accuracy for Different C and Solver Choices')\n",
    "plt.show()"
   ]
  },
  {
   "cell_type": "markdown",
   "metadata": {},
   "source": [
    "<div style=\"border-radius:10px; border:#DEB887 solid; padding: 15px; background-color: #FFFAF0; font-size:100%; text-align:left; max-width: 1050px; margin: 0 auto; color: #444444;\">\n",
    "\n",
    "<h3 align=\"left\"><font color='#DEB887'>💡 Insights:</font></h3>\n",
    "\n",
    "<ul>\n",
    "    <li>Regularisation providing highest scores in range of 0.1 to 10 but no improvement on baseline in CV or test scores.</li>\n",
    "    <li>newton-cg identified as best solver although there is no difference in optimal C range: newton first in param list hence why chosen. Default lbfgs will remain.</li>\n",
    "</ul>\n",
    "</div>\n"
   ]
  },
  {
   "cell_type": "markdown",
   "metadata": {},
   "source": [
    "*Narrow down C param*"
   ]
  },
  {
   "cell_type": "code",
   "execution_count": 186,
   "metadata": {},
   "outputs": [
    {
     "name": "stdout",
     "output_type": "stream",
     "text": [
      "Best Parameters:\n"
     ]
    },
    {
     "data": {
      "text/html": [
       "<div>\n",
       "<style scoped>\n",
       "    .dataframe tbody tr th:only-of-type {\n",
       "        vertical-align: middle;\n",
       "    }\n",
       "\n",
       "    .dataframe tbody tr th {\n",
       "        vertical-align: top;\n",
       "    }\n",
       "\n",
       "    .dataframe thead th {\n",
       "        text-align: right;\n",
       "    }\n",
       "</style>\n",
       "<table border=\"1\" class=\"dataframe\">\n",
       "  <thead>\n",
       "    <tr style=\"text-align: right;\">\n",
       "      <th></th>\n",
       "      <th>multinomial_logistic_regression__C</th>\n",
       "    </tr>\n",
       "  </thead>\n",
       "  <tbody>\n",
       "    <tr>\n",
       "      <th>0</th>\n",
       "      <td>0.846231</td>\n",
       "    </tr>\n",
       "  </tbody>\n",
       "</table>\n",
       "</div>"
      ],
      "text/plain": [
       "   multinomial_logistic_regression__C\n",
       "0                            0.846231"
      ]
     },
     "metadata": {},
     "output_type": "display_data"
    },
    {
     "name": "stdout",
     "output_type": "stream",
     "text": [
      "---------------------\n",
      "Using best parameters\n",
      "---------------------\n",
      "Train Score: 87.300 %\n",
      "Mean CV Train Score: 84.300 % ( +- 6.600 % )\n",
      "Test Score: 87.200 %\n"
     ]
    }
   ],
   "source": [
    "# Refine model and update pipeline\n",
    "model_mlr = LogisticRegression(multi_class='multinomial', solver=\"lbfgs\", penalty=\"l2\", max_iter=1000, random_state=42) \n",
    "pipeline_mlr = settings.create_pipeline([\"preprocess\", column_trans], [\"multinomial_logistic_regression\", model_mlr])\n",
    "\n",
    "# set up param grid\n",
    "param_grid_mlr = {\n",
    "    'multinomial_logistic_regression__C': np.linspace(0.1, 10, 200), # large sweep of C values\n",
    "}\n",
    "\n",
    "# Create and fit GridSearchCV object on train data\n",
    "grid_search_mlr = GridSearchCV(pipeline_mlr, param_grid=param_grid_mlr, scoring=custom_scorer, cv=cv_mlr, n_jobs=-1)\n",
    "grid_search_mlr.fit(X_train, y_train)\n",
    "\n",
    "settings.hyperparam_tune_summary(grid_search_mlr, X_train, y_train, X_test, y_test, scorer=base_scorer)"
   ]
  },
  {
   "cell_type": "markdown",
   "metadata": {},
   "source": [
    "<div style=\"border-radius: 10px; border: #DEB887 solid; padding: 15px; background-color: #FFFAF0; font-size: 100%; text-align: left; max-width: 1050px; margin: 0 auto; color: #444444;\">\n",
    "\n",
    "<h3 align=\"left\"><font color='#DEB887'>💡 Insights:</font></h3>\n",
    "\n",
    "<ul style=\"list-style-type: none; padding-left: 0;\">\n",
    "    <li>No difference in CV or Test score for large sweep of C parameter. Let's stick with default of 1.</li>\n",
    "</ul>\n",
    "\n",
    "\n",
    "</div>\n"
   ]
  },
  {
   "cell_type": "markdown",
   "metadata": {},
   "source": [
    "*Review metrics for tuned Logistic Regression base model*"
   ]
  },
  {
   "cell_type": "code",
   "execution_count": 188,
   "metadata": {},
   "outputs": [
    {
     "name": "stdout",
     "output_type": "stream",
     "text": [
      "Test Accuracy: 93.8100 %\n",
      "\n",
      "Classification Report:\n",
      "               precision    recall  f1-score   support\n",
      "\n",
      "           0       0.98      0.98      0.98        66\n",
      "           1       0.81      0.92      0.86        24\n",
      "           2       0.95      0.83      0.88        23\n",
      "\n",
      "    accuracy                           0.94       113\n",
      "   macro avg       0.92      0.91      0.91       113\n",
      "weighted avg       0.94      0.94      0.94       113\n",
      "\n"
     ]
    },
    {
     "data": {
      "image/png": "[encoded data removed]",
      "text/plain": [
       "<Figure size 600x400 with 2 Axes>"
      ]
     },
     "metadata": {},
     "output_type": "display_data"
    }
   ],
   "source": [
    "# Print test accuracy\n",
    "pipeline_mlr.fit(X_train, y_train)\n",
    "print(\"Test Accuracy:\", settings.score_formatter(pipeline_mlr.score(X_test, y_test), 4))\n",
    "\n",
    "# Generate prediction and show classification report\n",
    "y_pred = pipeline_mlr.predict(X_test)\n",
    "class_report = classification_report(y_test, y_pred)\n",
    "print(\"\\nClassification Report:\\n\", class_report)\n",
    "\n",
    "# Generate confusion matrix\n",
    "class_labels = [\"None\",\"Apnea\",\"Insomnia\"]\n",
    "conf_matrix = confusion_matrix(y_test, y_pred)\n",
    "\n",
    "settings.plot_conf_matrix(class_labels, conf_matrix)"
   ]
  },
  {
   "cell_type": "code",
   "execution_count": 203,
   "metadata": {},
   "outputs": [
    {
     "data": {
      "image/png": "[encoded data removed]",
      "text/plain": [
       "<Figure size 600x400 with 1 Axes>"
      ]
     },
     "metadata": {},
     "output_type": "display_data"
    }
   ],
   "source": [
    "# Calculate probabilities of each class\n",
    "y_scores = pipeline_mlr.predict_proba(X_test)\n",
    "\n",
    "# Calculate precision-recall pairs and AUC for each positive class\n",
    "precision = {}\n",
    "recall = {}\n",
    "pr_auc = {}\n",
    "\n",
    "for class_idx in [1, 2]:  # Select positive classes Apnea and Insomnia\n",
    "    y_scores_class = y_scores[:, class_idx]\n",
    "    y_test_class = (y_test == class_idx).astype(int)\n",
    "    \n",
    "    precision[class_idx], recall[class_idx], _ = precision_recall_curve(y_test_class, y_scores_class)\n",
    "    pr_auc[class_idx] = auc(recall[class_idx], precision[class_idx])\n",
    "\n",
    "# Plot the precision-recall curves for each positive class\n",
    "plt.subplots(figsize=(6, 4), gridspec_kw={'hspace': 0.8}, facecolor=\"#F3EEE7\")\n",
    "plt.plot([0, 1], [0.5, 0.5], linestyle='--', color='gray', label='Random Guess')\n",
    "for class_idx in [1, 2]:\n",
    "    plt.plot(recall[class_idx], precision[class_idx], label=f'Class {class_idx} (AUC = {pr_auc[class_idx]:.2f})')\n",
    "ax.set_ylim(0.0, 1.0)\n",
    "plt.xlabel('Recall')\n",
    "plt.ylabel('Precision')\n",
    "plt.title('Precision-Recall Curve for Apnea and Insomnia')\n",
    "plt.legend()\n",
    "plt.show()"
   ]
  },
  {
   "cell_type": "markdown",
   "metadata": {},
   "source": [
    "<div style=\"border-radius:10px; border:#DEB887 solid; padding: 15px; background-color: #FFFAF0; font-size:100%; text-align:left; max-width: 1050px; margin: 0 auto; color: #444444;\">\n",
    "\n",
    "<h3 align=\"left\"><font color='#DEB887'>💡 Insights:</font></h3>\n",
    "\n",
    "<ul>\n",
    "    <li>Overall Accuracy of model is very good at 93.8% test set \n",
    "    <li>Average AUC on the Precision-Recall of both positive classes is high at 86% of Apnea and 92% for Insmonia showing support for a skillful positive class classifier. A PR curve's theory: when threshold for assigning positive class is very high (~100%), only a few very confident predictions will be make it, resulting in very high precision but very low recall. Conversely, when threshold is very low (~0%), all predictions will make it, resulting in a very high recall but a precision equal to the proportion of that class out of all samples (~25% each for both) </li>\n",
    "    <li>Class level recall and precision is still as described before.</li>\n",
    "</ul>\n",
    "</div>\n"
   ]
  },
  {
   "cell_type": "markdown",
   "metadata": {},
   "source": [
    "*Addressing Class Imbalance: Exploring SMOTE-NC*"
   ]
  },
  {
   "cell_type": "code",
   "execution_count": 204,
   "metadata": {},
   "outputs": [
    {
     "name": "stdout",
     "output_type": "stream",
     "text": [
      "Original class counts: Counter({0: 153, 2: 54, 1: 54})\n",
      "New class counts: Counter({2: 153, 1: 153, 0: 153})\n"
     ]
    }
   ],
   "source": [
    "# instantiate SMOTENC object with categorical indicies of transformed X_train dataset\n",
    "categorical_features = [1, 2, 3, 4, 5, 6, 7, 8, 9, 10, 11, 12, 13, 14, 15, 16]\n",
    "smote_nc = SMOTENC(categorical_features=categorical_features, random_state=42)\n",
    "\n",
    "# Proving smote object works using the X array transformed by column_trans\n",
    "from collections import Counter\n",
    "smote_x, smote_y = smote_nc.fit_resample(transformed_X_train_df, y_train)\n",
    "print(f\"Original class counts: {Counter(y_train)}\")\n",
    "print(f\"New class counts: {Counter(smote_y)}\")"
   ]
  },
  {
   "cell_type": "code",
   "execution_count": 208,
   "metadata": {},
   "outputs": [
    {
     "name": "stdout",
     "output_type": "stream",
     "text": [
      "Train Score: 87.300 %\n",
      "Mean CV Train Score: 85.700 % ( +- 6.700 % )\n",
      "Test Score: 87.200 %\n"
     ]
    }
   ],
   "source": [
    "# Set up pipeline using imblearn's Pipeline class (SMOTE not compatible with sklearn's Pipeline)\n",
    "# Reuse model with tuned hyperparameters\n",
    "steps = [('column_trans', column_trans), ('smote', smote_nc), ('multinomial_logistic_regression', model_mlr)]\n",
    "pipeline_mlr = Pipeline_imb(steps)\n",
    "\n",
    "# Fit pipeline\n",
    "pipeline_mlr.fit(X_train, y_train)\n",
    "\n",
    "# predict on pipeline (train)\n",
    "y_pred_train = pipeline_mlr.predict(X_train)\n",
    "\n",
    "# score pipeline on train\n",
    "train_score = base_scorer(y_train, y_pred_train)\n",
    "print('Train Score:', settings.score_formatter(train_score, 3))\n",
    "\n",
    "# run training cross validation on pipeline \n",
    "cv_scores = cross_val_score(pipeline_mlr, X_train, y_train, scoring=custom_scorer, cv=cv_mlr)\n",
    "\n",
    "print('Mean CV Train Score:', settings.score_formatter(np.mean(cv_scores), 3),\n",
    "        \"( +-\", settings.score_formatter(np.std(cv_scores), 3), \")\")\n",
    "\n",
    "# extract model (remove smote for test) and produce test score \n",
    "model_mlr = pipeline_mlr.named_steps['multinomial_logistic_regression']\n",
    "\n",
    "# predict on pipeline (train)\n",
    "y_pred_test = model_mlr.predict(transformed_X_test_df.values)\n",
    "\n",
    "# score pipeline on test\n",
    "test_score = base_scorer(y_test, y_pred_test)\n",
    "print('Test Score:', settings.score_formatter(test_score, 3))"
   ]
  },
  {
   "cell_type": "markdown",
   "metadata": {},
   "source": [
    "<div style=\"border-radius:10px; border:#DEB887 solid; padding: 15px; background-color: #FFFAF0; font-size:100%; text-align:left; max-width: 1050px; margin: 0 auto; color: #444444;\">\n",
    "\n",
    "<h3 align=\"left\"><font color='#DEB887'>💡 Insights:</font></h3>\n",
    "\n",
    "<ul>\n",
    "    <li>SMOTE shows slight improvement in CV train score but no improvement in test score.</li>\n",
    "</ul>\n",
    "</div>\n"
   ]
  },
  {
   "cell_type": "markdown",
   "metadata": {},
   "source": [
    "*Testing new features*"
   ]
  },
  {
   "cell_type": "markdown",
   "metadata": {},
   "source": [
    "*Binning age and dropping original Age*"
   ]
  },
  {
   "cell_type": "code",
   "execution_count": null,
   "metadata": {},
   "outputs": [],
   "source": [
    "# re-initialise X array for all features before modification\n",
    "X = df[settings.ALL_FEATURES]\n",
    "\n",
    "# Bin age to new column and drop age column\n",
    "X.loc[:,'Age_bin'] = pd.cut(X.loc[:,'Age'], [20, 30, 40, 50, 60], labels=['20s', '30s', '40s', '50s']).astype(\"object\")\n",
    "settings.examine_values(X).loc[\"Age_bin\",:]\n",
    "X = X.drop(\"Age\", axis=1)\n",
    "\n",
    "# split data\n",
    "X_train, X_test, y_train, y_test = train_test_split(X, y, test_size=0.3, random_state=42, stratify=y)\n",
    "\n",
    "# Encode y vector \n",
    "map = {\"None\":0, \"Sleep Apnea\":1, \"Insomnia\":2}\n",
    "# apply mapping function\n",
    "settings.column_mapper(y_train, \"Sleep Disorder\", map)\n",
    "settings.column_mapper(y_test, \"Sleep Disorder\", map)\n",
    "\n",
    "# reshape labels to 1-D array (vector) \n",
    "y_train, y_test = y_train.values.reshape(-1), y_test.values.reshape(-1)\n",
    "\n",
    "# Create a column transformer for ohe and scaling\n",
    "column_trans = ColumnTransformer(\n",
    "    transformers=[\n",
    "        ('onehot', OneHotEncoder(handle_unknown='ignore'), X_train.select_dtypes(include=['object']).columns),\n",
    "        ('scale', StandardScaler(), X_train.select_dtypes(include=['float64', 'int64']).columns)\n",
    "    ],\n",
    "    remainder='passthrough')\n",
    "    \n",
    "# create model\n",
    "model_mlr = LogisticRegression(multi_class='multinomial', max_iter=1000, C=3, random_state=42)\n",
    "\n",
    "# create sklearn pipeline\n",
    "pipeline_mlr = settings.create_pipeline([\"preprocess\", column_trans], [\"multinomial_logistic_regression\", model_mlr])\n",
    "\n",
    "# create cross validation object for cross_val_score\n",
    "cv_mlr = RepeatedStratifiedKFold(n_splits=5, n_repeats=3, random_state=42)\n",
    "\n",
    "# run training cross validation on pipeline \n",
    "cv_scores = cross_val_score(pipeline_mlr, X_train, y_train, scoring=custom_scorer, cv=cv_mlr)\n",
    "\n",
    "settings.cross_val_summary(pipeline_mlr, cv_scores, X_train, y_train, X_test, y_test, scorer=base_scorer)"
   ]
  },
  {
   "cell_type": "markdown",
   "metadata": {},
   "source": [
    "*Hyperparam tuning*"
   ]
  },
  {
   "cell_type": "code",
   "execution_count": 214,
   "metadata": {},
   "outputs": [
    {
     "name": "stdout",
     "output_type": "stream",
     "text": [
      "Best Parameters:\n"
     ]
    },
    {
     "data": {
      "text/html": [
       "<div>\n",
       "<style scoped>\n",
       "    .dataframe tbody tr th:only-of-type {\n",
       "        vertical-align: middle;\n",
       "    }\n",
       "\n",
       "    .dataframe tbody tr th {\n",
       "        vertical-align: top;\n",
       "    }\n",
       "\n",
       "    .dataframe thead th {\n",
       "        text-align: right;\n",
       "    }\n",
       "</style>\n",
       "<table border=\"1\" class=\"dataframe\">\n",
       "  <thead>\n",
       "    <tr style=\"text-align: right;\">\n",
       "      <th></th>\n",
       "      <th>multinomial_logistic_regression__C</th>\n",
       "    </tr>\n",
       "  </thead>\n",
       "  <tbody>\n",
       "    <tr>\n",
       "      <th>0</th>\n",
       "      <td>0.1</td>\n",
       "    </tr>\n",
       "  </tbody>\n",
       "</table>\n",
       "</div>"
      ],
      "text/plain": [
       "   multinomial_logistic_regression__C\n",
       "0                                 0.1"
      ]
     },
     "metadata": {},
     "output_type": "display_data"
    },
    {
     "name": "stdout",
     "output_type": "stream",
     "text": [
      "---------------------\n",
      "Using best parameters\n",
      "---------------------\n",
      "Train Score: 86.400 %\n",
      "Mean CV Train Score: 82.800 % ( +- 6.500 % )\n",
      "Test Score: 84.200 %\n"
     ]
    }
   ],
   "source": [
    "# set up param grid\n",
    "param_grid_mlr = {\n",
    "    'multinomial_logistic_regression__C': [0.001, 0.01, 0.1, 1, 10, 100], # default = 1 (moderate)\n",
    "}\n",
    "\n",
    "# Create and fit GridSearchCV object on train data\n",
    "grid_search_mlr = GridSearchCV(pipeline_mlr, param_grid=param_grid_mlr, scoring=custom_scorer, cv=cv_mlr, n_jobs=-1)\n",
    "grid_search_mlr.fit(X_train, y_train)\n",
    "\n",
    "settings.hyperparam_tune_summary(grid_search_mlr, X_train, y_train, X_test, y_test, scorer=base_scorer)\n"
   ]
  },
  {
   "cell_type": "code",
   "execution_count": 221,
   "metadata": {},
   "outputs": [
    {
     "name": "stdout",
     "output_type": "stream",
     "text": [
      "Train Score: 85.200 %\n",
      "Mean CV Train Score: 83.200 % ( +- 8.100 % )\n",
      "Test Score: 85.400 %\n"
     ]
    }
   ],
   "source": [
    "# Refine model\n",
    "model_mlr = grid_search_mlr.best_estimator_.named_steps['multinomial_logistic_regression']\n",
    "\n",
    "# instantiate SMOTENC object with categorical indicies of transformed X_train dataset\n",
    "categorical_features = [1, 2, 3, 4, 5, 6, 7, 8, 9, 10, 11, 12, 13, 14, 15, 16, 17, 18, 19, 20]\n",
    "smote_nc = SMOTENC(categorical_features=categorical_features, random_state=42)\n",
    "\n",
    "# Set up pipeline using imblearn's Pipeline class (SMOTE not compatible with sklearn's Pipeline)\n",
    "# Reuse model with tuned hyperparameters\n",
    "steps = [('column_trans', column_trans), ('smote', smote_nc), ('multinomial_logistic_regression', model_mlr)]\n",
    "pipeline_mlr = Pipeline_imb(steps)\n",
    "\n",
    "# Fit pipeline\n",
    "pipeline_mlr.fit(X_train, y_train)\n",
    "\n",
    "# predict on pipeline (train)\n",
    "y_pred_train = pipeline_mlr.predict(X_train)\n",
    "\n",
    "# score pipeline on train\n",
    "train_score = base_scorer(y_train, y_pred_train)\n",
    "print('Train Score:', settings.score_formatter(train_score, 3))\n",
    "\n",
    "# run training cross validation on pipeline \n",
    "cv_scores = cross_val_score(pipeline_mlr, X_train, y_train, scoring=custom_scorer, cv=cv_mlr)\n",
    "\n",
    "print('Mean CV Train Score:', settings.score_formatter(np.mean(cv_scores), 3),\n",
    "        \"( +-\", settings.score_formatter(np.std(cv_scores), 3), \")\")\n",
    "\n",
    "# extract model (remove smote for test) and produce test score \n",
    "model_mlr = pipeline_mlr.named_steps['multinomial_logistic_regression']\n",
    "\n",
    "# transform X_test to be preprocessed\n",
    "transformed_X_test_array = column_trans.transform(X_test)\n",
    "\n",
    "# predict on pipeline (train)\n",
    "y_pred_test = model_mlr.predict(transformed_X_test_array)\n",
    "\n",
    "# score pipeline on test\n",
    "test_score = base_scorer(y_test, y_pred_test)\n",
    "print('Test Score:', settings.score_formatter(test_score, 3))\n"
   ]
  },
  {
   "cell_type": "markdown",
   "metadata": {},
   "source": [
    "<div style=\"border-radius:10px; border:#DEB887 solid; padding: 15px; background-color: #FFFAF0; font-size:100%; text-align:left; max-width: 1050px; margin: 0 auto; color: #444444;\">\n",
    "\n",
    "<h3 align=\"left\"><font color='#DEB887'>💡 Insights:</font></h3>\n",
    "\n",
    "<ul>\n",
    "    <li>Age binning doesn't improve on best model</li>\n",
    "</ul>\n",
    "</div>\n"
   ]
  },
  {
   "cell_type": "markdown",
   "metadata": {},
   "source": [
    "*Dropping highly correlated features (all in one cell due to need for loop)*"
   ]
  },
  {
   "cell_type": "code",
   "execution_count": 241,
   "metadata": {},
   "outputs": [
    {
     "name": "stdout",
     "output_type": "stream",
     "text": [
      "\n",
      "\n",
      "\n",
      "#################################################\n",
      "Dopping: ['Quality of Sleep', 'Stress Level']\n",
      "#################################################\n"
     ]
    },
    {
     "data": {
      "text/plain": [
       "'BASELINE SCORES:'"
      ]
     },
     "metadata": {},
     "output_type": "display_data"
    },
    {
     "name": "stdout",
     "output_type": "stream",
     "text": [
      "Train Score: 89.200 %\n",
      "Mean CV Train Score: 83.7700 % ( +- 5.800 % )\n",
      "Test Score: 87.200 %\n"
     ]
    },
    {
     "data": {
      "text/plain": [
       "'\\nTUNED SCORES:'"
      ]
     },
     "metadata": {},
     "output_type": "display_data"
    },
    {
     "name": "stdout",
     "output_type": "stream",
     "text": [
      "Best Parameters:\n"
     ]
    },
    {
     "data": {
      "text/html": [
       "<div>\n",
       "<style scoped>\n",
       "    .dataframe tbody tr th:only-of-type {\n",
       "        vertical-align: middle;\n",
       "    }\n",
       "\n",
       "    .dataframe tbody tr th {\n",
       "        vertical-align: top;\n",
       "    }\n",
       "\n",
       "    .dataframe thead th {\n",
       "        text-align: right;\n",
       "    }\n",
       "</style>\n",
       "<table border=\"1\" class=\"dataframe\">\n",
       "  <thead>\n",
       "    <tr style=\"text-align: right;\">\n",
       "      <th></th>\n",
       "      <th>multinomial_logistic_regression__C</th>\n",
       "    </tr>\n",
       "  </thead>\n",
       "  <tbody>\n",
       "    <tr>\n",
       "      <th>0</th>\n",
       "      <td>1</td>\n",
       "    </tr>\n",
       "  </tbody>\n",
       "</table>\n",
       "</div>"
      ],
      "text/plain": [
       "   multinomial_logistic_regression__C\n",
       "0                                   1"
      ]
     },
     "metadata": {},
     "output_type": "display_data"
    },
    {
     "name": "stdout",
     "output_type": "stream",
     "text": [
      "---------------------\n",
      "Using best parameters\n",
      "---------------------\n",
      "Train Score: 87.300 %\n",
      "Mean CV Train Score: 85.000 % ( +- 6.900 % )\n",
      "Test Score: 87.200 %\n"
     ]
    },
    {
     "data": {
      "text/plain": [
       "'\\nSMOTE SCORES:'"
      ]
     },
     "metadata": {},
     "output_type": "display_data"
    },
    {
     "name": "stdout",
     "output_type": "stream",
     "text": [
      "Train Score: 87.300 %\n",
      "Mean CV Train Score: 83.000 % ( +- 7.400 % )\n",
      "Test Score: 85.400 %\n",
      "\n",
      "\n",
      "\n",
      "#################################################\n",
      "Dopping: ['Quality of Sleep', 'Sleep Duration']\n",
      "#################################################\n"
     ]
    },
    {
     "data": {
      "text/plain": [
       "'BASELINE SCORES:'"
      ]
     },
     "metadata": {},
     "output_type": "display_data"
    },
    {
     "name": "stdout",
     "output_type": "stream",
     "text": [
      "Train Score: 87.300 %\n",
      "Mean CV Train Score: 83.4200 % ( +- 6.300 % )\n",
      "Test Score: 86.300 %\n"
     ]
    },
    {
     "data": {
      "text/plain": [
       "'\\nTUNED SCORES:'"
      ]
     },
     "metadata": {},
     "output_type": "display_data"
    },
    {
     "name": "stdout",
     "output_type": "stream",
     "text": [
      "Best Parameters:\n"
     ]
    },
    {
     "data": {
      "text/html": [
       "<div>\n",
       "<style scoped>\n",
       "    .dataframe tbody tr th:only-of-type {\n",
       "        vertical-align: middle;\n",
       "    }\n",
       "\n",
       "    .dataframe tbody tr th {\n",
       "        vertical-align: top;\n",
       "    }\n",
       "\n",
       "    .dataframe thead th {\n",
       "        text-align: right;\n",
       "    }\n",
       "</style>\n",
       "<table border=\"1\" class=\"dataframe\">\n",
       "  <thead>\n",
       "    <tr style=\"text-align: right;\">\n",
       "      <th></th>\n",
       "      <th>multinomial_logistic_regression__C</th>\n",
       "    </tr>\n",
       "  </thead>\n",
       "  <tbody>\n",
       "    <tr>\n",
       "      <th>0</th>\n",
       "      <td>10</td>\n",
       "    </tr>\n",
       "  </tbody>\n",
       "</table>\n",
       "</div>"
      ],
      "text/plain": [
       "   multinomial_logistic_regression__C\n",
       "0                                  10"
      ]
     },
     "metadata": {},
     "output_type": "display_data"
    },
    {
     "name": "stdout",
     "output_type": "stream",
     "text": [
      "---------------------\n",
      "Using best parameters\n",
      "---------------------\n",
      "Train Score: 89.200 %\n",
      "Mean CV Train Score: 83.400 % ( +- 6.600 % )\n",
      "Test Score: 86.300 %\n"
     ]
    },
    {
     "data": {
      "text/plain": [
       "'\\nSMOTE SCORES:'"
      ]
     },
     "metadata": {},
     "output_type": "display_data"
    },
    {
     "name": "stdout",
     "output_type": "stream",
     "text": [
      "Train Score: 88.300 %\n",
      "Mean CV Train Score: 81.700 % ( +- 6.400 % )\n",
      "Test Score: 87.500 %\n",
      "\n",
      "\n",
      "\n",
      "#################################################\n",
      "Dopping: ['Stress Level', 'Sleep Duration']\n",
      "#################################################\n"
     ]
    },
    {
     "data": {
      "text/plain": [
       "'BASELINE SCORES:'"
      ]
     },
     "metadata": {},
     "output_type": "display_data"
    },
    {
     "name": "stdout",
     "output_type": "stream",
     "text": [
      "Train Score: 87.300 %\n",
      "Mean CV Train Score: 83.7400 % ( +- 6.600 % )\n",
      "Test Score: 86.300 %\n"
     ]
    },
    {
     "data": {
      "text/plain": [
       "'\\nTUNED SCORES:'"
      ]
     },
     "metadata": {},
     "output_type": "display_data"
    },
    {
     "name": "stdout",
     "output_type": "stream",
     "text": [
      "Best Parameters:\n"
     ]
    },
    {
     "data": {
      "text/html": [
       "<div>\n",
       "<style scoped>\n",
       "    .dataframe tbody tr th:only-of-type {\n",
       "        vertical-align: middle;\n",
       "    }\n",
       "\n",
       "    .dataframe tbody tr th {\n",
       "        vertical-align: top;\n",
       "    }\n",
       "\n",
       "    .dataframe thead th {\n",
       "        text-align: right;\n",
       "    }\n",
       "</style>\n",
       "<table border=\"1\" class=\"dataframe\">\n",
       "  <thead>\n",
       "    <tr style=\"text-align: right;\">\n",
       "      <th></th>\n",
       "      <th>multinomial_logistic_regression__C</th>\n",
       "    </tr>\n",
       "  </thead>\n",
       "  <tbody>\n",
       "    <tr>\n",
       "      <th>0</th>\n",
       "      <td>1</td>\n",
       "    </tr>\n",
       "  </tbody>\n",
       "</table>\n",
       "</div>"
      ],
      "text/plain": [
       "   multinomial_logistic_regression__C\n",
       "0                                   1"
      ]
     },
     "metadata": {},
     "output_type": "display_data"
    },
    {
     "name": "stdout",
     "output_type": "stream",
     "text": [
      "---------------------\n",
      "Using best parameters\n",
      "---------------------\n",
      "Train Score: 86.400 %\n",
      "Mean CV Train Score: 84.300 % ( +- 6.600 % )\n",
      "Test Score: 84.200 %\n"
     ]
    },
    {
     "data": {
      "text/plain": [
       "'\\nSMOTE SCORES:'"
      ]
     },
     "metadata": {},
     "output_type": "display_data"
    },
    {
     "name": "stdout",
     "output_type": "stream",
     "text": [
      "Train Score: 87.300 %\n",
      "Mean CV Train Score: 81.800 % ( +- 6.800 % )\n",
      "Test Score: 86.300 %\n"
     ]
    }
   ],
   "source": [
    "# Sample list\n",
    "drop_list = [\"Quality of Sleep\", \"Stress Level\", \"Sleep Duration\"]\n",
    "\n",
    "# Generate all possible pairs\n",
    "all_pairs = list(combinations(drop_list, 2))\n",
    "\n",
    "# Convert to list for filtering columns in dataframe\n",
    "all_pairs = [list(pair) for pair in all_pairs]\n",
    "\n",
    "# Run through baseline, hypertune and SMOTE per loop\n",
    "for pair in all_pairs:\n",
    "    \n",
    "    print(\"\\n\\n\\n#################################################\")\n",
    "    print(f\"Dopping: {pair}\")\n",
    "    print(\"#################################################\")\n",
    "\n",
    "    X = df[settings.ALL_FEATURES]\n",
    "    X = X.drop(pair, axis=1)\n",
    "\n",
    "    # split data\n",
    "    X_train, X_test, y_train, y_test = train_test_split(X, y, test_size=0.3, random_state=42, stratify=y)\n",
    "\n",
    "    # Encode y vector \n",
    "    map = {\"None\":0, \"Sleep Apnea\":1, \"Insomnia\":2}\n",
    "    # apply mapping function\n",
    "    settings.column_mapper(y_train, \"Sleep Disorder\", map)\n",
    "    settings.column_mapper(y_test, \"Sleep Disorder\", map)\n",
    "\n",
    "    # reshape labels to 1-D array (vector) \n",
    "    y_train, y_test = y_train.values.reshape(-1), y_test.values.reshape(-1)\n",
    "\n",
    "    # Create a column transformer for ohe and scaling\n",
    "    column_trans = ColumnTransformer(\n",
    "        transformers=[\n",
    "            ('onehot', OneHotEncoder(handle_unknown='ignore'), X_train.select_dtypes(include=['object']).columns),\n",
    "            ('scale', StandardScaler(), X_train.select_dtypes(include=['float64', 'int64']).columns)\n",
    "        ],\n",
    "        remainder='passthrough')\n",
    "        \n",
    "    # create model\n",
    "    model_mlr = LogisticRegression(multi_class='multinomial', max_iter=1000, C=3, random_state=42)\n",
    "\n",
    "    # create sklearn pipeline\n",
    "    pipeline_mlr = settings.create_pipeline([\"preprocess\", column_trans], [\"multinomial_logistic_regression\", model_mlr])\n",
    "\n",
    "    # create cross validation object for cross_val_score\n",
    "    cv_mlr = RepeatedStratifiedKFold(n_splits=5, n_repeats=3, random_state=42)\n",
    "\n",
    "    # run training cross validation on pipeline \n",
    "    cv_scores = cross_val_score(pipeline_mlr, X_train, y_train, scoring=custom_scorer, cv=cv_mlr)\n",
    "\n",
    "    display('BASELINE SCORES:')\n",
    "    settings.cross_val_summary(pipeline_mlr, cv_scores, X_train, y_train, X_test, y_test, scorer=base_scorer)\n",
    "\n",
    "    # set up param grid\n",
    "    param_grid_mlr = {\n",
    "    'multinomial_logistic_regression__C': [0.001, 0.01, 0.1, 1, 10, 100], # default = 1 (moderate)\n",
    "    }\n",
    "\n",
    "    # Create and fit GridSearchCV object on train data\n",
    "    grid_search_mlr = GridSearchCV(pipeline_mlr, param_grid=param_grid_mlr, scoring=custom_scorer, cv=cv_mlr, n_jobs=-1)\n",
    "    grid_search_mlr.fit(X_train, y_train)\n",
    "\n",
    "    display(\"\\nTUNED SCORES:\")\n",
    "    settings.hyperparam_tune_summary(grid_search_mlr, X_train, y_train, X_test, y_test, scorer=base_scorer)\n",
    "\n",
    "    # Refine model\n",
    "    model_mlr = grid_search_mlr.best_estimator_.named_steps['multinomial_logistic_regression']\n",
    "\n",
    "    # instantiate SMOTENC object with categorical indicies of transformed X_train dataset\n",
    "    categorical_features = [1, 2, 3, 4, 5, 6, 7, 8, 9, 10, 11, 12, 13, 14, 15, 16, 17, 18, 19, 20]\n",
    "    smote_nc = SMOTENC(categorical_features=categorical_features, random_state=42)\n",
    "\n",
    "    # Set up pipeline using imblearn's Pipeline class (SMOTE not compatible with sklearn's Pipeline)\n",
    "    # Reuse model with tuned hyperparameters\n",
    "    steps = [('column_trans', column_trans), ('smote', smote_nc), ('multinomial_logistic_regression', model_mlr)]\n",
    "    pipeline_mlr = Pipeline_imb(steps)\n",
    "\n",
    "    # Fit pipeline\n",
    "    pipeline_mlr.fit(X_train, y_train)\n",
    "\n",
    "    # predict on pipeline (train)\n",
    "    y_pred_train = pipeline_mlr.predict(X_train)\n",
    "    \n",
    "    display(\"SMOTE SCORES:\")\n",
    "\n",
    "    # score pipeline on train\n",
    "    train_score = base_scorer(y_train, y_pred_train)\n",
    "    print('Train Score:', settings.score_formatter(train_score, 3))\n",
    "\n",
    "    # run training cross validation on pipeline \n",
    "    cv_scores = cross_val_score(pipeline_mlr, X_train, y_train, scoring=custom_scorer, cv=cv_mlr)\n",
    "\n",
    "    print('Mean CV Train Score:', settings.score_formatter(np.mean(cv_scores), 3),\n",
    "            \"( +-\", settings.score_formatter(np.std(cv_scores), 3), \")\")\n",
    "\n",
    "    # extract model (remove smote for test) and produce test score \n",
    "    model_mlr = pipeline_mlr.named_steps['multinomial_logistic_regression']\n",
    "\n",
    "    # transform X_test to be preprocessed\n",
    "    transformed_X_test_array = column_trans.transform(X_test)\n",
    "\n",
    "    # predict on pipeline (train)\n",
    "    y_pred_test = model_mlr.predict(transformed_X_test_array)\n",
    "\n",
    "    # score pipeline on test\n",
    "    test_score = base_scorer(y_test, y_pred_test)\n",
    "    print('Test Score:', settings.score_formatter(test_score, 3))\n"
   ]
  },
  {
   "cell_type": "markdown",
   "metadata": {},
   "source": [
    "<div style=\"border-radius:10px; border:#DEB887 solid; padding: 15px; background-color: #FFFAF0; font-size:100%; text-align:left; max-width: 1050px; margin: 0 auto; color: #444444;\">\n",
    "\n",
    "<h3 align=\"left\"><font color='#DEB887'>💡 Insights:</font></h3>\n",
    "\n",
    "<ul>\n",
    "    <li>Dropping ['Quality of Sleep', 'Sleep Duration'] suggests a slightly improvement in test score. This warrents a further look.</li>\n",
    "</ul>\n",
    "</div>\n"
   ]
  },
  {
   "cell_type": "code",
   "execution_count": 245,
   "metadata": {},
   "outputs": [
    {
     "name": "stdout",
     "output_type": "stream",
     "text": [
      "\n",
      "Classification Report:\n",
      "               precision    recall  f1-score   support\n",
      "\n",
      "           0       0.98      0.95      0.97        66\n",
      "           1       0.79      0.92      0.85        24\n",
      "           2       0.95      0.87      0.91        23\n",
      "\n",
      "    accuracy                           0.93       113\n",
      "   macro avg       0.91      0.91      0.91       113\n",
      "weighted avg       0.94      0.93      0.93       113\n",
      "\n"
     ]
    },
    {
     "data": {
      "image/png": "[encoded data removed]",
      "text/plain": [
       "<Figure size 600x400 with 2 Axes>"
      ]
     },
     "metadata": {},
     "output_type": "display_data"
    }
   ],
   "source": [
    "X = df[settings.ALL_FEATURES]\n",
    "X = X.drop(['Quality of Sleep', 'Sleep Duration'], axis=1)\n",
    "\n",
    "# split data\n",
    "X_train, X_test, y_train, y_test = train_test_split(X, y, test_size=0.3, random_state=42, stratify=y)\n",
    "\n",
    "# Encode y vector \n",
    "map = {\"None\":0, \"Sleep Apnea\":1, \"Insomnia\":2}\n",
    "# apply mapping function\n",
    "settings.column_mapper(y_train, \"Sleep Disorder\", map)\n",
    "settings.column_mapper(y_test, \"Sleep Disorder\", map)\n",
    "\n",
    "# reshape labels to 1-D array (vector) \n",
    "y_train, y_test = y_train.values.reshape(-1), y_test.values.reshape(-1)\n",
    "\n",
    "# create model\n",
    "model_mlr = LogisticRegression(multi_class='multinomial', max_iter=1000, C=3, random_state=42)\n",
    "\n",
    "# create sklearn pipeline\n",
    "pipeline_mlr = settings.create_pipeline([\"preprocess\", column_trans], [\"multinomial_logistic_regression\", model_mlr])\n",
    "\n",
    "# set up param grid\n",
    "param_grid_mlr = {\n",
    "'multinomial_logistic_regression__C': [0.001, 0.01, 0.1, 1, 10, 100], # default = 1 (moderate)\n",
    "}\n",
    "\n",
    "# Create and fit GridSearchCV object on train data\n",
    "grid_search_mlr = GridSearchCV(pipeline_mlr, param_grid=param_grid_mlr, scoring=custom_scorer, cv=cv_mlr, n_jobs=-1)\n",
    "grid_search_mlr.fit(X_train, y_train)\n",
    "\n",
    "# Refine model\n",
    "model_mlr = grid_search_mlr.best_estimator_.named_steps['multinomial_logistic_regression']\n",
    "\n",
    "# instantiate SMOTENC object with categorical indicies of transformed X_train dataset\n",
    "categorical_features = [1, 2, 3, 4, 5, 6, 7, 8, 9, 10, 11, 12, 13, 14, 15, 16, 17, 18, 19, 20]\n",
    "smote_nc = SMOTENC(categorical_features=categorical_features, random_state=42)\n",
    "\n",
    "# Set up pipeline using imblearn's Pipeline class (SMOTE not compatible with sklearn's Pipeline)\n",
    "# Reuse model with tuned hyperparameters\n",
    "steps = [('column_trans', column_trans), ('smote', smote_nc), ('multinomial_logistic_regression', model_mlr)]\n",
    "pipeline_mlr = Pipeline_imb(steps)\n",
    "\n",
    "# Fit pipeline\n",
    "pipeline_mlr.fit(X_train, y_train)\n",
    "\n",
    "# extract model (remove smote for test) and produce test score \n",
    "model_mlr = pipeline_mlr.named_steps['multinomial_logistic_regression']\n",
    "\n",
    "# transform X_test to be preprocessed\n",
    "transformed_X_test_array = column_trans.transform(X_test)\n",
    "\n",
    "# predict on pipeline (train)\n",
    "y_pred_test = model_mlr.predict(transformed_X_test_array)\n",
    "\n",
    "# generate classification report\n",
    "class_report = classification_report(y_test, y_pred_test)\n",
    "print(\"\\nClassification Report:\\n\", class_report)\n",
    "\n",
    "# Generate confusion matrix\n",
    "class_labels = [\"None\",\"Apnea\",\"Insomnia\"]\n",
    "conf_matrix = confusion_matrix(y_test, y_pred_test)\n",
    "\n",
    "# plot visuals\n",
    "settings.plot_conf_matrix(class_labels, conf_matrix)\n"
   ]
  },
  {
   "cell_type": "markdown",
   "metadata": {},
   "source": [
    "<div style=\"border-radius:10px; border:#DEB887 solid; padding: 15px; background-color: #FFFAF0; font-size:100%; text-align:left; max-width: 1050px; margin: 0 auto; color: #444444;\">\n",
    "\n",
    "<h3 align=\"left\"><font color='#DEB887'>💡 Insights:</font></h3>\n",
    "\n",
    "<ul>\n",
    "    <li>There is an interesting precision - accuracy trade off for in this improvement: model has made one less mistake where it classified an Insomnia sample incorrectly as an Apnea sample. Hense Insomnia recall has improved, one of the goals since the baseline model. However, the precision of the Apnea class has decreased simultaniously: two None samples have been newly predicted as Apnea, counteracting the improvement. The F1 score is marginally higher in this new configuration but the precision of Apnea has fallen below 80% for the first time. This more extreme distribution of precision and recall scores within the F1 score is not desirable and won't be considered an improvement on the model.</li>\n",
    "</ul>\n",
    "</div>\n"
   ]
  }
 ],
 "metadata": {
  "kernelspec": {
   "display_name": "base",
   "language": "python",
   "name": "python3"
  },
  "language_info": {
   "codemirror_mode": {
    "name": "ipython",
    "version": 3
   },
   "file_extension": ".py",
   "mimetype": "text/x-python",
   "name": "python",
   "nbconvert_exporter": "python",
   "pygments_lexer": "ipython3",
   "version": "3.9.13"
  },
  "orig_nbformat": 4
 },
 "nbformat": 4,
 "nbformat_minor": 2
}
